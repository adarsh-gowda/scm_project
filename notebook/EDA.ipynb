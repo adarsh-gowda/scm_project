{
 "cells": [
  {
   "cell_type": "markdown",
   "metadata": {},
   "source": [
    "# Shipment Pricing Prediction\n"
   ]
  },
  {
   "cell_type": "markdown",
   "metadata": {},
   "source": [
    "### 1) Problem Statement\n",
    "*  The market for supply chain analytics is expected to develop at a CAGR of 17.3 percent \n",
    "from 2019 to 2024, more than doubling in size. This data demonstrates how supply \n",
    "chain organizations are understanding the advantages of being able to predict what will \n",
    "happen in the future with a decent degree of certainty. Supply chain leaders may use \n",
    "this data to address supply chain difficulties, cut costs, and enhance service levels all at \n",
    "the same time.\n",
    "* The main goal is to predict the supply chain shipment pricing based on the available \n",
    "factors in the dataset.\n",
    "\n"
   ]
  },
  {
   "cell_type": "markdown",
   "metadata": {},
   "source": [
    "### 2) Data Set\n",
    "* Dataset - https://www.kaggle.com/divyeshardeshana/supply-chain-shipment-pricing-data\n",
    "* The Data consists of 33 columns and 10324 rows"
   ]
  },
  {
   "cell_type": "markdown",
   "metadata": {},
   "source": [
    "### 3 Import Data and Required Packages\n",
    "#### Importing Pandas, Numpy, Matplotlib, Seaborn and Warings Library."
   ]
  },
  {
   "cell_type": "code",
   "execution_count": 629,
   "metadata": {},
   "outputs": [],
   "source": [
    "import numpy as np\n",
    "import pandas as pd\n",
    "import seaborn as sns\n",
    "import matplotlib.pyplot as plt\n",
    "%matplotlib inline\n",
    "import warnings\n",
    "warnings.filterwarnings('ignore')"
   ]
  },
  {
   "cell_type": "code",
   "execution_count": 630,
   "metadata": {},
   "outputs": [],
   "source": [
    "df = pd.read_csv(\"Data\\SCMS_Delivery_History_Dataset.csv\")"
   ]
  },
  {
   "cell_type": "code",
   "execution_count": 631,
   "metadata": {},
   "outputs": [
    {
     "data": {
      "text/html": [
       "<div>\n",
       "<style scoped>\n",
       "    .dataframe tbody tr th:only-of-type {\n",
       "        vertical-align: middle;\n",
       "    }\n",
       "\n",
       "    .dataframe tbody tr th {\n",
       "        vertical-align: top;\n",
       "    }\n",
       "\n",
       "    .dataframe thead th {\n",
       "        text-align: right;\n",
       "    }\n",
       "</style>\n",
       "<table border=\"1\" class=\"dataframe\">\n",
       "  <thead>\n",
       "    <tr style=\"text-align: right;\">\n",
       "      <th></th>\n",
       "      <th>ID</th>\n",
       "      <th>Project Code</th>\n",
       "      <th>PQ #</th>\n",
       "      <th>PO / SO #</th>\n",
       "      <th>ASN/DN #</th>\n",
       "      <th>Country</th>\n",
       "      <th>Managed By</th>\n",
       "      <th>Fulfill Via</th>\n",
       "      <th>Vendor INCO Term</th>\n",
       "      <th>Shipment Mode</th>\n",
       "      <th>...</th>\n",
       "      <th>Unit of Measure (Per Pack)</th>\n",
       "      <th>Line Item Quantity</th>\n",
       "      <th>Line Item Value</th>\n",
       "      <th>Pack Price</th>\n",
       "      <th>Unit Price</th>\n",
       "      <th>Manufacturing Site</th>\n",
       "      <th>First Line Designation</th>\n",
       "      <th>Weight (Kilograms)</th>\n",
       "      <th>Freight Cost (USD)</th>\n",
       "      <th>Line Item Insurance (USD)</th>\n",
       "    </tr>\n",
       "  </thead>\n",
       "  <tbody>\n",
       "    <tr>\n",
       "      <th>0</th>\n",
       "      <td>1</td>\n",
       "      <td>100-CI-T01</td>\n",
       "      <td>Pre-PQ Process</td>\n",
       "      <td>SCMS-4</td>\n",
       "      <td>ASN-8</td>\n",
       "      <td>C?e d'Ivoire</td>\n",
       "      <td>PMO - US</td>\n",
       "      <td>Direct Drop</td>\n",
       "      <td>EXW</td>\n",
       "      <td>Air</td>\n",
       "      <td>...</td>\n",
       "      <td>30</td>\n",
       "      <td>19</td>\n",
       "      <td>551.0</td>\n",
       "      <td>29.0</td>\n",
       "      <td>0.97</td>\n",
       "      <td>Ranbaxy Fine Chemicals LTD</td>\n",
       "      <td>Yes</td>\n",
       "      <td>13</td>\n",
       "      <td>780.34</td>\n",
       "      <td>NaN</td>\n",
       "    </tr>\n",
       "    <tr>\n",
       "      <th>1</th>\n",
       "      <td>3</td>\n",
       "      <td>108-VN-T01</td>\n",
       "      <td>Pre-PQ Process</td>\n",
       "      <td>SCMS-13</td>\n",
       "      <td>ASN-85</td>\n",
       "      <td>Vietnam</td>\n",
       "      <td>PMO - US</td>\n",
       "      <td>Direct Drop</td>\n",
       "      <td>EXW</td>\n",
       "      <td>Air</td>\n",
       "      <td>...</td>\n",
       "      <td>240</td>\n",
       "      <td>1000</td>\n",
       "      <td>6200.0</td>\n",
       "      <td>6.2</td>\n",
       "      <td>0.03</td>\n",
       "      <td>Aurobindo Unit III, India</td>\n",
       "      <td>Yes</td>\n",
       "      <td>358</td>\n",
       "      <td>4521.5</td>\n",
       "      <td>NaN</td>\n",
       "    </tr>\n",
       "    <tr>\n",
       "      <th>2</th>\n",
       "      <td>4</td>\n",
       "      <td>100-CI-T01</td>\n",
       "      <td>Pre-PQ Process</td>\n",
       "      <td>SCMS-20</td>\n",
       "      <td>ASN-14</td>\n",
       "      <td>C?e d'Ivoire</td>\n",
       "      <td>PMO - US</td>\n",
       "      <td>Direct Drop</td>\n",
       "      <td>FCA</td>\n",
       "      <td>Air</td>\n",
       "      <td>...</td>\n",
       "      <td>100</td>\n",
       "      <td>500</td>\n",
       "      <td>40000.0</td>\n",
       "      <td>80.0</td>\n",
       "      <td>0.80</td>\n",
       "      <td>ABBVIE GmbH &amp; Co.KG Wiesbaden</td>\n",
       "      <td>Yes</td>\n",
       "      <td>171</td>\n",
       "      <td>1653.78</td>\n",
       "      <td>NaN</td>\n",
       "    </tr>\n",
       "  </tbody>\n",
       "</table>\n",
       "<p>3 rows × 33 columns</p>\n",
       "</div>"
      ],
      "text/plain": [
       "   ID Project Code            PQ # PO / SO # ASN/DN #       Country  \\\n",
       "0   1   100-CI-T01  Pre-PQ Process    SCMS-4    ASN-8  C?e d'Ivoire   \n",
       "1   3   108-VN-T01  Pre-PQ Process   SCMS-13   ASN-85       Vietnam   \n",
       "2   4   100-CI-T01  Pre-PQ Process   SCMS-20   ASN-14  C?e d'Ivoire   \n",
       "\n",
       "  Managed By  Fulfill Via Vendor INCO Term Shipment Mode  ...  \\\n",
       "0   PMO - US  Direct Drop              EXW           Air  ...   \n",
       "1   PMO - US  Direct Drop              EXW           Air  ...   \n",
       "2   PMO - US  Direct Drop              FCA           Air  ...   \n",
       "\n",
       "  Unit of Measure (Per Pack) Line Item Quantity Line Item Value Pack Price  \\\n",
       "0                         30                 19           551.0       29.0   \n",
       "1                        240               1000          6200.0        6.2   \n",
       "2                        100                500         40000.0       80.0   \n",
       "\n",
       "  Unit Price             Manufacturing Site First Line Designation  \\\n",
       "0       0.97     Ranbaxy Fine Chemicals LTD                    Yes   \n",
       "1       0.03      Aurobindo Unit III, India                    Yes   \n",
       "2       0.80  ABBVIE GmbH & Co.KG Wiesbaden                    Yes   \n",
       "\n",
       "  Weight (Kilograms) Freight Cost (USD) Line Item Insurance (USD)  \n",
       "0                 13             780.34                       NaN  \n",
       "1                358             4521.5                       NaN  \n",
       "2                171            1653.78                       NaN  \n",
       "\n",
       "[3 rows x 33 columns]"
      ]
     },
     "execution_count": 631,
     "metadata": {},
     "output_type": "execute_result"
    }
   ],
   "source": [
    "df.head(3)"
   ]
  },
  {
   "cell_type": "code",
   "execution_count": 632,
   "metadata": {},
   "outputs": [
    {
     "data": {
      "text/plain": [
       "(10324, 33)"
      ]
     },
     "execution_count": 632,
     "metadata": {},
     "output_type": "execute_result"
    }
   ],
   "source": [
    "df.shape"
   ]
  },
  {
   "cell_type": "markdown",
   "metadata": {},
   "source": [
    "#### 4) Data Checks to perform\n",
    "* Check Missing values\n",
    "* Check Duplicates\n",
    "* Check data type\n",
    "* Check the number of unique values of each column\n",
    "* Check statistics of data set\n",
    "* Check various categories present in the different categorical column"
   ]
  },
  {
   "cell_type": "markdown",
   "metadata": {},
   "source": [
    "4.1 Check Missing values"
   ]
  },
  {
   "cell_type": "code",
   "execution_count": 633,
   "metadata": {},
   "outputs": [
    {
     "data": {
      "text/plain": [
       "ID                                 0\n",
       "Project Code                       0\n",
       "PQ #                               0\n",
       "PO / SO #                          0\n",
       "ASN/DN #                           0\n",
       "Country                            0\n",
       "Managed By                         0\n",
       "Fulfill Via                        0\n",
       "Vendor INCO Term                   0\n",
       "Shipment Mode                    360\n",
       "PQ First Sent to Client Date       0\n",
       "PO Sent to Vendor Date             0\n",
       "Scheduled Delivery Date            0\n",
       "Delivered to Client Date           0\n",
       "Delivery Recorded Date             0\n",
       "Product Group                      0\n",
       "Sub Classification                 0\n",
       "Vendor                             0\n",
       "Item Description                   0\n",
       "Molecule/Test Type                 0\n",
       "Brand                              0\n",
       "Dosage                          1736\n",
       "Dosage Form                        0\n",
       "Unit of Measure (Per Pack)         0\n",
       "Line Item Quantity                 0\n",
       "Line Item Value                    0\n",
       "Pack Price                         0\n",
       "Unit Price                         0\n",
       "Manufacturing Site                 0\n",
       "First Line Designation             0\n",
       "Weight (Kilograms)                 0\n",
       "Freight Cost (USD)                 0\n",
       "Line Item Insurance (USD)        287\n",
       "dtype: int64"
      ]
     },
     "execution_count": 633,
     "metadata": {},
     "output_type": "execute_result"
    }
   ],
   "source": [
    "df.isna().sum()"
   ]
  },
  {
   "cell_type": "code",
   "execution_count": 634,
   "metadata": {},
   "outputs": [
    {
     "data": {
      "text/plain": [
       "Shipment Mode                 360\n",
       "Dosage                       1736\n",
       "Line Item Insurance (USD)     287\n",
       "dtype: int64"
      ]
     },
     "execution_count": 634,
     "metadata": {},
     "output_type": "execute_result"
    }
   ],
   "source": [
    "# Filtering the only columns with Null value\n",
    "nan_counts=df.isna().sum()\n",
    "columns_with_nan = nan_counts[nan_counts > 0]\n",
    "columns_with_nan"
   ]
  },
  {
   "cell_type": "markdown",
   "metadata": {},
   "source": [
    "There are no missing values in the above columns"
   ]
  },
  {
   "cell_type": "markdown",
   "metadata": {},
   "source": [
    "4.2 Check Duplicates"
   ]
  },
  {
   "cell_type": "code",
   "execution_count": 635,
   "metadata": {},
   "outputs": [
    {
     "data": {
      "text/plain": [
       "0"
      ]
     },
     "execution_count": 635,
     "metadata": {},
     "output_type": "execute_result"
    }
   ],
   "source": [
    "df.duplicated().sum()"
   ]
  },
  {
   "cell_type": "markdown",
   "metadata": {},
   "source": [
    "There are no duplicates values in the data set"
   ]
  },
  {
   "cell_type": "markdown",
   "metadata": {},
   "source": [
    "4.3 Check data types"
   ]
  },
  {
   "cell_type": "code",
   "execution_count": 636,
   "metadata": {},
   "outputs": [
    {
     "name": "stdout",
     "output_type": "stream",
     "text": [
      "<class 'pandas.core.frame.DataFrame'>\n",
      "RangeIndex: 10324 entries, 0 to 10323\n",
      "Data columns (total 33 columns):\n",
      " #   Column                        Non-Null Count  Dtype  \n",
      "---  ------                        --------------  -----  \n",
      " 0   ID                            10324 non-null  int64  \n",
      " 1   Project Code                  10324 non-null  object \n",
      " 2   PQ #                          10324 non-null  object \n",
      " 3   PO / SO #                     10324 non-null  object \n",
      " 4   ASN/DN #                      10324 non-null  object \n",
      " 5   Country                       10324 non-null  object \n",
      " 6   Managed By                    10324 non-null  object \n",
      " 7   Fulfill Via                   10324 non-null  object \n",
      " 8   Vendor INCO Term              10324 non-null  object \n",
      " 9   Shipment Mode                 9964 non-null   object \n",
      " 10  PQ First Sent to Client Date  10324 non-null  object \n",
      " 11  PO Sent to Vendor Date        10324 non-null  object \n",
      " 12  Scheduled Delivery Date       10324 non-null  object \n",
      " 13  Delivered to Client Date      10324 non-null  object \n",
      " 14  Delivery Recorded Date        10324 non-null  object \n",
      " 15  Product Group                 10324 non-null  object \n",
      " 16  Sub Classification            10324 non-null  object \n",
      " 17  Vendor                        10324 non-null  object \n",
      " 18  Item Description              10324 non-null  object \n",
      " 19  Molecule/Test Type            10324 non-null  object \n",
      " 20  Brand                         10324 non-null  object \n",
      " 21  Dosage                        8588 non-null   object \n",
      " 22  Dosage Form                   10324 non-null  object \n",
      " 23  Unit of Measure (Per Pack)    10324 non-null  int64  \n",
      " 24  Line Item Quantity            10324 non-null  int64  \n",
      " 25  Line Item Value               10324 non-null  float64\n",
      " 26  Pack Price                    10324 non-null  float64\n",
      " 27  Unit Price                    10324 non-null  float64\n",
      " 28  Manufacturing Site            10324 non-null  object \n",
      " 29  First Line Designation        10324 non-null  object \n",
      " 30  Weight (Kilograms)            10324 non-null  object \n",
      " 31  Freight Cost (USD)            10324 non-null  object \n",
      " 32  Line Item Insurance (USD)     10037 non-null  float64\n",
      "dtypes: float64(4), int64(3), object(26)\n",
      "memory usage: 2.6+ MB\n"
     ]
    }
   ],
   "source": [
    "# Check Null and Dtypes\n",
    "df.info()"
   ]
  },
  {
   "cell_type": "markdown",
   "metadata": {},
   "source": [
    "4.4 Checking the number of unique values of each column\n"
   ]
  },
  {
   "cell_type": "code",
   "execution_count": 637,
   "metadata": {},
   "outputs": [
    {
     "data": {
      "text/plain": [
       "ID                              10324\n",
       "Project Code                      142\n",
       "PQ #                             1237\n",
       "PO / SO #                        6233\n",
       "ASN/DN #                         7030\n",
       "Country                            43\n",
       "Managed By                          4\n",
       "Fulfill Via                         2\n",
       "Vendor INCO Term                    8\n",
       "Shipment Mode                       4\n",
       "PQ First Sent to Client Date      765\n",
       "PO Sent to Vendor Date            897\n",
       "Scheduled Delivery Date          2006\n",
       "Delivered to Client Date         2093\n",
       "Delivery Recorded Date           2042\n",
       "Product Group                       5\n",
       "Sub Classification                  6\n",
       "Vendor                             73\n",
       "Item Description                  184\n",
       "Molecule/Test Type                 86\n",
       "Brand                              48\n",
       "Dosage                             54\n",
       "Dosage Form                        17\n",
       "Unit of Measure (Per Pack)         31\n",
       "Line Item Quantity               5065\n",
       "Line Item Value                  8741\n",
       "Pack Price                       1175\n",
       "Unit Price                        183\n",
       "Manufacturing Site                 88\n",
       "First Line Designation              2\n",
       "Weight (Kilograms)               4688\n",
       "Freight Cost (USD)               6733\n",
       "Line Item Insurance (USD)        6722\n",
       "dtype: int64"
      ]
     },
     "execution_count": 637,
     "metadata": {},
     "output_type": "execute_result"
    }
   ],
   "source": [
    "df.nunique()"
   ]
  },
  {
   "cell_type": "markdown",
   "metadata": {},
   "source": [
    "* We can drop PQ # ,PO / SO # , ASN/DN # ,PQ First Sent to Client Date"
   ]
  },
  {
   "cell_type": "markdown",
   "metadata": {},
   "source": [
    "4.5 Check statistics of data set"
   ]
  },
  {
   "cell_type": "code",
   "execution_count": 638,
   "metadata": {},
   "outputs": [
    {
     "data": {
      "text/html": [
       "<div>\n",
       "<style scoped>\n",
       "    .dataframe tbody tr th:only-of-type {\n",
       "        vertical-align: middle;\n",
       "    }\n",
       "\n",
       "    .dataframe tbody tr th {\n",
       "        vertical-align: top;\n",
       "    }\n",
       "\n",
       "    .dataframe thead th {\n",
       "        text-align: right;\n",
       "    }\n",
       "</style>\n",
       "<table border=\"1\" class=\"dataframe\">\n",
       "  <thead>\n",
       "    <tr style=\"text-align: right;\">\n",
       "      <th></th>\n",
       "      <th>ID</th>\n",
       "      <th>Unit of Measure (Per Pack)</th>\n",
       "      <th>Line Item Quantity</th>\n",
       "      <th>Line Item Value</th>\n",
       "      <th>Pack Price</th>\n",
       "      <th>Unit Price</th>\n",
       "      <th>Line Item Insurance (USD)</th>\n",
       "    </tr>\n",
       "  </thead>\n",
       "  <tbody>\n",
       "    <tr>\n",
       "      <th>count</th>\n",
       "      <td>10324.000000</td>\n",
       "      <td>10324.000000</td>\n",
       "      <td>10324.000000</td>\n",
       "      <td>1.032400e+04</td>\n",
       "      <td>10324.000000</td>\n",
       "      <td>10324.000000</td>\n",
       "      <td>10037.000000</td>\n",
       "    </tr>\n",
       "    <tr>\n",
       "      <th>mean</th>\n",
       "      <td>51098.968229</td>\n",
       "      <td>77.990895</td>\n",
       "      <td>18332.534870</td>\n",
       "      <td>1.576506e+05</td>\n",
       "      <td>21.910241</td>\n",
       "      <td>0.611701</td>\n",
       "      <td>240.117626</td>\n",
       "    </tr>\n",
       "    <tr>\n",
       "      <th>std</th>\n",
       "      <td>31944.332496</td>\n",
       "      <td>76.579764</td>\n",
       "      <td>40035.302961</td>\n",
       "      <td>3.452921e+05</td>\n",
       "      <td>45.609223</td>\n",
       "      <td>3.275808</td>\n",
       "      <td>500.190568</td>\n",
       "    </tr>\n",
       "    <tr>\n",
       "      <th>min</th>\n",
       "      <td>1.000000</td>\n",
       "      <td>1.000000</td>\n",
       "      <td>1.000000</td>\n",
       "      <td>0.000000e+00</td>\n",
       "      <td>0.000000</td>\n",
       "      <td>0.000000</td>\n",
       "      <td>0.000000</td>\n",
       "    </tr>\n",
       "    <tr>\n",
       "      <th>25%</th>\n",
       "      <td>12795.750000</td>\n",
       "      <td>30.000000</td>\n",
       "      <td>408.000000</td>\n",
       "      <td>4.314593e+03</td>\n",
       "      <td>4.120000</td>\n",
       "      <td>0.080000</td>\n",
       "      <td>6.510000</td>\n",
       "    </tr>\n",
       "    <tr>\n",
       "      <th>50%</th>\n",
       "      <td>57540.500000</td>\n",
       "      <td>60.000000</td>\n",
       "      <td>3000.000000</td>\n",
       "      <td>3.047147e+04</td>\n",
       "      <td>9.300000</td>\n",
       "      <td>0.160000</td>\n",
       "      <td>47.040000</td>\n",
       "    </tr>\n",
       "    <tr>\n",
       "      <th>75%</th>\n",
       "      <td>83648.250000</td>\n",
       "      <td>90.000000</td>\n",
       "      <td>17039.750000</td>\n",
       "      <td>1.664471e+05</td>\n",
       "      <td>23.592500</td>\n",
       "      <td>0.470000</td>\n",
       "      <td>252.400000</td>\n",
       "    </tr>\n",
       "    <tr>\n",
       "      <th>max</th>\n",
       "      <td>86823.000000</td>\n",
       "      <td>1000.000000</td>\n",
       "      <td>619999.000000</td>\n",
       "      <td>5.951990e+06</td>\n",
       "      <td>1345.640000</td>\n",
       "      <td>238.650000</td>\n",
       "      <td>7708.440000</td>\n",
       "    </tr>\n",
       "  </tbody>\n",
       "</table>\n",
       "</div>"
      ],
      "text/plain": [
       "                 ID  Unit of Measure (Per Pack)  Line Item Quantity  \\\n",
       "count  10324.000000                10324.000000        10324.000000   \n",
       "mean   51098.968229                   77.990895        18332.534870   \n",
       "std    31944.332496                   76.579764        40035.302961   \n",
       "min        1.000000                    1.000000            1.000000   \n",
       "25%    12795.750000                   30.000000          408.000000   \n",
       "50%    57540.500000                   60.000000         3000.000000   \n",
       "75%    83648.250000                   90.000000        17039.750000   \n",
       "max    86823.000000                 1000.000000       619999.000000   \n",
       "\n",
       "       Line Item Value    Pack Price    Unit Price  Line Item Insurance (USD)  \n",
       "count     1.032400e+04  10324.000000  10324.000000               10037.000000  \n",
       "mean      1.576506e+05     21.910241      0.611701                 240.117626  \n",
       "std       3.452921e+05     45.609223      3.275808                 500.190568  \n",
       "min       0.000000e+00      0.000000      0.000000                   0.000000  \n",
       "25%       4.314593e+03      4.120000      0.080000                   6.510000  \n",
       "50%       3.047147e+04      9.300000      0.160000                  47.040000  \n",
       "75%       1.664471e+05     23.592500      0.470000                 252.400000  \n",
       "max       5.951990e+06   1345.640000    238.650000                7708.440000  "
      ]
     },
     "execution_count": 638,
     "metadata": {},
     "output_type": "execute_result"
    }
   ],
   "source": [
    "df.describe()"
   ]
  },
  {
   "cell_type": "markdown",
   "metadata": {},
   "source": [
    "4.6 Check Numerical and categorical columns"
   ]
  },
  {
   "cell_type": "code",
   "execution_count": 639,
   "metadata": {},
   "outputs": [
    {
     "name": "stdout",
     "output_type": "stream",
     "text": [
      "We have 7 numerical features : ['ID', 'Unit of Measure (Per Pack)', 'Line Item Quantity', 'Line Item Value', 'Pack Price', 'Unit Price', 'Line Item Insurance (USD)']\n",
      "\n",
      "We have 26 categorical features : ['Project Code', 'PQ #', 'PO / SO #', 'ASN/DN #', 'Country', 'Managed By', 'Fulfill Via', 'Vendor INCO Term', 'Shipment Mode', 'PQ First Sent to Client Date', 'PO Sent to Vendor Date', 'Scheduled Delivery Date', 'Delivered to Client Date', 'Delivery Recorded Date', 'Product Group', 'Sub Classification', 'Vendor', 'Item Description', 'Molecule/Test Type', 'Brand', 'Dosage', 'Dosage Form', 'Manufacturing Site', 'First Line Designation', 'Weight (Kilograms)', 'Freight Cost (USD)']\n"
     ]
    }
   ],
   "source": [
    "# define numerical & categorical columns\n",
    "numeric_features = [feature for feature in df.columns if df[feature].dtype != 'O']\n",
    "categorical_features = [feature for feature in df.columns if df[feature].dtype == 'O']\n",
    "\n",
    "# print columns\n",
    "print('We have {} numerical features : {}'.format(len(numeric_features), numeric_features))\n",
    "print('\\nWe have {} categorical features : {}'.format(len(categorical_features), categorical_features))"
   ]
  },
  {
   "cell_type": "markdown",
   "metadata": {},
   "source": [
    "* some numerical variables categorized as categorical variables. example : Weight and Freight Cost"
   ]
  },
  {
   "cell_type": "markdown",
   "metadata": {},
   "source": [
    "5 Data Cleaning and Preprocessing"
   ]
  },
  {
   "cell_type": "code",
   "execution_count": 640,
   "metadata": {},
   "outputs": [],
   "source": [
    "## Replace nan value with mean\n",
    "df['Line Item Insurance (USD)'].fillna(df['Line Item Insurance (USD)'].mean(), inplace=True)"
   ]
  },
  {
   "cell_type": "code",
   "execution_count": 641,
   "metadata": {},
   "outputs": [],
   "source": [
    "## Drop Null values\n",
    "df.dropna(axis=0, inplace=True)"
   ]
  },
  {
   "cell_type": "code",
   "execution_count": 642,
   "metadata": {},
   "outputs": [
    {
     "data": {
      "text/plain": [
       "(8279, 33)"
      ]
     },
     "execution_count": 642,
     "metadata": {},
     "output_type": "execute_result"
    }
   ],
   "source": [
    "df.shape"
   ]
  },
  {
   "cell_type": "code",
   "execution_count": 643,
   "metadata": {},
   "outputs": [],
   "source": [
    "# Clean 'Weight (Kilograms)', 'Freight Cost (USD)' columns\n",
    "import re\n",
    "columns_to_clean = ['Weight (Kilograms)', 'Freight Cost (USD)']\n"
   ]
  },
  {
   "cell_type": "code",
   "execution_count": 644,
   "metadata": {},
   "outputs": [],
   "source": [
    "# Define regular expression patterns for valid numerical values\n",
    "pattern = r'^[-+]?\\d*\\.?\\d+$'"
   ]
  },
  {
   "cell_type": "code",
   "execution_count": 645,
   "metadata": {},
   "outputs": [],
   "source": [
    "# Iterate over the columns and clean the inconsistent values\n",
    "for column in columns_to_clean:\n",
    "    df[column] = df[column].apply(lambda x: re.sub(pattern, '', str(x)) if not re.match(pattern, str(x)) else x)"
   ]
  },
  {
   "cell_type": "code",
   "execution_count": 646,
   "metadata": {},
   "outputs": [],
   "source": [
    "# Convert the columns back to numeric data type\n",
    "df[columns_to_clean] = df[columns_to_clean].apply(pd.to_numeric, errors='coerce')"
   ]
  },
  {
   "cell_type": "code",
   "execution_count": 647,
   "metadata": {},
   "outputs": [],
   "source": [
    "## fill based on ASN/DN\n",
    "mean_value1 = df.groupby('ASN/DN #')['Weight (Kilograms)'].transform('mean')\n",
    "df['Weight (Kilograms)'].fillna(mean_value1, inplace=True)\n",
    "mean_value2 = df.groupby('ASN/DN #')['Freight Cost (USD)'].transform('mean')\n",
    "df['Freight Cost (USD)'].fillna(mean_value2, inplace=True)\n"
   ]
  },
  {
   "cell_type": "code",
   "execution_count": 648,
   "metadata": {},
   "outputs": [
    {
     "data": {
      "text/html": [
       "<div>\n",
       "<style scoped>\n",
       "    .dataframe tbody tr th:only-of-type {\n",
       "        vertical-align: middle;\n",
       "    }\n",
       "\n",
       "    .dataframe tbody tr th {\n",
       "        vertical-align: top;\n",
       "    }\n",
       "\n",
       "    .dataframe thead th {\n",
       "        text-align: right;\n",
       "    }\n",
       "</style>\n",
       "<table border=\"1\" class=\"dataframe\">\n",
       "  <thead>\n",
       "    <tr style=\"text-align: right;\">\n",
       "      <th></th>\n",
       "      <th>ID</th>\n",
       "      <th>Project Code</th>\n",
       "      <th>PQ #</th>\n",
       "      <th>PO / SO #</th>\n",
       "      <th>ASN/DN #</th>\n",
       "      <th>Country</th>\n",
       "      <th>Managed By</th>\n",
       "      <th>Fulfill Via</th>\n",
       "      <th>Vendor INCO Term</th>\n",
       "      <th>Shipment Mode</th>\n",
       "      <th>...</th>\n",
       "      <th>Unit of Measure (Per Pack)</th>\n",
       "      <th>Line Item Quantity</th>\n",
       "      <th>Line Item Value</th>\n",
       "      <th>Pack Price</th>\n",
       "      <th>Unit Price</th>\n",
       "      <th>Manufacturing Site</th>\n",
       "      <th>First Line Designation</th>\n",
       "      <th>Weight (Kilograms)</th>\n",
       "      <th>Freight Cost (USD)</th>\n",
       "      <th>Line Item Insurance (USD)</th>\n",
       "    </tr>\n",
       "  </thead>\n",
       "  <tbody>\n",
       "    <tr>\n",
       "      <th>13</th>\n",
       "      <td>64</td>\n",
       "      <td>107-RW-T01</td>\n",
       "      <td>Pre-PQ Process</td>\n",
       "      <td>SCMS-268</td>\n",
       "      <td>ASN-242</td>\n",
       "      <td>Rwanda</td>\n",
       "      <td>PMO - US</td>\n",
       "      <td>Direct Drop</td>\n",
       "      <td>EXW</td>\n",
       "      <td>Air</td>\n",
       "      <td>...</td>\n",
       "      <td>60</td>\n",
       "      <td>10000</td>\n",
       "      <td>99800.0</td>\n",
       "      <td>9.98</td>\n",
       "      <td>0.17</td>\n",
       "      <td>Cipla, Goa, India</td>\n",
       "      <td>Yes</td>\n",
       "      <td>7416.0</td>\n",
       "      <td>64179.42</td>\n",
       "      <td>240.117626</td>\n",
       "    </tr>\n",
       "    <tr>\n",
       "      <th>140</th>\n",
       "      <td>1299</td>\n",
       "      <td>107-RW-T01</td>\n",
       "      <td>Pre-PQ Process</td>\n",
       "      <td>SCMS-268</td>\n",
       "      <td>ASN-242</td>\n",
       "      <td>Rwanda</td>\n",
       "      <td>PMO - US</td>\n",
       "      <td>Direct Drop</td>\n",
       "      <td>EXW</td>\n",
       "      <td>Air</td>\n",
       "      <td>...</td>\n",
       "      <td>30</td>\n",
       "      <td>71577</td>\n",
       "      <td>1087970.4</td>\n",
       "      <td>15.20</td>\n",
       "      <td>0.51</td>\n",
       "      <td>Cipla, Goa, India</td>\n",
       "      <td>No</td>\n",
       "      <td>7416.0</td>\n",
       "      <td>64179.42</td>\n",
       "      <td>240.117626</td>\n",
       "    </tr>\n",
       "    <tr>\n",
       "      <th>141</th>\n",
       "      <td>1300</td>\n",
       "      <td>107-RW-T01</td>\n",
       "      <td>Pre-PQ Process</td>\n",
       "      <td>SCMS-268</td>\n",
       "      <td>ASN-242</td>\n",
       "      <td>Rwanda</td>\n",
       "      <td>PMO - US</td>\n",
       "      <td>Direct Drop</td>\n",
       "      <td>EXW</td>\n",
       "      <td>Air</td>\n",
       "      <td>...</td>\n",
       "      <td>60</td>\n",
       "      <td>5605</td>\n",
       "      <td>202340.5</td>\n",
       "      <td>36.10</td>\n",
       "      <td>0.60</td>\n",
       "      <td>Cipla, Patalganga, India</td>\n",
       "      <td>No</td>\n",
       "      <td>7416.0</td>\n",
       "      <td>64179.42</td>\n",
       "      <td>240.117626</td>\n",
       "    </tr>\n",
       "  </tbody>\n",
       "</table>\n",
       "<p>3 rows × 33 columns</p>\n",
       "</div>"
      ],
      "text/plain": [
       "       ID Project Code            PQ # PO / SO # ASN/DN # Country Managed By  \\\n",
       "13     64   107-RW-T01  Pre-PQ Process  SCMS-268  ASN-242  Rwanda   PMO - US   \n",
       "140  1299   107-RW-T01  Pre-PQ Process  SCMS-268  ASN-242  Rwanda   PMO - US   \n",
       "141  1300   107-RW-T01  Pre-PQ Process  SCMS-268  ASN-242  Rwanda   PMO - US   \n",
       "\n",
       "     Fulfill Via Vendor INCO Term Shipment Mode  ...  \\\n",
       "13   Direct Drop              EXW           Air  ...   \n",
       "140  Direct Drop              EXW           Air  ...   \n",
       "141  Direct Drop              EXW           Air  ...   \n",
       "\n",
       "    Unit of Measure (Per Pack) Line Item Quantity Line Item Value Pack Price  \\\n",
       "13                          60              10000         99800.0       9.98   \n",
       "140                         30              71577       1087970.4      15.20   \n",
       "141                         60               5605        202340.5      36.10   \n",
       "\n",
       "    Unit Price        Manufacturing Site First Line Designation  \\\n",
       "13        0.17         Cipla, Goa, India                    Yes   \n",
       "140       0.51         Cipla, Goa, India                     No   \n",
       "141       0.60  Cipla, Patalganga, India                     No   \n",
       "\n",
       "    Weight (Kilograms) Freight Cost (USD) Line Item Insurance (USD)  \n",
       "13              7416.0           64179.42                240.117626  \n",
       "140             7416.0           64179.42                240.117626  \n",
       "141             7416.0           64179.42                240.117626  \n",
       "\n",
       "[3 rows x 33 columns]"
      ]
     },
     "execution_count": 648,
     "metadata": {},
     "output_type": "execute_result"
    }
   ],
   "source": [
    "df[df['ASN/DN #'] == \"ASN-242\"]"
   ]
  },
  {
   "cell_type": "code",
   "execution_count": 649,
   "metadata": {},
   "outputs": [
    {
     "data": {
      "text/plain": [
       "ID                                 0\n",
       "Project Code                       0\n",
       "PQ #                               0\n",
       "PO / SO #                          0\n",
       "ASN/DN #                           0\n",
       "Country                            0\n",
       "Managed By                         0\n",
       "Fulfill Via                        0\n",
       "Vendor INCO Term                   0\n",
       "Shipment Mode                      0\n",
       "PQ First Sent to Client Date       0\n",
       "PO Sent to Vendor Date             0\n",
       "Scheduled Delivery Date            0\n",
       "Delivered to Client Date           0\n",
       "Delivery Recorded Date             0\n",
       "Product Group                      0\n",
       "Sub Classification                 0\n",
       "Vendor                             0\n",
       "Item Description                   0\n",
       "Molecule/Test Type                 0\n",
       "Brand                              0\n",
       "Dosage                             0\n",
       "Dosage Form                        0\n",
       "Unit of Measure (Per Pack)         0\n",
       "Line Item Quantity                 0\n",
       "Line Item Value                    0\n",
       "Pack Price                         0\n",
       "Unit Price                         0\n",
       "Manufacturing Site                 0\n",
       "First Line Designation             0\n",
       "Weight (Kilograms)              1371\n",
       "Freight Cost (USD)              1547\n",
       "Line Item Insurance (USD)          0\n",
       "dtype: int64"
      ]
     },
     "execution_count": 649,
     "metadata": {},
     "output_type": "execute_result"
    }
   ],
   "source": [
    "df.isnull().sum()"
   ]
  },
  {
   "cell_type": "code",
   "execution_count": 650,
   "metadata": {},
   "outputs": [],
   "source": [
    "df.dropna(axis=0, inplace=True)"
   ]
  },
  {
   "cell_type": "markdown",
   "metadata": {},
   "source": [
    "Treated every missing value ,inconsistent value and dublicated value"
   ]
  },
  {
   "cell_type": "code",
   "execution_count": 651,
   "metadata": {},
   "outputs": [
    {
     "name": "stdout",
     "output_type": "stream",
     "text": [
      "We have 9 numerical features : ['ID', 'Unit of Measure (Per Pack)', 'Line Item Quantity', 'Line Item Value', 'Pack Price', 'Unit Price', 'Weight (Kilograms)', 'Freight Cost (USD)', 'Line Item Insurance (USD)']\n",
      "\n",
      "We have 24 categorical features : ['Project Code', 'PQ #', 'PO / SO #', 'ASN/DN #', 'Country', 'Managed By', 'Fulfill Via', 'Vendor INCO Term', 'Shipment Mode', 'PQ First Sent to Client Date', 'PO Sent to Vendor Date', 'Scheduled Delivery Date', 'Delivered to Client Date', 'Delivery Recorded Date', 'Product Group', 'Sub Classification', 'Vendor', 'Item Description', 'Molecule/Test Type', 'Brand', 'Dosage', 'Dosage Form', 'Manufacturing Site', 'First Line Designation']\n"
     ]
    }
   ],
   "source": [
    "# define numerical & categorical columns\n",
    "numeric_features = [feature for feature in df.columns if df[feature].dtype != 'O']\n",
    "categorical_features = [feature for feature in df.columns if df[feature].dtype == 'O']\n",
    "\n",
    "# print columns\n",
    "print('We have {} numerical features : {}'.format(len(numeric_features), numeric_features))\n",
    "print('\\nWe have {} categorical features : {}'.format(len(categorical_features), categorical_features))"
   ]
  },
  {
   "cell_type": "code",
   "execution_count": 652,
   "metadata": {},
   "outputs": [],
   "source": [
    "from dateutil.relativedelta import relativedelta\n",
    "df['Scheduled Delivery Date'] = pd.to_datetime(df['Scheduled Delivery Date'])\n",
    "df['Delivery Recorded Date'] = pd.to_datetime(df['Delivery Recorded Date'])\n"
   ]
  },
  {
   "cell_type": "code",
   "execution_count": 653,
   "metadata": {},
   "outputs": [],
   "source": [
    "df['DayToDeliver'] = df.apply(lambda row: relativedelta(row['Delivery Recorded Date'], row['Scheduled Delivery Date']).days, axis=1)"
   ]
  },
  {
   "cell_type": "code",
   "execution_count": 654,
   "metadata": {},
   "outputs": [
    {
     "data": {
      "text/html": [
       "<div>\n",
       "<style scoped>\n",
       "    .dataframe tbody tr th:only-of-type {\n",
       "        vertical-align: middle;\n",
       "    }\n",
       "\n",
       "    .dataframe tbody tr th {\n",
       "        vertical-align: top;\n",
       "    }\n",
       "\n",
       "    .dataframe thead th {\n",
       "        text-align: right;\n",
       "    }\n",
       "</style>\n",
       "<table border=\"1\" class=\"dataframe\">\n",
       "  <thead>\n",
       "    <tr style=\"text-align: right;\">\n",
       "      <th></th>\n",
       "      <th>Scheduled Delivery Date</th>\n",
       "      <th>Delivery Recorded Date</th>\n",
       "      <th>DayToDeliver</th>\n",
       "    </tr>\n",
       "  </thead>\n",
       "  <tbody>\n",
       "    <tr>\n",
       "      <th>1</th>\n",
       "      <td>2006-11-14</td>\n",
       "      <td>2006-11-14</td>\n",
       "      <td>0</td>\n",
       "    </tr>\n",
       "    <tr>\n",
       "      <th>3</th>\n",
       "      <td>2006-09-01</td>\n",
       "      <td>2006-09-01</td>\n",
       "      <td>0</td>\n",
       "    </tr>\n",
       "    <tr>\n",
       "      <th>4</th>\n",
       "      <td>2006-08-11</td>\n",
       "      <td>2006-08-11</td>\n",
       "      <td>0</td>\n",
       "    </tr>\n",
       "    <tr>\n",
       "      <th>5</th>\n",
       "      <td>2006-09-28</td>\n",
       "      <td>2006-09-28</td>\n",
       "      <td>0</td>\n",
       "    </tr>\n",
       "    <tr>\n",
       "      <th>7</th>\n",
       "      <td>2006-11-24</td>\n",
       "      <td>2006-11-24</td>\n",
       "      <td>0</td>\n",
       "    </tr>\n",
       "    <tr>\n",
       "      <th>...</th>\n",
       "      <td>...</td>\n",
       "      <td>...</td>\n",
       "      <td>...</td>\n",
       "    </tr>\n",
       "    <tr>\n",
       "      <th>10316</th>\n",
       "      <td>2015-06-02</td>\n",
       "      <td>2015-05-22</td>\n",
       "      <td>-11</td>\n",
       "    </tr>\n",
       "    <tr>\n",
       "      <th>10317</th>\n",
       "      <td>2015-06-30</td>\n",
       "      <td>2015-06-29</td>\n",
       "      <td>-1</td>\n",
       "    </tr>\n",
       "    <tr>\n",
       "      <th>10318</th>\n",
       "      <td>2015-07-31</td>\n",
       "      <td>2015-07-20</td>\n",
       "      <td>-11</td>\n",
       "    </tr>\n",
       "    <tr>\n",
       "      <th>10319</th>\n",
       "      <td>2015-07-31</td>\n",
       "      <td>2015-07-20</td>\n",
       "      <td>-11</td>\n",
       "    </tr>\n",
       "    <tr>\n",
       "      <th>10320</th>\n",
       "      <td>2015-07-31</td>\n",
       "      <td>2015-08-07</td>\n",
       "      <td>7</td>\n",
       "    </tr>\n",
       "  </tbody>\n",
       "</table>\n",
       "<p>6698 rows × 3 columns</p>\n",
       "</div>"
      ],
      "text/plain": [
       "      Scheduled Delivery Date Delivery Recorded Date  DayToDeliver\n",
       "1                  2006-11-14             2006-11-14             0\n",
       "3                  2006-09-01             2006-09-01             0\n",
       "4                  2006-08-11             2006-08-11             0\n",
       "5                  2006-09-28             2006-09-28             0\n",
       "7                  2006-11-24             2006-11-24             0\n",
       "...                       ...                    ...           ...\n",
       "10316              2015-06-02             2015-05-22           -11\n",
       "10317              2015-06-30             2015-06-29            -1\n",
       "10318              2015-07-31             2015-07-20           -11\n",
       "10319              2015-07-31             2015-07-20           -11\n",
       "10320              2015-07-31             2015-08-07             7\n",
       "\n",
       "[6698 rows x 3 columns]"
      ]
     },
     "execution_count": 654,
     "metadata": {},
     "output_type": "execute_result"
    }
   ],
   "source": [
    "df[['Scheduled Delivery Date','Delivery Recorded Date','DayToDeliver']]"
   ]
  },
  {
   "cell_type": "code",
   "execution_count": 655,
   "metadata": {},
   "outputs": [
    {
     "data": {
      "text/plain": [
       "10"
      ]
     },
     "execution_count": 655,
     "metadata": {},
     "output_type": "execute_result"
    }
   ],
   "source": [
    "df['Year'] = df['Delivery Recorded Date'].dt.to_period('Y')\n",
    "df['Year'].nunique()\n"
   ]
  },
  {
   "cell_type": "code",
   "execution_count": 656,
   "metadata": {},
   "outputs": [],
   "source": [
    "df['Year'] = df['Year'].astype(object)"
   ]
  },
  {
   "cell_type": "code",
   "execution_count": 657,
   "metadata": {},
   "outputs": [
    {
     "data": {
      "image/png": "[encoded data removed]",
      "text/plain": [
       "<Figure size 1400x900 with 2 Axes>"
      ]
     },
     "metadata": {},
     "output_type": "display_data"
    }
   ],
   "source": [
    "# Assuming 'df' is your DataFrame with both numerical and categorical columns\n",
    "numerical_columns = df.select_dtypes(include=['float', 'int']).columns\n",
    "\n",
    "# Find the corelation using heatmap\n",
    "numerical_df = df[numerical_columns]\n",
    "correlation_metrics = numerical_df.corr()\n",
    "fig = plt.figure(figsize=(14,9))\n",
    "sns.heatmap(correlation_metrics, annot=True, fmt=\".2f\", vmax=0.9, square=True)\n",
    "plt.show()\n"
   ]
  },
  {
   "cell_type": "markdown",
   "metadata": {},
   "source": [
    "* drop ID ,Unit of measure(per pack),Daytodeliver and Unit Price because less colinearity\n",
    "* drop Line item insurance ,Line item value ,'Line Item Quantity' to avoid multicolinearity"
   ]
  },
  {
   "cell_type": "code",
   "execution_count": 658,
   "metadata": {},
   "outputs": [],
   "source": [
    "# Drop unnecessary \n",
    "df = df.drop(['ID','Unit of Measure (Per Pack)','DayToDeliver','PQ #','PO / SO #','ASN/DN #','Project Code','Dosage','Dosage Form','Delivered to Client Date','Scheduled Delivery Date','Unit Price','Delivery Recorded Date','Item Description','PQ First Sent to Client Date','PO Sent to Vendor Date','Line Item Insurance (USD)','Line Item Value','Line Item Quantity'], axis=1)"
   ]
  },
  {
   "cell_type": "code",
   "execution_count": 659,
   "metadata": {},
   "outputs": [],
   "source": [
    "from sklearn.metrics import mean_squared_error, r2_score\n",
    "from sklearn.neighbors import KNeighborsRegressor\n",
    "from sklearn.tree import DecisionTreeRegressor\n",
    "from sklearn.ensemble import RandomForestRegressor,AdaBoostRegressor\n",
    "from sklearn.svm import SVR\n",
    "from sklearn.linear_model import LinearRegression, Ridge,Lasso\n",
    "from sklearn.metrics import r2_score, mean_absolute_error, mean_squared_error\n",
    "from sklearn.model_selection import RandomizedSearchCV\n",
    "from catboost import CatBoostRegressor\n",
    "from xgboost import XGBRegressor"
   ]
  },
  {
   "cell_type": "markdown",
   "metadata": {},
   "source": [
    "5.1 Visualize Outlier  to make some conclusion.\n",
    "* Box Plot\n"
   ]
  },
  {
   "cell_type": "code",
   "execution_count": 660,
   "metadata": {},
   "outputs": [
    {
     "data": {
      "image/png": "[encoded data removed]",
      "text/plain": [
       "<Figure size 640x480 with 1 Axes>"
      ]
     },
     "metadata": {},
     "output_type": "display_data"
    }
   ],
   "source": [
    "df['Weight (Kilograms)'].plot(kind='box', title='Weight (Kilograms)')\n",
    "plt.show()"
   ]
  },
  {
   "cell_type": "markdown",
   "metadata": {},
   "source": [
    "* Treat Outlier"
   ]
  },
  {
   "cell_type": "code",
   "execution_count": 661,
   "metadata": {},
   "outputs": [],
   "source": [
    "# Define the winsorization limits\n",
    "lower_limit = 0.10  # 1th percentile\n",
    "upper_limit = 0.90  # 99th percentile\n",
    "\n",
    "# Perform winsorization on the 'Weight' column\n",
    "df['Weight (Kilograms)'] = np.clip(df['Weight (Kilograms)'], df['Weight (Kilograms)'].quantile(lower_limit), df['Weight (Kilograms)'].quantile(upper_limit))\n"
   ]
  },
  {
   "cell_type": "code",
   "execution_count": 662,
   "metadata": {},
   "outputs": [
    {
     "data": {
      "image/png": "[encoded data removed]",
      "text/plain": [
       "<Figure size 640x480 with 1 Axes>"
      ]
     },
     "metadata": {},
     "output_type": "display_data"
    }
   ],
   "source": [
    "df['Weight (Kilograms)'].plot(kind='box', title='Weight (Kilograms)')\n",
    "plt.show()"
   ]
  },
  {
   "cell_type": "code",
   "execution_count": 663,
   "metadata": {},
   "outputs": [],
   "source": [
    "# Define the winsorization limits\n",
    "lower_limit = 0.10  # 1th percentile\n",
    "upper_limit = 0.90  # 99th percentile\n",
    "\n",
    "# Perform winsorization on the 'Weight' column\n",
    "df['Freight Cost (USD)'] = np.clip(df['Freight Cost (USD)'], df['Freight Cost (USD)'].quantile(lower_limit), df['Freight Cost (USD)'].quantile(upper_limit))\n"
   ]
  },
  {
   "cell_type": "code",
   "execution_count": 664,
   "metadata": {},
   "outputs": [
    {
     "data": {
      "image/png": "[encoded data removed]",
      "text/plain": [
       "<Figure size 640x480 with 1 Axes>"
      ]
     },
     "metadata": {},
     "output_type": "display_data"
    }
   ],
   "source": [
    "df['Freight Cost (USD)'].plot(kind='box', title='Freight Cost (USD)')\n",
    "plt.show()"
   ]
  },
  {
   "cell_type": "code",
   "execution_count": 665,
   "metadata": {},
   "outputs": [
    {
     "data": {
      "image/png": "[encoded data removed]",
      "text/plain": [
       "<Figure size 640x480 with 1 Axes>"
      ]
     },
     "metadata": {},
     "output_type": "display_data"
    }
   ],
   "source": [
    "df['Pack Price'].plot(kind='box', title='Pack Price')\n",
    "plt.show()"
   ]
  },
  {
   "cell_type": "code",
   "execution_count": 666,
   "metadata": {},
   "outputs": [],
   "source": [
    "# Define the winsorization limits\n",
    "lower_limit = 0.10  # 1th percentile\n",
    "upper_limit = 0.90  # 99th percentile\n",
    "\n",
    "\n",
    "# Perform winsorization on the 'Pack price' column\n",
    "df['Pack Price']= np.clip(df['Pack Price'], df['Pack Price'].quantile(lower_limit), df['Pack Price'].quantile(upper_limit))\n",
    "\n"
   ]
  },
  {
   "cell_type": "code",
   "execution_count": 667,
   "metadata": {},
   "outputs": [
    {
     "data": {
      "image/png": "[encoded data removed]",
      "text/plain": [
       "<Figure size 640x480 with 1 Axes>"
      ]
     },
     "metadata": {},
     "output_type": "display_data"
    }
   ],
   "source": [
    "df['Pack Price'].plot(kind='box', title='Pack Price')\n",
    "plt.show()"
   ]
  },
  {
   "cell_type": "code",
   "execution_count": 668,
   "metadata": {},
   "outputs": [
    {
     "name": "stdout",
     "output_type": "stream",
     "text": [
      "Column: Country\n",
      "Country\n",
      "Nigeria               814\n",
      "C?e d'Ivoire          800\n",
      "Uganda                704\n",
      "Vietnam               643\n",
      "Haiti                 512\n",
      "Mozambique            492\n",
      "Zimbabwe              459\n",
      "Zambia                457\n",
      "Tanzania              359\n",
      "Rwanda                318\n",
      "South Africa          288\n",
      "Congo, DRC            222\n",
      "Guyana                163\n",
      "Ethiopia              124\n",
      "Burundi                68\n",
      "Cameroon               50\n",
      "South Sudan            49\n",
      "Ghana                  48\n",
      "Dominican Republic     32\n",
      "Namibia                30\n",
      "Swaziland              21\n",
      "Guatemala              10\n",
      "Benin                  10\n",
      "Libya                   8\n",
      "Malawi                  4\n",
      "Afghanistan             3\n",
      "Botswana                3\n",
      "Angola                  3\n",
      "Togo                    2\n",
      "Senegal                 1\n",
      "Kenya                   1\n",
      "Name: count, dtype: int64\n",
      "\n",
      "Column: Managed By\n",
      "Managed By\n",
      "PMO - US    6698\n",
      "Name: count, dtype: int64\n",
      "\n",
      "Column: Fulfill Via\n",
      "Fulfill Via\n",
      "From RDC       4645\n",
      "Direct Drop    2053\n",
      "Name: count, dtype: int64\n",
      "\n",
      "Column: Vendor INCO Term\n",
      "Vendor INCO Term\n",
      "N/A - From RDC    4645\n",
      "EXW               1217\n",
      "FCA                356\n",
      "DDP                302\n",
      "CIP                171\n",
      "DAP                  5\n",
      "DDU                  2\n",
      "Name: count, dtype: int64\n",
      "\n",
      "Column: Shipment Mode\n",
      "Shipment Mode\n",
      "Air            4024\n",
      "Truck          1783\n",
      "Air Charter     572\n",
      "Ocean           319\n",
      "Name: count, dtype: int64\n",
      "\n",
      "Column: Product Group\n",
      "Product Group\n",
      "ARV     6660\n",
      "ANTM      22\n",
      "ACT       16\n",
      "Name: count, dtype: int64\n",
      "\n",
      "Column: Sub Classification\n",
      "Sub Classification\n",
      "Adult        5248\n",
      "Pediatric    1412\n",
      "Malaria        22\n",
      "ACT            16\n",
      "Name: count, dtype: int64\n",
      "\n",
      "Column: Vendor\n",
      "Vendor\n",
      "SCMS from RDC                                                        4645\n",
      "Aurobindo Pharma Limited                                              627\n",
      "ABBVIE LOGISTICS (FORMERLY ABBOTT LOGISTICS BV)                       317\n",
      "MYLAN LABORATORIES LTD (FORMERLY MATRIX LABORATORIES)                 304\n",
      "HETERO LABS LIMITED                                                   247\n",
      "CIPLA LIMITED                                                         156\n",
      "STRIDES ARCOLAB LIMITED                                                90\n",
      "MERCK SHARP & DOHME IDEA GMBH (FORMALLY MERCK SHARP & DOHME B.V.)      50\n",
      "BRISTOL-MYERS SQUIBB                                                   42\n",
      "ASPEN PHARMACARE                                                       35\n",
      "MICRO LABS LIMITED                                                     34\n",
      "EMCURE PHARMACEUTICALS LTD                                             31\n",
      "Hoffmann-La Roche ltd Basel                                            22\n",
      "IDA FOUNDATION                                                         17\n",
      "LAWRENCE LABORATORIES (SUBSIDIARY OF BRISTOL MYERS SQUIBB)             17\n",
      "GLAXOSMITHKLINE EXPORT LIMITED                                         15\n",
      "SUN PHARMACEUTICAL INDUSTRIES LTD (RANBAXY LABORATORIES LIMITED)        9\n",
      "AMSTELFARMA B.V.                                                        7\n",
      "NOVARTIS PHARMA SERVICES AG                                             5\n",
      "GILEAD SCIENCES IRELAND, INC.                                           4\n",
      "IMRES B.V.                                                              4\n",
      "JANSSEN SCIENCES IRELAND UC (FORMERLY JANSSEN R&D IRELAND)              3\n",
      "MISSIONPHARMA A/S                                                       3\n",
      "SWORDS LABORATORIES                                                     3\n",
      "B&C GROUP S.A.                                                          2\n",
      "INTERNATIONAL HEALTHCARE DISTRIBUTORS                                   1\n",
      "ABBOTT LABORATORIES (PUERTO RICO)                                       1\n",
      "PUETRO RICO PHARMACEUTICAL, INC.                                        1\n",
      "IDIS LIMITED                                                            1\n",
      "ABBVIE, SRL (FORMALLY ABBOTT LABORATORIES INTERNATIONAL CO.)            1\n",
      "ETHNOR DEL ISTMO S.A.                                                   1\n",
      "THE MEDICAL EXPORT GROUP BV                                             1\n",
      "ACTION MEDEOR E.V.                                                      1\n",
      "SYSMEX AMERICA INC                                                      1\n",
      "Name: count, dtype: int64\n",
      "\n",
      "Column: Molecule/Test Type\n",
      "Molecule/Test Type\n",
      "Efavirenz                                                829\n",
      "Nevirapine                                               731\n",
      "Lamivudine/Nevirapine/Zidovudine                         648\n",
      "Lamivudine/Zidovudine                                    581\n",
      "Lopinavir/Ritonavir                                      482\n",
      "Lamivudine                                               422\n",
      "Zidovudine                                               394\n",
      "Abacavir                                                 323\n",
      "Lamivudine/Tenofovir Disoproxil Fumarate                 289\n",
      "Efavirenz/Lamivudine/Tenofovir Disoproxil Fumarate       254\n",
      "Lamivudine/Nevirapine/Stavudine                          248\n",
      "Tenofovir Disoproxil Fumarate                            244\n",
      "Stavudine                                                186\n",
      "Emtricitabine/Tenofovir Disoproxil Fumarate              184\n",
      "Didanosine                                               147\n",
      "Lamivudine/Stavudine                                     144\n",
      "Abacavir/Lamivudine                                      125\n",
      "Efavirenz/Emtricitabine/Tenofovir Disoproxil Fumarate    120\n",
      "Ritonavir                                                 88\n",
      "Atazanavir/Ritonavir                                      44\n",
      "Indinavir                                                 29\n",
      "Saquinavir                                                25\n",
      "Abacavir/Lamivudine/Zidovudine                            23\n",
      "Darunavir                                                 22\n",
      "Atazanavir                                                18\n",
      "Didanosine EC                                             17\n",
      "Etravirine                                                14\n",
      "Raltegravir                                               13\n",
      "Sulfadoxine/Pyrimethamine                                 13\n",
      "Artemether/Lumefantrine                                   12\n",
      "Nelfinavir (as mesilate)                                   7\n",
      "Lamivudine/Zidovudine+Efavirenz                            5\n",
      "Artesunate+Amodiaquine                                     4\n",
      "Chloroquine base (as phosphate)                            3\n",
      "Lamivudine/Zidovudine+Nevirapine                           2\n",
      "Quinine (as dihydrochloride)                               2\n",
      "Lamivudine/Zidovudine+Abacavir                             1\n",
      "Primaquine base (as diphosphate)                           1\n",
      "Quinine (as sulfate)                                       1\n",
      "Mefloquine (as hydrochloride)                              1\n",
      "Quinine                                                    1\n",
      "Nelfinavir                                                 1\n",
      "Name: count, dtype: int64\n",
      "\n",
      "Column: Brand\n",
      "Brand\n",
      "Generic            5976\n",
      "Aluvia              194\n",
      "Kaletra              91\n",
      "Norvir               88\n",
      "Truvada              69\n",
      "Videx                41\n",
      "Stocrin/Sustiva      33\n",
      "Crixivan             29\n",
      "Invirase             25\n",
      "Viread               22\n",
      "Prezista             22\n",
      "Videx EC             17\n",
      "Intelence            14\n",
      "Ziagen               13\n",
      "Trizivir             13\n",
      "Isentress            13\n",
      "Atripla              12\n",
      "Coartem              12\n",
      "Viracept              8\n",
      "Reyataz               5\n",
      "Retrovir              1\n",
      "Name: count, dtype: int64\n",
      "\n",
      "Column: Manufacturing Site\n",
      "Manufacturing Site\n",
      "Aurobindo Unit III, India                                                   2387\n",
      "Mylan (formerly Matrix) Nashik                                              1289\n",
      "Hetero Unit III Hyderabad IN                                                 774\n",
      "Cipla, Goa, India                                                            548\n",
      "Strides, Bangalore, India.                                                   497\n",
      "ABBVIE Ludwigshafen Germany                                                  294\n",
      "ABBVIE (Abbott) Logis. UK                                                    129\n",
      "Aurobindo Unit VII, IN                                                       104\n",
      "Aspen-OSD, Port Elizabeth, SA                                                 92\n",
      "MSD, Haarlem, NL                                                              78\n",
      "Micro labs, Verna, Goa, India                                                 52\n",
      "Cipla, Kurkumbh, India                                                        47\n",
      "Emcure Plot No.P-2, I.T-B.T. Park, Phase II, MIDC, Hinjwadi, Pune, India      46\n",
      "BMS Meymac, France                                                            41\n",
      "Hetero, Jadcherla, unit 5, IN                                                 37\n",
      "Cipla, Patalganga, India                                                      32\n",
      "Ranbaxy, Paonta Shahib, India                                                 27\n",
      "Roche Basel                                                                   23\n",
      "Mylan,  H-12 & H-13, India                                                    20\n",
      "Bristol-Myers Squibb Anagni IT                                                19\n",
      "Gilead(Nycomed) Oranienburg DE                                                19\n",
      "Janssen-Cilag, Latina, IT                                                     17\n",
      "GSK Ware (UK)                                                                 13\n",
      "GSK Mississauga (Canada)                                                      13\n",
      "Cipla Ltd A-42 MIDC Mahar. IN                                                 11\n",
      "Roche Madrid                                                                  10\n",
      "Ranbaxy per Shasun Pharma                                                      9\n",
      "Micro Labs, Hosur, India                                                       7\n",
      "Macleods Daman Plant INDIA                                                     7\n",
      "Novartis Pharma Suffern, USA                                                   7\n",
      "ABBVIE (Abbott) France                                                         7\n",
      "Novartis Pharma AG, Switzerland                                                5\n",
      "MSD Manati, Puerto Rico, (USA)                                                 4\n",
      "Micro Labs Ltd. (Brown & Burk), India                                          4\n",
      "Ipca Dadra/Nagar Haveli IN                                                     4\n",
      "MSD Elkton USA                                                                 3\n",
      "BMS Evansville, US                                                             3\n",
      "Ranbaxy per Shasun Pharma Ltd                                                  2\n",
      "MSD Patheon, Canada                                                            2\n",
      "Guilin OSD site, No 17, China                                                  2\n",
      "ABBVIE (Abbott) St. P'burg USA                                                 2\n",
      "Medopharm Malur Factory, INDIA                                                 2\n",
      "Remedica, Limassol, Cyprus                                                     1\n",
      "Gland Pharma Ltd Pally Factory                                                 1\n",
      "GSK Barnard Castle UK                                                          1\n",
      "Janssen Ortho LLC, Puerto Rico                                                 1\n",
      "Gland Pharma, Hyderabad, IN                                                    1\n",
      "Medochemie Factory A, CY                                                       1\n",
      "Mepro Pharm Wadhwan Unit II                                                    1\n",
      "Meditab (for Cipla) Daman IN                                                   1\n",
      "Weifa A.S., Hausmanngt. 6, P.O. Box 9113 Gr?nland, 0133, Oslo, Norway          1\n",
      "Name: count, dtype: int64\n",
      "\n",
      "Column: First Line Designation\n",
      "First Line Designation\n",
      "Yes    4632\n",
      "No     2066\n",
      "Name: count, dtype: int64\n",
      "\n",
      "Column: Year\n",
      "Year\n",
      "2014    1019\n",
      "2012     979\n",
      "2013     887\n",
      "2010     861\n",
      "2011     831\n",
      "2009     751\n",
      "2008     606\n",
      "2015     465\n",
      "2007     265\n",
      "2006      34\n",
      "Freq: A-DEC, Name: count, dtype: int64\n",
      "\n"
     ]
    }
   ],
   "source": [
    "unique_counts = {}\n",
    "for column in df.select_dtypes(include=['object']):\n",
    "    unique_counts[column] = df[column].value_counts()\n",
    "\n",
    "# Print the unique values and their counts\n",
    "for column, values_counts in unique_counts.items():\n",
    "    print(\"Column:\", column)\n",
    "    print(values_counts)\n",
    "    print()\n",
    "    "
   ]
  },
  {
   "cell_type": "code",
   "execution_count": 670,
   "metadata": {},
   "outputs": [],
   "source": [
    "categorical_cols = df.select_dtypes(include='object').columns\n",
    "value_counts = df[categorical_cols].apply(lambda x: x.value_counts())\n",
    "\n",
    "# Identify values occurring less than a certain threshold (e.g., 2)\n",
    "values_to_map = value_counts.apply(lambda x: x[x < 40].index)\n",
    "\n",
    "# Replace those values with 'other' for each column\n",
    "for col in categorical_cols:\n",
    "    df.loc[df[col].isin(values_to_map[col]), col] = 'other'\n"
   ]
  },
  {
   "cell_type": "code",
   "execution_count": null,
   "metadata": {},
   "outputs": [],
   "source": [
    "value_counts_column1 = df['Column1'].value_counts()"
   ]
  },
  {
   "cell_type": "code",
   "execution_count": 672,
   "metadata": {},
   "outputs": [
    {
     "name": "stdout",
     "output_type": "stream",
     "text": [
      "Column: Country\n",
      "Country\n",
      "Nigeria         814\n",
      "C?e d'Ivoire    800\n",
      "Uganda          704\n",
      "Vietnam         643\n",
      "Haiti           512\n",
      "Mozambique      492\n",
      "Zimbabwe        459\n",
      "Zambia          457\n",
      "Tanzania        359\n",
      "Rwanda          318\n",
      "South Africa    288\n",
      "Congo, DRC      222\n",
      "Guyana          163\n",
      "other           128\n",
      "Ethiopia        124\n",
      "Burundi          68\n",
      "Cameroon         50\n",
      "South Sudan      49\n",
      "Ghana            48\n",
      "Name: count, dtype: int64\n",
      "\n",
      "Column: Managed By\n",
      "Managed By\n",
      "PMO - US    6698\n",
      "Name: count, dtype: int64\n",
      "\n",
      "Column: Fulfill Via\n",
      "Fulfill Via\n",
      "From RDC       4645\n",
      "Direct Drop    2053\n",
      "Name: count, dtype: int64\n",
      "\n",
      "Column: Vendor INCO Term\n",
      "Vendor INCO Term\n",
      "N/A - From RDC    4645\n",
      "EXW               1217\n",
      "FCA                356\n",
      "DDP                302\n",
      "CIP                171\n",
      "other                7\n",
      "Name: count, dtype: int64\n",
      "\n",
      "Column: Shipment Mode\n",
      "Shipment Mode\n",
      "Air            4024\n",
      "Truck          1783\n",
      "Air Charter     572\n",
      "Ocean           319\n",
      "Name: count, dtype: int64\n",
      "\n",
      "Column: Product Group\n",
      "Product Group\n",
      "ARV      6660\n",
      "other      38\n",
      "Name: count, dtype: int64\n",
      "\n",
      "Column: Sub Classification\n",
      "Sub Classification\n",
      "Adult        5248\n",
      "Pediatric    1412\n",
      "other          38\n",
      "Name: count, dtype: int64\n",
      "\n",
      "Column: Vendor\n",
      "Vendor\n",
      "SCMS from RDC                                                        4645\n",
      "Aurobindo Pharma Limited                                              627\n",
      "ABBVIE LOGISTICS (FORMERLY ABBOTT LOGISTICS BV)                       317\n",
      "MYLAN LABORATORIES LTD (FORMERLY MATRIX LABORATORIES)                 304\n",
      "HETERO LABS LIMITED                                                   247\n",
      "other                                                                 220\n",
      "CIPLA LIMITED                                                         156\n",
      "STRIDES ARCOLAB LIMITED                                                90\n",
      "MERCK SHARP & DOHME IDEA GMBH (FORMALLY MERCK SHARP & DOHME B.V.)      50\n",
      "BRISTOL-MYERS SQUIBB                                                   42\n",
      "Name: count, dtype: int64\n",
      "\n",
      "Column: Molecule/Test Type\n",
      "Molecule/Test Type\n",
      "Efavirenz                                                829\n",
      "Nevirapine                                               731\n",
      "Lamivudine/Nevirapine/Zidovudine                         648\n",
      "Lamivudine/Zidovudine                                    581\n",
      "Lopinavir/Ritonavir                                      482\n",
      "Lamivudine                                               422\n",
      "Zidovudine                                               394\n",
      "Abacavir                                                 323\n",
      "Lamivudine/Tenofovir Disoproxil Fumarate                 289\n",
      "Efavirenz/Lamivudine/Tenofovir Disoproxil Fumarate       254\n",
      "Lamivudine/Nevirapine/Stavudine                          248\n",
      "Tenofovir Disoproxil Fumarate                            244\n",
      "other                                                    215\n",
      "Stavudine                                                186\n",
      "Emtricitabine/Tenofovir Disoproxil Fumarate              184\n",
      "Didanosine                                               147\n",
      "Lamivudine/Stavudine                                     144\n",
      "Abacavir/Lamivudine                                      125\n",
      "Efavirenz/Emtricitabine/Tenofovir Disoproxil Fumarate    120\n",
      "Ritonavir                                                 88\n",
      "Atazanavir/Ritonavir                                      44\n",
      "Name: count, dtype: int64\n",
      "\n",
      "Column: Brand\n",
      "Brand\n",
      "Generic    5976\n",
      "other       239\n",
      "Aluvia      194\n",
      "Kaletra      91\n",
      "Norvir       88\n",
      "Truvada      69\n",
      "Videx        41\n",
      "Name: count, dtype: int64\n",
      "\n",
      "Column: Manufacturing Site\n",
      "Manufacturing Site\n",
      "Aurobindo Unit III, India                                                   2387\n",
      "Mylan (formerly Matrix) Nashik                                              1289\n",
      "Hetero Unit III Hyderabad IN                                                 774\n",
      "Cipla, Goa, India                                                            548\n",
      "Strides, Bangalore, India.                                                   497\n",
      "other                                                                        320\n",
      "ABBVIE Ludwigshafen Germany                                                  294\n",
      "ABBVIE (Abbott) Logis. UK                                                    129\n",
      "Aurobindo Unit VII, IN                                                       104\n",
      "Aspen-OSD, Port Elizabeth, SA                                                 92\n",
      "MSD, Haarlem, NL                                                              78\n",
      "Micro labs, Verna, Goa, India                                                 52\n",
      "Cipla, Kurkumbh, India                                                        47\n",
      "Emcure Plot No.P-2, I.T-B.T. Park, Phase II, MIDC, Hinjwadi, Pune, India      46\n",
      "BMS Meymac, France                                                            41\n",
      "Name: count, dtype: int64\n",
      "\n",
      "Column: First Line Designation\n",
      "First Line Designation\n",
      "Yes    4632\n",
      "No     2066\n",
      "Name: count, dtype: int64\n",
      "\n",
      "Column: Year\n",
      "Year\n",
      "2014     1019\n",
      "2012      979\n",
      "2013      887\n",
      "2010      861\n",
      "2011      831\n",
      "2009      751\n",
      "2008      606\n",
      "2015      465\n",
      "2007      265\n",
      "other      34\n",
      "Name: count, dtype: int64\n",
      "\n"
     ]
    }
   ],
   "source": [
    "for column in df.select_dtypes(include=['object']):\n",
    "    unique_counts[column] = df[column].value_counts()\n",
    "\n",
    "# Print the unique values and their counts\n",
    "for column, values_counts in unique_counts.items():\n",
    "    print(\"Column:\", column)\n",
    "    print(values_counts)\n",
    "    print()"
   ]
  },
  {
   "cell_type": "code",
   "execution_count": null,
   "metadata": {},
   "outputs": [],
   "source": [
    "# Drop some columns\n",
    "df=df.drop(['Managed By','Product Group','Brand','Molecule/Test Type','Manufacturing Site'],axis=1)\n"
   ]
  },
  {
   "cell_type": "code",
   "execution_count": null,
   "metadata": {},
   "outputs": [],
   "source": [
    "X = df.drop('Freight Cost (USD)',axis=1)\n",
    "y=df['Freight Cost (USD)']"
   ]
  },
  {
   "cell_type": "code",
   "execution_count": null,
   "metadata": {},
   "outputs": [],
   "source": [
    "# Create Column Transformer with 3 types of transformers\n",
    "num_features = X.select_dtypes(exclude=\"object\").columns\n",
    "cat_features = X.select_dtypes(include=\"object\").columns\n",
    "\n",
    "from sklearn.preprocessing import OneHotEncoder, StandardScaler\n",
    "from sklearn.compose import ColumnTransformer\n",
    "\n",
    "numeric_transformer = StandardScaler()\n",
    "oh_transformer = OneHotEncoder()\n",
    "\n",
    "preprocessor = ColumnTransformer(\n",
    "    [\n",
    "        (\"OneHotEncoder\", oh_transformer, cat_features),\n",
    "         (\"StandardScaler\", numeric_transformer, num_features),        \n",
    "    ]\n",
    ")"
   ]
  },
  {
   "cell_type": "code",
   "execution_count": null,
   "metadata": {},
   "outputs": [
    {
     "data": {
      "text/plain": [
       "Index([], dtype='object')"
      ]
     },
     "execution_count": 581,
     "metadata": {},
     "output_type": "execute_result"
    }
   ],
   "source": [
    "num_features"
   ]
  },
  {
   "cell_type": "code",
   "execution_count": null,
   "metadata": {},
   "outputs": [
    {
     "data": {
      "text/plain": [
       "Index(['Country', 'Fulfill Via', 'Vendor INCO Term', 'Shipment Mode',\n",
       "       'Sub Classification', 'Vendor', 'Pack Price', 'First Line Designation',\n",
       "       'Weight (Kilograms)', 'Year'],\n",
       "      dtype='object')"
      ]
     },
     "execution_count": 582,
     "metadata": {},
     "output_type": "execute_result"
    }
   ],
   "source": [
    "cat_features"
   ]
  },
  {
   "cell_type": "code",
   "execution_count": null,
   "metadata": {},
   "outputs": [
    {
     "ename": "TypeError",
     "evalue": "Encoders require their input to be uniformly strings or numbers. Got ['float', 'str']",
     "output_type": "error",
     "traceback": [
      "\u001b[1;31m---------------------------------------------------------------------------\u001b[0m",
      "\u001b[1;31mTypeError\u001b[0m                                 Traceback (most recent call last)",
      "File \u001b[1;32md:\\Projects\\SCM_Project\\venv\\lib\\site-packages\\sklearn\\utils\\_encode.py:174\u001b[0m, in \u001b[0;36m_unique_python\u001b[1;34m(values, return_inverse, return_counts)\u001b[0m\n\u001b[0;32m    172\u001b[0m uniques_set, missing_values \u001b[39m=\u001b[39m _extract_missing(uniques_set)\n\u001b[1;32m--> 174\u001b[0m uniques \u001b[39m=\u001b[39m \u001b[39msorted\u001b[39;49m(uniques_set)\n\u001b[0;32m    175\u001b[0m uniques\u001b[39m.\u001b[39mextend(missing_values\u001b[39m.\u001b[39mto_list())\n",
      "\u001b[1;31mTypeError\u001b[0m: '<' not supported between instances of 'str' and 'float'",
      "\nDuring handling of the above exception, another exception occurred:\n",
      "\u001b[1;31mTypeError\u001b[0m                                 Traceback (most recent call last)",
      "Cell \u001b[1;32mIn[583], line 1\u001b[0m\n\u001b[1;32m----> 1\u001b[0m X \u001b[39m=\u001b[39m preprocessor\u001b[39m.\u001b[39;49mfit_transform(X)\n",
      "File \u001b[1;32md:\\Projects\\SCM_Project\\venv\\lib\\site-packages\\sklearn\\utils\\_set_output.py:140\u001b[0m, in \u001b[0;36m_wrap_method_output.<locals>.wrapped\u001b[1;34m(self, X, *args, **kwargs)\u001b[0m\n\u001b[0;32m    138\u001b[0m \u001b[39m@wraps\u001b[39m(f)\n\u001b[0;32m    139\u001b[0m \u001b[39mdef\u001b[39;00m \u001b[39mwrapped\u001b[39m(\u001b[39mself\u001b[39m, X, \u001b[39m*\u001b[39margs, \u001b[39m*\u001b[39m\u001b[39m*\u001b[39mkwargs):\n\u001b[1;32m--> 140\u001b[0m     data_to_wrap \u001b[39m=\u001b[39m f(\u001b[39mself\u001b[39;49m, X, \u001b[39m*\u001b[39;49margs, \u001b[39m*\u001b[39;49m\u001b[39m*\u001b[39;49mkwargs)\n\u001b[0;32m    141\u001b[0m     \u001b[39mif\u001b[39;00m \u001b[39misinstance\u001b[39m(data_to_wrap, \u001b[39mtuple\u001b[39m):\n\u001b[0;32m    142\u001b[0m         \u001b[39m# only wrap the first output for cross decomposition\u001b[39;00m\n\u001b[0;32m    143\u001b[0m         return_tuple \u001b[39m=\u001b[39m (\n\u001b[0;32m    144\u001b[0m             _wrap_data_with_container(method, data_to_wrap[\u001b[39m0\u001b[39m], X, \u001b[39mself\u001b[39m),\n\u001b[0;32m    145\u001b[0m             \u001b[39m*\u001b[39mdata_to_wrap[\u001b[39m1\u001b[39m:],\n\u001b[0;32m    146\u001b[0m         )\n",
      "File \u001b[1;32md:\\Projects\\SCM_Project\\venv\\lib\\site-packages\\sklearn\\base.py:1151\u001b[0m, in \u001b[0;36m_fit_context.<locals>.decorator.<locals>.wrapper\u001b[1;34m(estimator, *args, **kwargs)\u001b[0m\n\u001b[0;32m   1144\u001b[0m     estimator\u001b[39m.\u001b[39m_validate_params()\n\u001b[0;32m   1146\u001b[0m \u001b[39mwith\u001b[39;00m config_context(\n\u001b[0;32m   1147\u001b[0m     skip_parameter_validation\u001b[39m=\u001b[39m(\n\u001b[0;32m   1148\u001b[0m         prefer_skip_nested_validation \u001b[39mor\u001b[39;00m global_skip_validation\n\u001b[0;32m   1149\u001b[0m     )\n\u001b[0;32m   1150\u001b[0m ):\n\u001b[1;32m-> 1151\u001b[0m     \u001b[39mreturn\u001b[39;00m fit_method(estimator, \u001b[39m*\u001b[39;49margs, \u001b[39m*\u001b[39;49m\u001b[39m*\u001b[39;49mkwargs)\n",
      "File \u001b[1;32md:\\Projects\\SCM_Project\\venv\\lib\\site-packages\\sklearn\\compose\\_column_transformer.py:743\u001b[0m, in \u001b[0;36mColumnTransformer.fit_transform\u001b[1;34m(self, X, y)\u001b[0m\n\u001b[0;32m    740\u001b[0m \u001b[39mself\u001b[39m\u001b[39m.\u001b[39m_validate_column_callables(X)\n\u001b[0;32m    741\u001b[0m \u001b[39mself\u001b[39m\u001b[39m.\u001b[39m_validate_remainder(X)\n\u001b[1;32m--> 743\u001b[0m result \u001b[39m=\u001b[39m \u001b[39mself\u001b[39;49m\u001b[39m.\u001b[39;49m_fit_transform(X, y, _fit_transform_one)\n\u001b[0;32m    745\u001b[0m \u001b[39mif\u001b[39;00m \u001b[39mnot\u001b[39;00m result:\n\u001b[0;32m    746\u001b[0m     \u001b[39mself\u001b[39m\u001b[39m.\u001b[39m_update_fitted_transformers([])\n",
      "File \u001b[1;32md:\\Projects\\SCM_Project\\venv\\lib\\site-packages\\sklearn\\compose\\_column_transformer.py:670\u001b[0m, in \u001b[0;36mColumnTransformer._fit_transform\u001b[1;34m(self, X, y, func, fitted, column_as_strings)\u001b[0m\n\u001b[0;32m    664\u001b[0m transformers \u001b[39m=\u001b[39m \u001b[39mlist\u001b[39m(\n\u001b[0;32m    665\u001b[0m     \u001b[39mself\u001b[39m\u001b[39m.\u001b[39m_iter(\n\u001b[0;32m    666\u001b[0m         fitted\u001b[39m=\u001b[39mfitted, replace_strings\u001b[39m=\u001b[39m\u001b[39mTrue\u001b[39;00m, column_as_strings\u001b[39m=\u001b[39mcolumn_as_strings\n\u001b[0;32m    667\u001b[0m     )\n\u001b[0;32m    668\u001b[0m )\n\u001b[0;32m    669\u001b[0m \u001b[39mtry\u001b[39;00m:\n\u001b[1;32m--> 670\u001b[0m     \u001b[39mreturn\u001b[39;00m Parallel(n_jobs\u001b[39m=\u001b[39;49m\u001b[39mself\u001b[39;49m\u001b[39m.\u001b[39;49mn_jobs)(\n\u001b[0;32m    671\u001b[0m         delayed(func)(\n\u001b[0;32m    672\u001b[0m             transformer\u001b[39m=\u001b[39;49mclone(trans) \u001b[39mif\u001b[39;49;00m \u001b[39mnot\u001b[39;49;00m fitted \u001b[39melse\u001b[39;49;00m trans,\n\u001b[0;32m    673\u001b[0m             X\u001b[39m=\u001b[39;49m_safe_indexing(X, column, axis\u001b[39m=\u001b[39;49m\u001b[39m1\u001b[39;49m),\n\u001b[0;32m    674\u001b[0m             y\u001b[39m=\u001b[39;49my,\n\u001b[0;32m    675\u001b[0m             weight\u001b[39m=\u001b[39;49mweight,\n\u001b[0;32m    676\u001b[0m             message_clsname\u001b[39m=\u001b[39;49m\u001b[39m\"\u001b[39;49m\u001b[39mColumnTransformer\u001b[39;49m\u001b[39m\"\u001b[39;49m,\n\u001b[0;32m    677\u001b[0m             message\u001b[39m=\u001b[39;49m\u001b[39mself\u001b[39;49m\u001b[39m.\u001b[39;49m_log_message(name, idx, \u001b[39mlen\u001b[39;49m(transformers)),\n\u001b[0;32m    678\u001b[0m         )\n\u001b[0;32m    679\u001b[0m         \u001b[39mfor\u001b[39;49;00m idx, (name, trans, column, weight) \u001b[39min\u001b[39;49;00m \u001b[39menumerate\u001b[39;49m(transformers, \u001b[39m1\u001b[39;49m)\n\u001b[0;32m    680\u001b[0m     )\n\u001b[0;32m    681\u001b[0m \u001b[39mexcept\u001b[39;00m \u001b[39mValueError\u001b[39;00m \u001b[39mas\u001b[39;00m e:\n\u001b[0;32m    682\u001b[0m     \u001b[39mif\u001b[39;00m \u001b[39m\"\u001b[39m\u001b[39mExpected 2D array, got 1D array instead\u001b[39m\u001b[39m\"\u001b[39m \u001b[39min\u001b[39;00m \u001b[39mstr\u001b[39m(e):\n",
      "File \u001b[1;32md:\\Projects\\SCM_Project\\venv\\lib\\site-packages\\sklearn\\utils\\parallel.py:65\u001b[0m, in \u001b[0;36mParallel.__call__\u001b[1;34m(self, iterable)\u001b[0m\n\u001b[0;32m     60\u001b[0m config \u001b[39m=\u001b[39m get_config()\n\u001b[0;32m     61\u001b[0m iterable_with_config \u001b[39m=\u001b[39m (\n\u001b[0;32m     62\u001b[0m     (_with_config(delayed_func, config), args, kwargs)\n\u001b[0;32m     63\u001b[0m     \u001b[39mfor\u001b[39;00m delayed_func, args, kwargs \u001b[39min\u001b[39;00m iterable\n\u001b[0;32m     64\u001b[0m )\n\u001b[1;32m---> 65\u001b[0m \u001b[39mreturn\u001b[39;00m \u001b[39msuper\u001b[39;49m()\u001b[39m.\u001b[39;49m\u001b[39m__call__\u001b[39;49m(iterable_with_config)\n",
      "File \u001b[1;32md:\\Projects\\SCM_Project\\venv\\lib\\site-packages\\joblib\\parallel.py:1855\u001b[0m, in \u001b[0;36mParallel.__call__\u001b[1;34m(self, iterable)\u001b[0m\n\u001b[0;32m   1853\u001b[0m     output \u001b[39m=\u001b[39m \u001b[39mself\u001b[39m\u001b[39m.\u001b[39m_get_sequential_output(iterable)\n\u001b[0;32m   1854\u001b[0m     \u001b[39mnext\u001b[39m(output)\n\u001b[1;32m-> 1855\u001b[0m     \u001b[39mreturn\u001b[39;00m output \u001b[39mif\u001b[39;00m \u001b[39mself\u001b[39m\u001b[39m.\u001b[39mreturn_generator \u001b[39melse\u001b[39;00m \u001b[39mlist\u001b[39;49m(output)\n\u001b[0;32m   1857\u001b[0m \u001b[39m# Let's create an ID that uniquely identifies the current call. If the\u001b[39;00m\n\u001b[0;32m   1858\u001b[0m \u001b[39m# call is interrupted early and that the same instance is immediately\u001b[39;00m\n\u001b[0;32m   1859\u001b[0m \u001b[39m# re-used, this id will be used to prevent workers that were\u001b[39;00m\n\u001b[0;32m   1860\u001b[0m \u001b[39m# concurrently finalizing a task from the previous call to run the\u001b[39;00m\n\u001b[0;32m   1861\u001b[0m \u001b[39m# callback.\u001b[39;00m\n\u001b[0;32m   1862\u001b[0m \u001b[39mwith\u001b[39;00m \u001b[39mself\u001b[39m\u001b[39m.\u001b[39m_lock:\n",
      "File \u001b[1;32md:\\Projects\\SCM_Project\\venv\\lib\\site-packages\\joblib\\parallel.py:1784\u001b[0m, in \u001b[0;36mParallel._get_sequential_output\u001b[1;34m(self, iterable)\u001b[0m\n\u001b[0;32m   1782\u001b[0m \u001b[39mself\u001b[39m\u001b[39m.\u001b[39mn_dispatched_batches \u001b[39m+\u001b[39m\u001b[39m=\u001b[39m \u001b[39m1\u001b[39m\n\u001b[0;32m   1783\u001b[0m \u001b[39mself\u001b[39m\u001b[39m.\u001b[39mn_dispatched_tasks \u001b[39m+\u001b[39m\u001b[39m=\u001b[39m \u001b[39m1\u001b[39m\n\u001b[1;32m-> 1784\u001b[0m res \u001b[39m=\u001b[39m func(\u001b[39m*\u001b[39;49margs, \u001b[39m*\u001b[39;49m\u001b[39m*\u001b[39;49mkwargs)\n\u001b[0;32m   1785\u001b[0m \u001b[39mself\u001b[39m\u001b[39m.\u001b[39mn_completed_tasks \u001b[39m+\u001b[39m\u001b[39m=\u001b[39m \u001b[39m1\u001b[39m\n\u001b[0;32m   1786\u001b[0m \u001b[39mself\u001b[39m\u001b[39m.\u001b[39mprint_progress()\n",
      "File \u001b[1;32md:\\Projects\\SCM_Project\\venv\\lib\\site-packages\\sklearn\\utils\\parallel.py:127\u001b[0m, in \u001b[0;36m_FuncWrapper.__call__\u001b[1;34m(self, *args, **kwargs)\u001b[0m\n\u001b[0;32m    125\u001b[0m     config \u001b[39m=\u001b[39m {}\n\u001b[0;32m    126\u001b[0m \u001b[39mwith\u001b[39;00m config_context(\u001b[39m*\u001b[39m\u001b[39m*\u001b[39mconfig):\n\u001b[1;32m--> 127\u001b[0m     \u001b[39mreturn\u001b[39;00m \u001b[39mself\u001b[39;49m\u001b[39m.\u001b[39;49mfunction(\u001b[39m*\u001b[39;49margs, \u001b[39m*\u001b[39;49m\u001b[39m*\u001b[39;49mkwargs)\n",
      "File \u001b[1;32md:\\Projects\\SCM_Project\\venv\\lib\\site-packages\\sklearn\\pipeline.py:950\u001b[0m, in \u001b[0;36m_fit_transform_one\u001b[1;34m(transformer, X, y, weight, message_clsname, message, **fit_params)\u001b[0m\n\u001b[0;32m    948\u001b[0m \u001b[39mwith\u001b[39;00m _print_elapsed_time(message_clsname, message):\n\u001b[0;32m    949\u001b[0m     \u001b[39mif\u001b[39;00m \u001b[39mhasattr\u001b[39m(transformer, \u001b[39m\"\u001b[39m\u001b[39mfit_transform\u001b[39m\u001b[39m\"\u001b[39m):\n\u001b[1;32m--> 950\u001b[0m         res \u001b[39m=\u001b[39m transformer\u001b[39m.\u001b[39;49mfit_transform(X, y, \u001b[39m*\u001b[39;49m\u001b[39m*\u001b[39;49mfit_params)\n\u001b[0;32m    951\u001b[0m     \u001b[39melse\u001b[39;00m:\n\u001b[0;32m    952\u001b[0m         res \u001b[39m=\u001b[39m transformer\u001b[39m.\u001b[39mfit(X, y, \u001b[39m*\u001b[39m\u001b[39m*\u001b[39mfit_params)\u001b[39m.\u001b[39mtransform(X)\n",
      "File \u001b[1;32md:\\Projects\\SCM_Project\\venv\\lib\\site-packages\\sklearn\\utils\\_set_output.py:140\u001b[0m, in \u001b[0;36m_wrap_method_output.<locals>.wrapped\u001b[1;34m(self, X, *args, **kwargs)\u001b[0m\n\u001b[0;32m    138\u001b[0m \u001b[39m@wraps\u001b[39m(f)\n\u001b[0;32m    139\u001b[0m \u001b[39mdef\u001b[39;00m \u001b[39mwrapped\u001b[39m(\u001b[39mself\u001b[39m, X, \u001b[39m*\u001b[39margs, \u001b[39m*\u001b[39m\u001b[39m*\u001b[39mkwargs):\n\u001b[1;32m--> 140\u001b[0m     data_to_wrap \u001b[39m=\u001b[39m f(\u001b[39mself\u001b[39;49m, X, \u001b[39m*\u001b[39;49margs, \u001b[39m*\u001b[39;49m\u001b[39m*\u001b[39;49mkwargs)\n\u001b[0;32m    141\u001b[0m     \u001b[39mif\u001b[39;00m \u001b[39misinstance\u001b[39m(data_to_wrap, \u001b[39mtuple\u001b[39m):\n\u001b[0;32m    142\u001b[0m         \u001b[39m# only wrap the first output for cross decomposition\u001b[39;00m\n\u001b[0;32m    143\u001b[0m         return_tuple \u001b[39m=\u001b[39m (\n\u001b[0;32m    144\u001b[0m             _wrap_data_with_container(method, data_to_wrap[\u001b[39m0\u001b[39m], X, \u001b[39mself\u001b[39m),\n\u001b[0;32m    145\u001b[0m             \u001b[39m*\u001b[39mdata_to_wrap[\u001b[39m1\u001b[39m:],\n\u001b[0;32m    146\u001b[0m         )\n",
      "File \u001b[1;32md:\\Projects\\SCM_Project\\venv\\lib\\site-packages\\sklearn\\base.py:915\u001b[0m, in \u001b[0;36mTransformerMixin.fit_transform\u001b[1;34m(self, X, y, **fit_params)\u001b[0m\n\u001b[0;32m    911\u001b[0m \u001b[39m# non-optimized default implementation; override when a better\u001b[39;00m\n\u001b[0;32m    912\u001b[0m \u001b[39m# method is possible for a given clustering algorithm\u001b[39;00m\n\u001b[0;32m    913\u001b[0m \u001b[39mif\u001b[39;00m y \u001b[39mis\u001b[39;00m \u001b[39mNone\u001b[39;00m:\n\u001b[0;32m    914\u001b[0m     \u001b[39m# fit method of arity 1 (unsupervised transformation)\u001b[39;00m\n\u001b[1;32m--> 915\u001b[0m     \u001b[39mreturn\u001b[39;00m \u001b[39mself\u001b[39;49m\u001b[39m.\u001b[39;49mfit(X, \u001b[39m*\u001b[39;49m\u001b[39m*\u001b[39;49mfit_params)\u001b[39m.\u001b[39mtransform(X)\n\u001b[0;32m    916\u001b[0m \u001b[39melse\u001b[39;00m:\n\u001b[0;32m    917\u001b[0m     \u001b[39m# fit method of arity 2 (supervised transformation)\u001b[39;00m\n\u001b[0;32m    918\u001b[0m     \u001b[39mreturn\u001b[39;00m \u001b[39mself\u001b[39m\u001b[39m.\u001b[39mfit(X, y, \u001b[39m*\u001b[39m\u001b[39m*\u001b[39mfit_params)\u001b[39m.\u001b[39mtransform(X)\n",
      "File \u001b[1;32md:\\Projects\\SCM_Project\\venv\\lib\\site-packages\\sklearn\\base.py:1151\u001b[0m, in \u001b[0;36m_fit_context.<locals>.decorator.<locals>.wrapper\u001b[1;34m(estimator, *args, **kwargs)\u001b[0m\n\u001b[0;32m   1144\u001b[0m     estimator\u001b[39m.\u001b[39m_validate_params()\n\u001b[0;32m   1146\u001b[0m \u001b[39mwith\u001b[39;00m config_context(\n\u001b[0;32m   1147\u001b[0m     skip_parameter_validation\u001b[39m=\u001b[39m(\n\u001b[0;32m   1148\u001b[0m         prefer_skip_nested_validation \u001b[39mor\u001b[39;00m global_skip_validation\n\u001b[0;32m   1149\u001b[0m     )\n\u001b[0;32m   1150\u001b[0m ):\n\u001b[1;32m-> 1151\u001b[0m     \u001b[39mreturn\u001b[39;00m fit_method(estimator, \u001b[39m*\u001b[39;49margs, \u001b[39m*\u001b[39;49m\u001b[39m*\u001b[39;49mkwargs)\n",
      "File \u001b[1;32md:\\Projects\\SCM_Project\\venv\\lib\\site-packages\\sklearn\\preprocessing\\_encoders.py:982\u001b[0m, in \u001b[0;36mOneHotEncoder.fit\u001b[1;34m(self, X, y)\u001b[0m\n\u001b[0;32m    972\u001b[0m     warnings\u001b[39m.\u001b[39mwarn(\n\u001b[0;32m    973\u001b[0m         (\n\u001b[0;32m    974\u001b[0m             \u001b[39m\"\u001b[39m\u001b[39m`sparse` was renamed to `sparse_output` in version 1.2 and \u001b[39m\u001b[39m\"\u001b[39m\n\u001b[1;32m   (...)\u001b[0m\n\u001b[0;32m    978\u001b[0m         \u001b[39mFutureWarning\u001b[39;00m,\n\u001b[0;32m    979\u001b[0m     )\n\u001b[0;32m    980\u001b[0m     \u001b[39mself\u001b[39m\u001b[39m.\u001b[39msparse_output \u001b[39m=\u001b[39m \u001b[39mself\u001b[39m\u001b[39m.\u001b[39msparse\n\u001b[1;32m--> 982\u001b[0m \u001b[39mself\u001b[39;49m\u001b[39m.\u001b[39;49m_fit(\n\u001b[0;32m    983\u001b[0m     X,\n\u001b[0;32m    984\u001b[0m     handle_unknown\u001b[39m=\u001b[39;49m\u001b[39mself\u001b[39;49m\u001b[39m.\u001b[39;49mhandle_unknown,\n\u001b[0;32m    985\u001b[0m     force_all_finite\u001b[39m=\u001b[39;49m\u001b[39m\"\u001b[39;49m\u001b[39mallow-nan\u001b[39;49m\u001b[39m\"\u001b[39;49m,\n\u001b[0;32m    986\u001b[0m )\n\u001b[0;32m    987\u001b[0m \u001b[39mself\u001b[39m\u001b[39m.\u001b[39m_set_drop_idx()\n\u001b[0;32m    988\u001b[0m \u001b[39mself\u001b[39m\u001b[39m.\u001b[39m_n_features_outs \u001b[39m=\u001b[39m \u001b[39mself\u001b[39m\u001b[39m.\u001b[39m_compute_n_features_outs()\n",
      "File \u001b[1;32md:\\Projects\\SCM_Project\\venv\\lib\\site-packages\\sklearn\\preprocessing\\_encoders.py:97\u001b[0m, in \u001b[0;36m_BaseEncoder._fit\u001b[1;34m(self, X, handle_unknown, force_all_finite, return_counts, return_and_ignore_missing_for_infrequent)\u001b[0m\n\u001b[0;32m     94\u001b[0m Xi \u001b[39m=\u001b[39m X_list[i]\n\u001b[0;32m     96\u001b[0m \u001b[39mif\u001b[39;00m \u001b[39mself\u001b[39m\u001b[39m.\u001b[39mcategories \u001b[39m==\u001b[39m \u001b[39m\"\u001b[39m\u001b[39mauto\u001b[39m\u001b[39m\"\u001b[39m:\n\u001b[1;32m---> 97\u001b[0m     result \u001b[39m=\u001b[39m _unique(Xi, return_counts\u001b[39m=\u001b[39;49mcompute_counts)\n\u001b[0;32m     98\u001b[0m     \u001b[39mif\u001b[39;00m compute_counts:\n\u001b[0;32m     99\u001b[0m         cats, counts \u001b[39m=\u001b[39m result\n",
      "File \u001b[1;32md:\\Projects\\SCM_Project\\venv\\lib\\site-packages\\sklearn\\utils\\_encode.py:42\u001b[0m, in \u001b[0;36m_unique\u001b[1;34m(values, return_inverse, return_counts)\u001b[0m\n\u001b[0;32m     11\u001b[0m \u001b[39m\u001b[39m\u001b[39m\"\"\"Helper function to find unique values with support for python objects.\u001b[39;00m\n\u001b[0;32m     12\u001b[0m \n\u001b[0;32m     13\u001b[0m \u001b[39mUses pure python method for object dtype, and numpy method for\u001b[39;00m\n\u001b[1;32m   (...)\u001b[0m\n\u001b[0;32m     39\u001b[0m \u001b[39m    array. Only provided if `return_counts` is True.\u001b[39;00m\n\u001b[0;32m     40\u001b[0m \u001b[39m\"\"\"\u001b[39;00m\n\u001b[0;32m     41\u001b[0m \u001b[39mif\u001b[39;00m values\u001b[39m.\u001b[39mdtype \u001b[39m==\u001b[39m \u001b[39mobject\u001b[39m:\n\u001b[1;32m---> 42\u001b[0m     \u001b[39mreturn\u001b[39;00m _unique_python(\n\u001b[0;32m     43\u001b[0m         values, return_inverse\u001b[39m=\u001b[39;49mreturn_inverse, return_counts\u001b[39m=\u001b[39;49mreturn_counts\n\u001b[0;32m     44\u001b[0m     )\n\u001b[0;32m     45\u001b[0m \u001b[39m# numerical\u001b[39;00m\n\u001b[0;32m     46\u001b[0m \u001b[39mreturn\u001b[39;00m _unique_np(\n\u001b[0;32m     47\u001b[0m     values, return_inverse\u001b[39m=\u001b[39mreturn_inverse, return_counts\u001b[39m=\u001b[39mreturn_counts\n\u001b[0;32m     48\u001b[0m )\n",
      "File \u001b[1;32md:\\Projects\\SCM_Project\\venv\\lib\\site-packages\\sklearn\\utils\\_encode.py:179\u001b[0m, in \u001b[0;36m_unique_python\u001b[1;34m(values, return_inverse, return_counts)\u001b[0m\n\u001b[0;32m    177\u001b[0m \u001b[39mexcept\u001b[39;00m \u001b[39mTypeError\u001b[39;00m:\n\u001b[0;32m    178\u001b[0m     types \u001b[39m=\u001b[39m \u001b[39msorted\u001b[39m(t\u001b[39m.\u001b[39m\u001b[39m__qualname__\u001b[39m \u001b[39mfor\u001b[39;00m t \u001b[39min\u001b[39;00m \u001b[39mset\u001b[39m(\u001b[39mtype\u001b[39m(v) \u001b[39mfor\u001b[39;00m v \u001b[39min\u001b[39;00m values))\n\u001b[1;32m--> 179\u001b[0m     \u001b[39mraise\u001b[39;00m \u001b[39mTypeError\u001b[39;00m(\n\u001b[0;32m    180\u001b[0m         \u001b[39m\"\u001b[39m\u001b[39mEncoders require their input to be uniformly \u001b[39m\u001b[39m\"\u001b[39m\n\u001b[0;32m    181\u001b[0m         \u001b[39mf\u001b[39m\u001b[39m\"\u001b[39m\u001b[39mstrings or numbers. Got \u001b[39m\u001b[39m{\u001b[39;00mtypes\u001b[39m}\u001b[39;00m\u001b[39m\"\u001b[39m\n\u001b[0;32m    182\u001b[0m     )\n\u001b[0;32m    183\u001b[0m ret \u001b[39m=\u001b[39m (uniques,)\n\u001b[0;32m    185\u001b[0m \u001b[39mif\u001b[39;00m return_inverse:\n",
      "\u001b[1;31mTypeError\u001b[0m: Encoders require their input to be uniformly strings or numbers. Got ['float', 'str']"
     ]
    }
   ],
   "source": [
    "X = preprocessor.fit_transform(X)"
   ]
  },
  {
   "cell_type": "code",
   "execution_count": null,
   "metadata": {},
   "outputs": [
    {
     "data": {
      "text/plain": [
       "((5358, 96), (1340, 96))"
      ]
     },
     "execution_count": 528,
     "metadata": {},
     "output_type": "execute_result"
    }
   ],
   "source": [
    "# separate dataset into train and test\n",
    "from sklearn.model_selection import train_test_split\n",
    "X_train, X_test, y_train, y_test = train_test_split(X,y,test_size=0.2,random_state=42)\n",
    "X_train.shape, X_test.shape"
   ]
  },
  {
   "cell_type": "code",
   "execution_count": null,
   "metadata": {},
   "outputs": [],
   "source": [
    "def evaluate_model(true, predicted):\n",
    "    mae = mean_absolute_error(true, predicted)\n",
    "    mse = mean_squared_error(true, predicted)\n",
    "    rmse = np.sqrt(mean_squared_error(true, predicted))\n",
    "    r2_square = r2_score(true, predicted)\n",
    "    return mae, rmse, r2_square"
   ]
  },
  {
   "cell_type": "code",
   "execution_count": null,
   "metadata": {},
   "outputs": [
    {
     "name": "stdout",
     "output_type": "stream",
     "text": [
      "Linear Regression\n",
      "Model performance for Training set\n",
      "- Root Mean Squared Error: 6057.2346\n",
      "- Mean Absolute Error: 4622.4553\n",
      "- R2 Score: 0.5413\n",
      "----------------------------------\n",
      "Model performance for Test set\n",
      "- Root Mean Squared Error: 6095.2122\n",
      "- Mean Absolute Error: 4668.6241\n",
      "- R2 Score: 0.5253\n",
      "===================================\n",
      "\n",
      "\n"
     ]
    },
    {
     "name": "stdout",
     "output_type": "stream",
     "text": [
      "Lasso\n",
      "Model performance for Training set\n",
      "- Root Mean Squared Error: 6061.2909\n",
      "- Mean Absolute Error: 4630.3259\n",
      "- R2 Score: 0.5407\n",
      "----------------------------------\n",
      "Model performance for Test set\n",
      "- Root Mean Squared Error: 6094.7291\n",
      "- Mean Absolute Error: 4673.9565\n",
      "- R2 Score: 0.5254\n",
      "===================================\n",
      "\n",
      "\n",
      "Ridge\n",
      "Model performance for Training set\n",
      "- Root Mean Squared Error: 6058.8246\n",
      "- Mean Absolute Error: 4626.8305\n",
      "- R2 Score: 0.5411\n",
      "----------------------------------\n",
      "Model performance for Test set\n",
      "- Root Mean Squared Error: 6092.3444\n",
      "- Mean Absolute Error: 4668.2301\n",
      "- R2 Score: 0.5258\n",
      "===================================\n",
      "\n",
      "\n",
      "K-Neighbors Regressor\n",
      "Model performance for Training set\n",
      "- Root Mean Squared Error: 4327.6194\n",
      "- Mean Absolute Error: 2914.7716\n",
      "- R2 Score: 0.7659\n",
      "----------------------------------\n",
      "Model performance for Test set\n",
      "- Root Mean Squared Error: 5214.2810\n",
      "- Mean Absolute Error: 3536.7824\n",
      "- R2 Score: 0.6526\n",
      "===================================\n",
      "\n",
      "\n",
      "Decision Tree\n",
      "Model performance for Training set\n",
      "- Root Mean Squared Error: 814.7773\n",
      "- Mean Absolute Error: 116.7575\n",
      "- R2 Score: 0.9917\n",
      "----------------------------------\n",
      "Model performance for Test set\n",
      "- Root Mean Squared Error: 5392.8577\n",
      "- Mean Absolute Error: 2724.0707\n",
      "- R2 Score: 0.6284\n",
      "===================================\n",
      "\n",
      "\n",
      "Random Forest Regressor\n",
      "Model performance for Training set\n",
      "- Root Mean Squared Error: 1692.1286\n",
      "- Mean Absolute Error: 976.5736\n",
      "- R2 Score: 0.9642\n",
      "----------------------------------\n",
      "Model performance for Test set\n",
      "- Root Mean Squared Error: 3896.9577\n",
      "- Mean Absolute Error: 2376.0290\n",
      "- R2 Score: 0.8060\n",
      "===================================\n",
      "\n",
      "\n",
      "XGBRegressor\n",
      "Model performance for Training set\n",
      "- Root Mean Squared Error: 2442.1192\n",
      "- Mean Absolute Error: 1616.1240\n",
      "- R2 Score: 0.9254\n",
      "----------------------------------\n",
      "Model performance for Test set\n",
      "- Root Mean Squared Error: 3934.4237\n",
      "- Mean Absolute Error: 2505.6132\n",
      "- R2 Score: 0.8022\n",
      "===================================\n",
      "\n",
      "\n",
      "CatBoosting Regressor\n",
      "Model performance for Training set\n",
      "- Root Mean Squared Error: 3311.0526\n",
      "- Mean Absolute Error: 2239.8388\n",
      "- R2 Score: 0.8629\n",
      "----------------------------------\n",
      "Model performance for Test set\n",
      "- Root Mean Squared Error: 4012.7308\n",
      "- Mean Absolute Error: 2625.5696\n",
      "- R2 Score: 0.7943\n",
      "===================================\n",
      "\n",
      "\n",
      "AdaBoost Regressor\n",
      "Model performance for Training set\n",
      "- Root Mean Squared Error: 6284.9325\n",
      "- Mean Absolute Error: 5098.1445\n",
      "- R2 Score: 0.5062\n",
      "----------------------------------\n",
      "Model performance for Test set\n",
      "- Root Mean Squared Error: 6140.2743\n",
      "- Mean Absolute Error: 4950.9221\n",
      "- R2 Score: 0.5183\n",
      "===================================\n",
      "\n",
      "\n"
     ]
    }
   ],
   "source": [
    "models = {\n",
    "    \"Linear Regression\": LinearRegression(),\n",
    "    \"Lasso\": Lasso(),\n",
    "    \"Ridge\": Ridge(),\n",
    "    \"K-Neighbors Regressor\": KNeighborsRegressor(),\n",
    "    \"Decision Tree\": DecisionTreeRegressor(),\n",
    "    \"Random Forest Regressor\": RandomForestRegressor(),\n",
    "    \"XGBRegressor\": XGBRegressor(), \n",
    "    \"CatBoosting Regressor\": CatBoostRegressor(verbose=False),\n",
    "    \"AdaBoost Regressor\": AdaBoostRegressor()\n",
    "}\n",
    "model_list = []\n",
    "r2_list =[]\n",
    "\n",
    "for i in range(len(list(models))):\n",
    "    model = list(models.values())[i]\n",
    "    model.fit(X_train, y_train) # Train model\n",
    "\n",
    "    # Make predictions\n",
    "    y_train_pred = model.predict(X_train)\n",
    "    y_test_pred = model.predict(X_test)\n",
    "    \n",
    "    # Evaluate Train and Test dataset\n",
    "    model_train_mae , model_train_rmse, model_train_r2 = evaluate_model(y_train, y_train_pred)\n",
    "\n",
    "    model_test_mae , model_test_rmse, model_test_r2 = evaluate_model(y_test, y_test_pred)\n",
    "\n",
    "    \n",
    "    print(list(models.keys())[i])\n",
    "    model_list.append(list(models.keys())[i])\n",
    "    \n",
    "    print('Model performance for Training set')\n",
    "    print(\"- Root Mean Squared Error: {:.4f}\".format(model_train_rmse))\n",
    "    print(\"- Mean Absolute Error: {:.4f}\".format(model_train_mae))\n",
    "    print(\"- R2 Score: {:.4f}\".format(model_train_r2))\n",
    "\n",
    "    print('----------------------------------')\n",
    "    \n",
    "    print('Model performance for Test set')\n",
    "    print(\"- Root Mean Squared Error: {:.4f}\".format(model_test_rmse))\n",
    "    print(\"- Mean Absolute Error: {:.4f}\".format(model_test_mae))\n",
    "    print(\"- R2 Score: {:.4f}\".format(model_test_r2))\n",
    "    r2_list.append(model_test_r2)\n",
    "    \n",
    "    print('='*35)\n",
    "    print('\\n')\n"
   ]
  },
  {
   "cell_type": "code",
   "execution_count": null,
   "metadata": {},
   "outputs": [
    {
     "data": {
      "text/html": [
       "<div>\n",
       "<style scoped>\n",
       "    .dataframe tbody tr th:only-of-type {\n",
       "        vertical-align: middle;\n",
       "    }\n",
       "\n",
       "    .dataframe tbody tr th {\n",
       "        vertical-align: top;\n",
       "    }\n",
       "\n",
       "    .dataframe thead th {\n",
       "        text-align: right;\n",
       "    }\n",
       "</style>\n",
       "<table border=\"1\" class=\"dataframe\">\n",
       "  <thead>\n",
       "    <tr style=\"text-align: right;\">\n",
       "      <th></th>\n",
       "      <th>Model Name</th>\n",
       "      <th>R2_Score</th>\n",
       "    </tr>\n",
       "  </thead>\n",
       "  <tbody>\n",
       "    <tr>\n",
       "      <th>5</th>\n",
       "      <td>Random Forest Regressor</td>\n",
       "      <td>0.805967</td>\n",
       "    </tr>\n",
       "    <tr>\n",
       "      <th>6</th>\n",
       "      <td>XGBRegressor</td>\n",
       "      <td>0.802218</td>\n",
       "    </tr>\n",
       "    <tr>\n",
       "      <th>7</th>\n",
       "      <td>CatBoosting Regressor</td>\n",
       "      <td>0.794266</td>\n",
       "    </tr>\n",
       "    <tr>\n",
       "      <th>3</th>\n",
       "      <td>K-Neighbors Regressor</td>\n",
       "      <td>0.652613</td>\n",
       "    </tr>\n",
       "    <tr>\n",
       "      <th>4</th>\n",
       "      <td>Decision Tree</td>\n",
       "      <td>0.628411</td>\n",
       "    </tr>\n",
       "    <tr>\n",
       "      <th>2</th>\n",
       "      <td>Ridge</td>\n",
       "      <td>0.525765</td>\n",
       "    </tr>\n",
       "    <tr>\n",
       "      <th>1</th>\n",
       "      <td>Lasso</td>\n",
       "      <td>0.525393</td>\n",
       "    </tr>\n",
       "    <tr>\n",
       "      <th>0</th>\n",
       "      <td>Linear Regression</td>\n",
       "      <td>0.525318</td>\n",
       "    </tr>\n",
       "    <tr>\n",
       "      <th>8</th>\n",
       "      <td>AdaBoost Regressor</td>\n",
       "      <td>0.518273</td>\n",
       "    </tr>\n",
       "  </tbody>\n",
       "</table>\n",
       "</div>"
      ],
      "text/plain": [
       "                Model Name  R2_Score\n",
       "5  Random Forest Regressor  0.805967\n",
       "6             XGBRegressor  0.802218\n",
       "7    CatBoosting Regressor  0.794266\n",
       "3    K-Neighbors Regressor  0.652613\n",
       "4            Decision Tree  0.628411\n",
       "2                    Ridge  0.525765\n",
       "1                    Lasso  0.525393\n",
       "0        Linear Regression  0.525318\n",
       "8       AdaBoost Regressor  0.518273"
      ]
     },
     "execution_count": 531,
     "metadata": {},
     "output_type": "execute_result"
    }
   ],
   "source": [
    "pd.DataFrame(list(zip(model_list, r2_list)), columns=['Model Name', 'R2_Score']).sort_values(by=[\"R2_Score\"],ascending=False)\n"
   ]
  },
  {
   "cell_type": "markdown",
   "metadata": {},
   "source": [
    "Random Forest Regressor Performing well with 80.20%"
   ]
  },
  {
   "cell_type": "code",
   "execution_count": null,
   "metadata": {},
   "outputs": [],
   "source": [
    "import csv\n",
    "# # Specify the file path and open the CSV file in write mode\n",
    "# csv_file_path = 'cleaned.csv'\n",
    "# csv_file = open(csv_file_path, 'w', newline='')\n",
    "# # Create a CSV writer object\n",
    "# csv_writer = csv.writer(csv_file)\n",
    "\n",
    "# # Write the cleaned data to the CSV file\n",
    "# csv_writer.writerows(df)\n",
    "\n",
    "# # Close the CSV file\n",
    "# csv_file.close()"
   ]
  },
  {
   "cell_type": "code",
   "execution_count": null,
   "metadata": {},
   "outputs": [],
   "source": [
    "# df=df.drop('Year', axis=1)"
   ]
  },
  {
   "cell_type": "code",
   "execution_count": null,
   "metadata": {},
   "outputs": [],
   "source": [
    "csv_file_path = 'clean.csv'\n",
    "\n",
    "df = pd.DataFrame(df)\n",
    "df.to_csv(csv_file_path, index=False, header=True)\n"
   ]
  }
 ],
 "metadata": {
  "kernelspec": {
   "display_name": "Python 3",
   "language": "python",
   "name": "python3"
  },
  "language_info": {
   "codemirror_mode": {
    "name": "ipython",
    "version": 3
   },
   "file_extension": ".py",
   "mimetype": "text/x-python",
   "name": "python",
   "nbconvert_exporter": "python",
   "pygments_lexer": "ipython3",
   "version": "3.8.17"
  },
  "orig_nbformat": 4
 },
 "nbformat": 4,
 "nbformat_minor": 2
}
