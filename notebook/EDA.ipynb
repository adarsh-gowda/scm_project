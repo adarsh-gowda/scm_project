{
 "cells": [
  {
   "cell_type": "markdown",
   "metadata": {},
   "source": [
    "# Shipment Pricing Prediction\n"
   ]
  },
  {
   "cell_type": "markdown",
   "metadata": {},
   "source": [
    "### 1) Problem Statement\n",
    "*  The market for supply chain analytics is expected to develop at a CAGR of 17.3 percent \n",
    "from 2019 to 2024, more than doubling in size. This data demonstrates how supply \n",
    "chain organizations are understanding the advantages of being able to predict what will \n",
    "happen in the future with a decent degree of certainty. Supply chain leaders may use \n",
    "this data to address supply chain difficulties, cut costs, and enhance service levels all at \n",
    "the same time.\n",
    "* The main goal is to predict the supply chain shipment pricing based on the available \n",
    "factors in the dataset.\n",
    "\n"
   ]
  },
  {
   "cell_type": "markdown",
   "metadata": {},
   "source": [
    "### 2) Data Set\n",
    "* Dataset - https://www.kaggle.com/divyeshardeshana/supply-chain-shipment-pricing-data\n",
    "* The Data consists of 33 columns and 10324 rows"
   ]
  },
  {
   "cell_type": "markdown",
   "metadata": {},
   "source": [
    "### 3 Import Data and Required Packages\n",
    "#### Importing Pandas, Numpy, Matplotlib, Seaborn and Warings Library."
   ]
  },
  {
   "cell_type": "code",
   "execution_count": 1668,
   "metadata": {},
   "outputs": [],
   "source": [
    "import numpy as np\n",
    "import pandas as pd\n",
    "import seaborn as sns\n",
    "import matplotlib.pyplot as plt\n",
    "%matplotlib inline\n",
    "import warnings\n",
    "warnings.filterwarnings('ignore')"
   ]
  },
  {
   "cell_type": "code",
   "execution_count": 1669,
   "metadata": {},
   "outputs": [],
   "source": [
    "df = pd.read_csv(\"Data\\SCMS_Delivery_History_Dataset.csv\")"
   ]
  },
  {
   "cell_type": "code",
   "execution_count": 1670,
   "metadata": {},
   "outputs": [
    {
     "data": {
      "text/html": [
       "<div>\n",
       "<style scoped>\n",
       "    .dataframe tbody tr th:only-of-type {\n",
       "        vertical-align: middle;\n",
       "    }\n",
       "\n",
       "    .dataframe tbody tr th {\n",
       "        vertical-align: top;\n",
       "    }\n",
       "\n",
       "    .dataframe thead th {\n",
       "        text-align: right;\n",
       "    }\n",
       "</style>\n",
       "<table border=\"1\" class=\"dataframe\">\n",
       "  <thead>\n",
       "    <tr style=\"text-align: right;\">\n",
       "      <th></th>\n",
       "      <th>ID</th>\n",
       "      <th>Project Code</th>\n",
       "      <th>PQ #</th>\n",
       "      <th>PO / SO #</th>\n",
       "      <th>ASN/DN #</th>\n",
       "      <th>Country</th>\n",
       "      <th>Managed By</th>\n",
       "      <th>Fulfill Via</th>\n",
       "      <th>Vendor INCO Term</th>\n",
       "      <th>Shipment Mode</th>\n",
       "      <th>...</th>\n",
       "      <th>Unit of Measure (Per Pack)</th>\n",
       "      <th>Line Item Quantity</th>\n",
       "      <th>Line Item Value</th>\n",
       "      <th>Pack Price</th>\n",
       "      <th>Unit Price</th>\n",
       "      <th>Manufacturing Site</th>\n",
       "      <th>First Line Designation</th>\n",
       "      <th>Weight (Kilograms)</th>\n",
       "      <th>Freight Cost (USD)</th>\n",
       "      <th>Line Item Insurance (USD)</th>\n",
       "    </tr>\n",
       "  </thead>\n",
       "  <tbody>\n",
       "    <tr>\n",
       "      <th>0</th>\n",
       "      <td>1</td>\n",
       "      <td>100-CI-T01</td>\n",
       "      <td>Pre-PQ Process</td>\n",
       "      <td>SCMS-4</td>\n",
       "      <td>ASN-8</td>\n",
       "      <td>C?e d'Ivoire</td>\n",
       "      <td>PMO - US</td>\n",
       "      <td>Direct Drop</td>\n",
       "      <td>EXW</td>\n",
       "      <td>Air</td>\n",
       "      <td>...</td>\n",
       "      <td>30</td>\n",
       "      <td>19</td>\n",
       "      <td>551.00</td>\n",
       "      <td>29.00</td>\n",
       "      <td>0.97</td>\n",
       "      <td>Ranbaxy Fine Chemicals LTD</td>\n",
       "      <td>Yes</td>\n",
       "      <td>13</td>\n",
       "      <td>780.34</td>\n",
       "      <td>NaN</td>\n",
       "    </tr>\n",
       "    <tr>\n",
       "      <th>1</th>\n",
       "      <td>3</td>\n",
       "      <td>108-VN-T01</td>\n",
       "      <td>Pre-PQ Process</td>\n",
       "      <td>SCMS-13</td>\n",
       "      <td>ASN-85</td>\n",
       "      <td>Vietnam</td>\n",
       "      <td>PMO - US</td>\n",
       "      <td>Direct Drop</td>\n",
       "      <td>EXW</td>\n",
       "      <td>Air</td>\n",
       "      <td>...</td>\n",
       "      <td>240</td>\n",
       "      <td>1000</td>\n",
       "      <td>6200.00</td>\n",
       "      <td>6.20</td>\n",
       "      <td>0.03</td>\n",
       "      <td>Aurobindo Unit III, India</td>\n",
       "      <td>Yes</td>\n",
       "      <td>358</td>\n",
       "      <td>4521.5</td>\n",
       "      <td>NaN</td>\n",
       "    </tr>\n",
       "    <tr>\n",
       "      <th>2</th>\n",
       "      <td>4</td>\n",
       "      <td>100-CI-T01</td>\n",
       "      <td>Pre-PQ Process</td>\n",
       "      <td>SCMS-20</td>\n",
       "      <td>ASN-14</td>\n",
       "      <td>C?e d'Ivoire</td>\n",
       "      <td>PMO - US</td>\n",
       "      <td>Direct Drop</td>\n",
       "      <td>FCA</td>\n",
       "      <td>Air</td>\n",
       "      <td>...</td>\n",
       "      <td>100</td>\n",
       "      <td>500</td>\n",
       "      <td>40000.00</td>\n",
       "      <td>80.00</td>\n",
       "      <td>0.80</td>\n",
       "      <td>ABBVIE GmbH &amp; Co.KG Wiesbaden</td>\n",
       "      <td>Yes</td>\n",
       "      <td>171</td>\n",
       "      <td>1653.78</td>\n",
       "      <td>NaN</td>\n",
       "    </tr>\n",
       "    <tr>\n",
       "      <th>3</th>\n",
       "      <td>15</td>\n",
       "      <td>108-VN-T01</td>\n",
       "      <td>Pre-PQ Process</td>\n",
       "      <td>SCMS-78</td>\n",
       "      <td>ASN-50</td>\n",
       "      <td>Vietnam</td>\n",
       "      <td>PMO - US</td>\n",
       "      <td>Direct Drop</td>\n",
       "      <td>EXW</td>\n",
       "      <td>Air</td>\n",
       "      <td>...</td>\n",
       "      <td>60</td>\n",
       "      <td>31920</td>\n",
       "      <td>127360.80</td>\n",
       "      <td>3.99</td>\n",
       "      <td>0.07</td>\n",
       "      <td>Ranbaxy, Paonta Shahib, India</td>\n",
       "      <td>Yes</td>\n",
       "      <td>1855</td>\n",
       "      <td>16007.06</td>\n",
       "      <td>NaN</td>\n",
       "    </tr>\n",
       "    <tr>\n",
       "      <th>4</th>\n",
       "      <td>16</td>\n",
       "      <td>108-VN-T01</td>\n",
       "      <td>Pre-PQ Process</td>\n",
       "      <td>SCMS-81</td>\n",
       "      <td>ASN-55</td>\n",
       "      <td>Vietnam</td>\n",
       "      <td>PMO - US</td>\n",
       "      <td>Direct Drop</td>\n",
       "      <td>EXW</td>\n",
       "      <td>Air</td>\n",
       "      <td>...</td>\n",
       "      <td>60</td>\n",
       "      <td>38000</td>\n",
       "      <td>121600.00</td>\n",
       "      <td>3.20</td>\n",
       "      <td>0.05</td>\n",
       "      <td>Aurobindo Unit III, India</td>\n",
       "      <td>Yes</td>\n",
       "      <td>7590</td>\n",
       "      <td>45450.08</td>\n",
       "      <td>NaN</td>\n",
       "    </tr>\n",
       "    <tr>\n",
       "      <th>5</th>\n",
       "      <td>23</td>\n",
       "      <td>112-NG-T01</td>\n",
       "      <td>Pre-PQ Process</td>\n",
       "      <td>SCMS-87</td>\n",
       "      <td>ASN-57</td>\n",
       "      <td>Nigeria</td>\n",
       "      <td>PMO - US</td>\n",
       "      <td>Direct Drop</td>\n",
       "      <td>EXW</td>\n",
       "      <td>Air</td>\n",
       "      <td>...</td>\n",
       "      <td>240</td>\n",
       "      <td>416</td>\n",
       "      <td>2225.60</td>\n",
       "      <td>5.35</td>\n",
       "      <td>0.02</td>\n",
       "      <td>Aurobindo Unit III, India</td>\n",
       "      <td>Yes</td>\n",
       "      <td>504</td>\n",
       "      <td>5920.42</td>\n",
       "      <td>NaN</td>\n",
       "    </tr>\n",
       "    <tr>\n",
       "      <th>6</th>\n",
       "      <td>44</td>\n",
       "      <td>110-ZM-T01</td>\n",
       "      <td>Pre-PQ Process</td>\n",
       "      <td>SCMS-139</td>\n",
       "      <td>ASN-130</td>\n",
       "      <td>Zambia</td>\n",
       "      <td>PMO - US</td>\n",
       "      <td>Direct Drop</td>\n",
       "      <td>DDU</td>\n",
       "      <td>Air</td>\n",
       "      <td>...</td>\n",
       "      <td>90</td>\n",
       "      <td>135</td>\n",
       "      <td>4374.00</td>\n",
       "      <td>32.40</td>\n",
       "      <td>0.36</td>\n",
       "      <td>MSD South Granville Australia</td>\n",
       "      <td>Yes</td>\n",
       "      <td>328</td>\n",
       "      <td>Freight Included in Commodity Cost</td>\n",
       "      <td>NaN</td>\n",
       "    </tr>\n",
       "    <tr>\n",
       "      <th>7</th>\n",
       "      <td>45</td>\n",
       "      <td>109-TZ-T01</td>\n",
       "      <td>Pre-PQ Process</td>\n",
       "      <td>SCMS-140</td>\n",
       "      <td>ASN-94</td>\n",
       "      <td>Tanzania</td>\n",
       "      <td>PMO - US</td>\n",
       "      <td>Direct Drop</td>\n",
       "      <td>EXW</td>\n",
       "      <td>Air</td>\n",
       "      <td>...</td>\n",
       "      <td>60</td>\n",
       "      <td>16667</td>\n",
       "      <td>60834.55</td>\n",
       "      <td>3.65</td>\n",
       "      <td>0.06</td>\n",
       "      <td>Aurobindo Unit III, India</td>\n",
       "      <td>Yes</td>\n",
       "      <td>1478</td>\n",
       "      <td>6212.41</td>\n",
       "      <td>NaN</td>\n",
       "    </tr>\n",
       "    <tr>\n",
       "      <th>8</th>\n",
       "      <td>46</td>\n",
       "      <td>112-NG-T01</td>\n",
       "      <td>Pre-PQ Process</td>\n",
       "      <td>SCMS-156</td>\n",
       "      <td>ASN-93</td>\n",
       "      <td>Nigeria</td>\n",
       "      <td>PMO - US</td>\n",
       "      <td>Direct Drop</td>\n",
       "      <td>EXW</td>\n",
       "      <td>Air</td>\n",
       "      <td>...</td>\n",
       "      <td>60</td>\n",
       "      <td>273</td>\n",
       "      <td>532.35</td>\n",
       "      <td>1.95</td>\n",
       "      <td>0.03</td>\n",
       "      <td>Aurobindo Unit III, India</td>\n",
       "      <td>No</td>\n",
       "      <td>See ASN-93 (ID#:1281)</td>\n",
       "      <td>See ASN-93 (ID#:1281)</td>\n",
       "      <td>NaN</td>\n",
       "    </tr>\n",
       "    <tr>\n",
       "      <th>9</th>\n",
       "      <td>47</td>\n",
       "      <td>110-ZM-T01</td>\n",
       "      <td>Pre-PQ Process</td>\n",
       "      <td>SCMS-165</td>\n",
       "      <td>ASN-199</td>\n",
       "      <td>Zambia</td>\n",
       "      <td>PMO - US</td>\n",
       "      <td>Direct Drop</td>\n",
       "      <td>CIP</td>\n",
       "      <td>Air</td>\n",
       "      <td>...</td>\n",
       "      <td>120</td>\n",
       "      <td>2800</td>\n",
       "      <td>115080.00</td>\n",
       "      <td>41.10</td>\n",
       "      <td>0.34</td>\n",
       "      <td>ABBVIE (Abbott) St. P'burg USA</td>\n",
       "      <td>Yes</td>\n",
       "      <td>643</td>\n",
       "      <td>Freight Included in Commodity Cost</td>\n",
       "      <td>NaN</td>\n",
       "    </tr>\n",
       "  </tbody>\n",
       "</table>\n",
       "<p>10 rows × 33 columns</p>\n",
       "</div>"
      ],
      "text/plain": [
       "   ID Project Code            PQ # PO / SO # ASN/DN #       Country  \\\n",
       "0   1   100-CI-T01  Pre-PQ Process    SCMS-4    ASN-8  C?e d'Ivoire   \n",
       "1   3   108-VN-T01  Pre-PQ Process   SCMS-13   ASN-85       Vietnam   \n",
       "2   4   100-CI-T01  Pre-PQ Process   SCMS-20   ASN-14  C?e d'Ivoire   \n",
       "3  15   108-VN-T01  Pre-PQ Process   SCMS-78   ASN-50       Vietnam   \n",
       "4  16   108-VN-T01  Pre-PQ Process   SCMS-81   ASN-55       Vietnam   \n",
       "5  23   112-NG-T01  Pre-PQ Process   SCMS-87   ASN-57       Nigeria   \n",
       "6  44   110-ZM-T01  Pre-PQ Process  SCMS-139  ASN-130        Zambia   \n",
       "7  45   109-TZ-T01  Pre-PQ Process  SCMS-140   ASN-94      Tanzania   \n",
       "8  46   112-NG-T01  Pre-PQ Process  SCMS-156   ASN-93       Nigeria   \n",
       "9  47   110-ZM-T01  Pre-PQ Process  SCMS-165  ASN-199        Zambia   \n",
       "\n",
       "  Managed By  Fulfill Via Vendor INCO Term Shipment Mode  ...  \\\n",
       "0   PMO - US  Direct Drop              EXW           Air  ...   \n",
       "1   PMO - US  Direct Drop              EXW           Air  ...   \n",
       "2   PMO - US  Direct Drop              FCA           Air  ...   \n",
       "3   PMO - US  Direct Drop              EXW           Air  ...   \n",
       "4   PMO - US  Direct Drop              EXW           Air  ...   \n",
       "5   PMO - US  Direct Drop              EXW           Air  ...   \n",
       "6   PMO - US  Direct Drop              DDU           Air  ...   \n",
       "7   PMO - US  Direct Drop              EXW           Air  ...   \n",
       "8   PMO - US  Direct Drop              EXW           Air  ...   \n",
       "9   PMO - US  Direct Drop              CIP           Air  ...   \n",
       "\n",
       "  Unit of Measure (Per Pack) Line Item Quantity Line Item Value Pack Price  \\\n",
       "0                         30                 19          551.00      29.00   \n",
       "1                        240               1000         6200.00       6.20   \n",
       "2                        100                500        40000.00      80.00   \n",
       "3                         60              31920       127360.80       3.99   \n",
       "4                         60              38000       121600.00       3.20   \n",
       "5                        240                416         2225.60       5.35   \n",
       "6                         90                135         4374.00      32.40   \n",
       "7                         60              16667        60834.55       3.65   \n",
       "8                         60                273          532.35       1.95   \n",
       "9                        120               2800       115080.00      41.10   \n",
       "\n",
       "  Unit Price              Manufacturing Site First Line Designation  \\\n",
       "0       0.97      Ranbaxy Fine Chemicals LTD                    Yes   \n",
       "1       0.03       Aurobindo Unit III, India                    Yes   \n",
       "2       0.80   ABBVIE GmbH & Co.KG Wiesbaden                    Yes   \n",
       "3       0.07   Ranbaxy, Paonta Shahib, India                    Yes   \n",
       "4       0.05       Aurobindo Unit III, India                    Yes   \n",
       "5       0.02       Aurobindo Unit III, India                    Yes   \n",
       "6       0.36   MSD South Granville Australia                    Yes   \n",
       "7       0.06       Aurobindo Unit III, India                    Yes   \n",
       "8       0.03       Aurobindo Unit III, India                     No   \n",
       "9       0.34  ABBVIE (Abbott) St. P'burg USA                    Yes   \n",
       "\n",
       "      Weight (Kilograms)                  Freight Cost (USD)  \\\n",
       "0                     13                              780.34   \n",
       "1                    358                              4521.5   \n",
       "2                    171                             1653.78   \n",
       "3                   1855                            16007.06   \n",
       "4                   7590                            45450.08   \n",
       "5                    504                             5920.42   \n",
       "6                    328  Freight Included in Commodity Cost   \n",
       "7                   1478                             6212.41   \n",
       "8  See ASN-93 (ID#:1281)               See ASN-93 (ID#:1281)   \n",
       "9                    643  Freight Included in Commodity Cost   \n",
       "\n",
       "  Line Item Insurance (USD)  \n",
       "0                       NaN  \n",
       "1                       NaN  \n",
       "2                       NaN  \n",
       "3                       NaN  \n",
       "4                       NaN  \n",
       "5                       NaN  \n",
       "6                       NaN  \n",
       "7                       NaN  \n",
       "8                       NaN  \n",
       "9                       NaN  \n",
       "\n",
       "[10 rows x 33 columns]"
      ]
     },
     "execution_count": 1670,
     "metadata": {},
     "output_type": "execute_result"
    }
   ],
   "source": [
    "df.head(10)"
   ]
  },
  {
   "cell_type": "code",
   "execution_count": 1671,
   "metadata": {},
   "outputs": [
    {
     "data": {
      "text/plain": [
       "(10324, 33)"
      ]
     },
     "execution_count": 1671,
     "metadata": {},
     "output_type": "execute_result"
    }
   ],
   "source": [
    "df.shape"
   ]
  },
  {
   "cell_type": "markdown",
   "metadata": {},
   "source": [
    "#### 4) Data Checks to perform\n",
    "* Check Missing values\n",
    "* Check Duplicates\n",
    "* Check data type\n",
    "* Check the number of unique values of each column\n",
    "* Check statistics of data set\n",
    "* Check various categories present in the different categorical column"
   ]
  },
  {
   "cell_type": "markdown",
   "metadata": {},
   "source": [
    "4.1 Check Missing values"
   ]
  },
  {
   "cell_type": "code",
   "execution_count": 1672,
   "metadata": {},
   "outputs": [
    {
     "data": {
      "text/plain": [
       "ID                                 0\n",
       "Project Code                       0\n",
       "PQ #                               0\n",
       "PO / SO #                          0\n",
       "ASN/DN #                           0\n",
       "Country                            0\n",
       "Managed By                         0\n",
       "Fulfill Via                        0\n",
       "Vendor INCO Term                   0\n",
       "Shipment Mode                    360\n",
       "PQ First Sent to Client Date       0\n",
       "PO Sent to Vendor Date             0\n",
       "Scheduled Delivery Date            0\n",
       "Delivered to Client Date           0\n",
       "Delivery Recorded Date             0\n",
       "Product Group                      0\n",
       "Sub Classification                 0\n",
       "Vendor                             0\n",
       "Item Description                   0\n",
       "Molecule/Test Type                 0\n",
       "Brand                              0\n",
       "Dosage                          1736\n",
       "Dosage Form                        0\n",
       "Unit of Measure (Per Pack)         0\n",
       "Line Item Quantity                 0\n",
       "Line Item Value                    0\n",
       "Pack Price                         0\n",
       "Unit Price                         0\n",
       "Manufacturing Site                 0\n",
       "First Line Designation             0\n",
       "Weight (Kilograms)                 0\n",
       "Freight Cost (USD)                 0\n",
       "Line Item Insurance (USD)        287\n",
       "dtype: int64"
      ]
     },
     "execution_count": 1672,
     "metadata": {},
     "output_type": "execute_result"
    }
   ],
   "source": [
    "df.isna().sum()"
   ]
  },
  {
   "cell_type": "code",
   "execution_count": 1673,
   "metadata": {},
   "outputs": [
    {
     "data": {
      "text/plain": [
       "Shipment Mode                 360\n",
       "Dosage                       1736\n",
       "Line Item Insurance (USD)     287\n",
       "dtype: int64"
      ]
     },
     "execution_count": 1673,
     "metadata": {},
     "output_type": "execute_result"
    }
   ],
   "source": [
    "# Filtering the only columns with Null value\n",
    "nan_counts=df.isna().sum()\n",
    "columns_with_nan = nan_counts[nan_counts > 0]\n",
    "columns_with_nan"
   ]
  },
  {
   "cell_type": "markdown",
   "metadata": {},
   "source": [
    "There are no missing values in the above columns"
   ]
  },
  {
   "cell_type": "markdown",
   "metadata": {},
   "source": [
    "4.2 Check Duplicates"
   ]
  },
  {
   "cell_type": "code",
   "execution_count": 1674,
   "metadata": {},
   "outputs": [
    {
     "data": {
      "text/plain": [
       "0"
      ]
     },
     "execution_count": 1674,
     "metadata": {},
     "output_type": "execute_result"
    }
   ],
   "source": [
    "df.duplicated().sum()"
   ]
  },
  {
   "cell_type": "markdown",
   "metadata": {},
   "source": [
    "There are no duplicates values in the data set"
   ]
  },
  {
   "cell_type": "markdown",
   "metadata": {},
   "source": [
    "4.3 Check data types"
   ]
  },
  {
   "cell_type": "code",
   "execution_count": 1675,
   "metadata": {},
   "outputs": [
    {
     "name": "stdout",
     "output_type": "stream",
     "text": [
      "<class 'pandas.core.frame.DataFrame'>\n",
      "RangeIndex: 10324 entries, 0 to 10323\n",
      "Data columns (total 33 columns):\n",
      " #   Column                        Non-Null Count  Dtype  \n",
      "---  ------                        --------------  -----  \n",
      " 0   ID                            10324 non-null  int64  \n",
      " 1   Project Code                  10324 non-null  object \n",
      " 2   PQ #                          10324 non-null  object \n",
      " 3   PO / SO #                     10324 non-null  object \n",
      " 4   ASN/DN #                      10324 non-null  object \n",
      " 5   Country                       10324 non-null  object \n",
      " 6   Managed By                    10324 non-null  object \n",
      " 7   Fulfill Via                   10324 non-null  object \n",
      " 8   Vendor INCO Term              10324 non-null  object \n",
      " 9   Shipment Mode                 9964 non-null   object \n",
      " 10  PQ First Sent to Client Date  10324 non-null  object \n",
      " 11  PO Sent to Vendor Date        10324 non-null  object \n",
      " 12  Scheduled Delivery Date       10324 non-null  object \n",
      " 13  Delivered to Client Date      10324 non-null  object \n",
      " 14  Delivery Recorded Date        10324 non-null  object \n",
      " 15  Product Group                 10324 non-null  object \n",
      " 16  Sub Classification            10324 non-null  object \n",
      " 17  Vendor                        10324 non-null  object \n",
      " 18  Item Description              10324 non-null  object \n",
      " 19  Molecule/Test Type            10324 non-null  object \n",
      " 20  Brand                         10324 non-null  object \n",
      " 21  Dosage                        8588 non-null   object \n",
      " 22  Dosage Form                   10324 non-null  object \n",
      " 23  Unit of Measure (Per Pack)    10324 non-null  int64  \n",
      " 24  Line Item Quantity            10324 non-null  int64  \n",
      " 25  Line Item Value               10324 non-null  float64\n",
      " 26  Pack Price                    10324 non-null  float64\n",
      " 27  Unit Price                    10324 non-null  float64\n",
      " 28  Manufacturing Site            10324 non-null  object \n",
      " 29  First Line Designation        10324 non-null  object \n",
      " 30  Weight (Kilograms)            10324 non-null  object \n",
      " 31  Freight Cost (USD)            10324 non-null  object \n",
      " 32  Line Item Insurance (USD)     10037 non-null  float64\n",
      "dtypes: float64(4), int64(3), object(26)\n",
      "memory usage: 2.6+ MB\n"
     ]
    }
   ],
   "source": [
    "# Check Null and Dtypes\n",
    "df.info()"
   ]
  },
  {
   "cell_type": "markdown",
   "metadata": {},
   "source": [
    "4.4 Checking the number of unique values of each column\n"
   ]
  },
  {
   "cell_type": "code",
   "execution_count": 1676,
   "metadata": {},
   "outputs": [
    {
     "data": {
      "text/plain": [
       "ID                              10324\n",
       "Project Code                      142\n",
       "PQ #                             1237\n",
       "PO / SO #                        6233\n",
       "ASN/DN #                         7030\n",
       "Country                            43\n",
       "Managed By                          4\n",
       "Fulfill Via                         2\n",
       "Vendor INCO Term                    8\n",
       "Shipment Mode                       4\n",
       "PQ First Sent to Client Date      765\n",
       "PO Sent to Vendor Date            897\n",
       "Scheduled Delivery Date          2006\n",
       "Delivered to Client Date         2093\n",
       "Delivery Recorded Date           2042\n",
       "Product Group                       5\n",
       "Sub Classification                  6\n",
       "Vendor                             73\n",
       "Item Description                  184\n",
       "Molecule/Test Type                 86\n",
       "Brand                              48\n",
       "Dosage                             54\n",
       "Dosage Form                        17\n",
       "Unit of Measure (Per Pack)         31\n",
       "Line Item Quantity               5065\n",
       "Line Item Value                  8741\n",
       "Pack Price                       1175\n",
       "Unit Price                        183\n",
       "Manufacturing Site                 88\n",
       "First Line Designation              2\n",
       "Weight (Kilograms)               4688\n",
       "Freight Cost (USD)               6733\n",
       "Line Item Insurance (USD)        6722\n",
       "dtype: int64"
      ]
     },
     "execution_count": 1676,
     "metadata": {},
     "output_type": "execute_result"
    }
   ],
   "source": [
    "df.nunique()"
   ]
  },
  {
   "cell_type": "markdown",
   "metadata": {},
   "source": [
    "* drop PQ # ,PO / SO # , ASN/DN # ,PQ First Sent to Client Date"
   ]
  },
  {
   "cell_type": "markdown",
   "metadata": {},
   "source": [
    "4.5 Check statistics of data set"
   ]
  },
  {
   "cell_type": "code",
   "execution_count": 1677,
   "metadata": {},
   "outputs": [
    {
     "data": {
      "text/html": [
       "<div>\n",
       "<style scoped>\n",
       "    .dataframe tbody tr th:only-of-type {\n",
       "        vertical-align: middle;\n",
       "    }\n",
       "\n",
       "    .dataframe tbody tr th {\n",
       "        vertical-align: top;\n",
       "    }\n",
       "\n",
       "    .dataframe thead th {\n",
       "        text-align: right;\n",
       "    }\n",
       "</style>\n",
       "<table border=\"1\" class=\"dataframe\">\n",
       "  <thead>\n",
       "    <tr style=\"text-align: right;\">\n",
       "      <th></th>\n",
       "      <th>ID</th>\n",
       "      <th>Unit of Measure (Per Pack)</th>\n",
       "      <th>Line Item Quantity</th>\n",
       "      <th>Line Item Value</th>\n",
       "      <th>Pack Price</th>\n",
       "      <th>Unit Price</th>\n",
       "      <th>Line Item Insurance (USD)</th>\n",
       "    </tr>\n",
       "  </thead>\n",
       "  <tbody>\n",
       "    <tr>\n",
       "      <th>count</th>\n",
       "      <td>10324.000000</td>\n",
       "      <td>10324.000000</td>\n",
       "      <td>10324.000000</td>\n",
       "      <td>1.032400e+04</td>\n",
       "      <td>10324.000000</td>\n",
       "      <td>10324.000000</td>\n",
       "      <td>10037.000000</td>\n",
       "    </tr>\n",
       "    <tr>\n",
       "      <th>mean</th>\n",
       "      <td>51098.968229</td>\n",
       "      <td>77.990895</td>\n",
       "      <td>18332.534870</td>\n",
       "      <td>1.576506e+05</td>\n",
       "      <td>21.910241</td>\n",
       "      <td>0.611701</td>\n",
       "      <td>240.117626</td>\n",
       "    </tr>\n",
       "    <tr>\n",
       "      <th>std</th>\n",
       "      <td>31944.332496</td>\n",
       "      <td>76.579764</td>\n",
       "      <td>40035.302961</td>\n",
       "      <td>3.452921e+05</td>\n",
       "      <td>45.609223</td>\n",
       "      <td>3.275808</td>\n",
       "      <td>500.190568</td>\n",
       "    </tr>\n",
       "    <tr>\n",
       "      <th>min</th>\n",
       "      <td>1.000000</td>\n",
       "      <td>1.000000</td>\n",
       "      <td>1.000000</td>\n",
       "      <td>0.000000e+00</td>\n",
       "      <td>0.000000</td>\n",
       "      <td>0.000000</td>\n",
       "      <td>0.000000</td>\n",
       "    </tr>\n",
       "    <tr>\n",
       "      <th>25%</th>\n",
       "      <td>12795.750000</td>\n",
       "      <td>30.000000</td>\n",
       "      <td>408.000000</td>\n",
       "      <td>4.314593e+03</td>\n",
       "      <td>4.120000</td>\n",
       "      <td>0.080000</td>\n",
       "      <td>6.510000</td>\n",
       "    </tr>\n",
       "    <tr>\n",
       "      <th>50%</th>\n",
       "      <td>57540.500000</td>\n",
       "      <td>60.000000</td>\n",
       "      <td>3000.000000</td>\n",
       "      <td>3.047147e+04</td>\n",
       "      <td>9.300000</td>\n",
       "      <td>0.160000</td>\n",
       "      <td>47.040000</td>\n",
       "    </tr>\n",
       "    <tr>\n",
       "      <th>75%</th>\n",
       "      <td>83648.250000</td>\n",
       "      <td>90.000000</td>\n",
       "      <td>17039.750000</td>\n",
       "      <td>1.664471e+05</td>\n",
       "      <td>23.592500</td>\n",
       "      <td>0.470000</td>\n",
       "      <td>252.400000</td>\n",
       "    </tr>\n",
       "    <tr>\n",
       "      <th>max</th>\n",
       "      <td>86823.000000</td>\n",
       "      <td>1000.000000</td>\n",
       "      <td>619999.000000</td>\n",
       "      <td>5.951990e+06</td>\n",
       "      <td>1345.640000</td>\n",
       "      <td>238.650000</td>\n",
       "      <td>7708.440000</td>\n",
       "    </tr>\n",
       "  </tbody>\n",
       "</table>\n",
       "</div>"
      ],
      "text/plain": [
       "                 ID  Unit of Measure (Per Pack)  Line Item Quantity  \\\n",
       "count  10324.000000                10324.000000        10324.000000   \n",
       "mean   51098.968229                   77.990895        18332.534870   \n",
       "std    31944.332496                   76.579764        40035.302961   \n",
       "min        1.000000                    1.000000            1.000000   \n",
       "25%    12795.750000                   30.000000          408.000000   \n",
       "50%    57540.500000                   60.000000         3000.000000   \n",
       "75%    83648.250000                   90.000000        17039.750000   \n",
       "max    86823.000000                 1000.000000       619999.000000   \n",
       "\n",
       "       Line Item Value    Pack Price    Unit Price  Line Item Insurance (USD)  \n",
       "count     1.032400e+04  10324.000000  10324.000000               10037.000000  \n",
       "mean      1.576506e+05     21.910241      0.611701                 240.117626  \n",
       "std       3.452921e+05     45.609223      3.275808                 500.190568  \n",
       "min       0.000000e+00      0.000000      0.000000                   0.000000  \n",
       "25%       4.314593e+03      4.120000      0.080000                   6.510000  \n",
       "50%       3.047147e+04      9.300000      0.160000                  47.040000  \n",
       "75%       1.664471e+05     23.592500      0.470000                 252.400000  \n",
       "max       5.951990e+06   1345.640000    238.650000                7708.440000  "
      ]
     },
     "execution_count": 1677,
     "metadata": {},
     "output_type": "execute_result"
    }
   ],
   "source": [
    "df.describe()"
   ]
  },
  {
   "cell_type": "code",
   "execution_count": 1678,
   "metadata": {},
   "outputs": [
    {
     "name": "stdout",
     "output_type": "stream",
     "text": [
      "We have 7 numerical features : ['ID', 'Unit of Measure (Per Pack)', 'Line Item Quantity', 'Line Item Value', 'Pack Price', 'Unit Price', 'Line Item Insurance (USD)']\n",
      "\n",
      "We have 26 categorical features : ['Project Code', 'PQ #', 'PO / SO #', 'ASN/DN #', 'Country', 'Managed By', 'Fulfill Via', 'Vendor INCO Term', 'Shipment Mode', 'PQ First Sent to Client Date', 'PO Sent to Vendor Date', 'Scheduled Delivery Date', 'Delivered to Client Date', 'Delivery Recorded Date', 'Product Group', 'Sub Classification', 'Vendor', 'Item Description', 'Molecule/Test Type', 'Brand', 'Dosage', 'Dosage Form', 'Manufacturing Site', 'First Line Designation', 'Weight (Kilograms)', 'Freight Cost (USD)']\n"
     ]
    }
   ],
   "source": [
    "# define numerical & categorical columns\n",
    "numeric_features = [feature for feature in df.columns if df[feature].dtype != 'O']\n",
    "categorical_features = [feature for feature in df.columns if df[feature].dtype == 'O']\n",
    "\n",
    "# print columns\n",
    "print('We have {} numerical features : {}'.format(len(numeric_features), numeric_features))\n",
    "print('\\nWe have {} categorical features : {}'.format(len(categorical_features), categorical_features))"
   ]
  },
  {
   "cell_type": "markdown",
   "metadata": {},
   "source": [
    "some numerical variables categorized as categorical variables. example : Weight and Freight Cost"
   ]
  },
  {
   "cell_type": "code",
   "execution_count": 1679,
   "metadata": {},
   "outputs": [],
   "source": [
    "## Replace nan value with mean\n",
    "df['Line Item Insurance (USD)'].fillna(df['Line Item Insurance (USD)'].mean(), inplace=True)"
   ]
  },
  {
   "cell_type": "code",
   "execution_count": 1680,
   "metadata": {},
   "outputs": [],
   "source": [
    "## Drop Null values\n",
    "df.dropna(axis=0, inplace=True)"
   ]
  },
  {
   "cell_type": "code",
   "execution_count": 1681,
   "metadata": {},
   "outputs": [
    {
     "data": {
      "text/plain": [
       "(8279, 33)"
      ]
     },
     "execution_count": 1681,
     "metadata": {},
     "output_type": "execute_result"
    }
   ],
   "source": [
    "df.shape"
   ]
  },
  {
   "cell_type": "code",
   "execution_count": 1682,
   "metadata": {},
   "outputs": [],
   "source": [
    "import re\n",
    "columns_to_clean = ['Weight (Kilograms)', 'Freight Cost (USD)']\n"
   ]
  },
  {
   "cell_type": "code",
   "execution_count": 1683,
   "metadata": {},
   "outputs": [],
   "source": [
    "# Define regular expression patterns for valid numerical values\n",
    "pattern = r'^[-+]?\\d*\\.?\\d+$'"
   ]
  },
  {
   "cell_type": "code",
   "execution_count": 1684,
   "metadata": {},
   "outputs": [],
   "source": [
    "# Iterate over the columns and clean the inconsistent values\n",
    "for column in columns_to_clean:\n",
    "    df[column] = df[column].apply(lambda x: re.sub(pattern, '', str(x)) if not re.match(pattern, str(x)) else x)"
   ]
  },
  {
   "cell_type": "code",
   "execution_count": 1685,
   "metadata": {},
   "outputs": [],
   "source": [
    "# Convert the columns back to numeric data type\n",
    "df[columns_to_clean] = df[columns_to_clean].apply(pd.to_numeric, errors='coerce')"
   ]
  },
  {
   "cell_type": "code",
   "execution_count": 1686,
   "metadata": {},
   "outputs": [],
   "source": [
    "## fill based on ASN/DN\n",
    "mean_value1 = df.groupby('ASN/DN #')['Weight (Kilograms)'].transform('mean')\n",
    "df['Weight (Kilograms)'].fillna(mean_value1, inplace=True)\n",
    "mean_value2 = df.groupby('ASN/DN #')['Freight Cost (USD)'].transform('mean')\n",
    "df['Freight Cost (USD)'].fillna(mean_value2, inplace=True)\n"
   ]
  },
  {
   "cell_type": "code",
   "execution_count": 1687,
   "metadata": {},
   "outputs": [
    {
     "data": {
      "text/html": [
       "<div>\n",
       "<style scoped>\n",
       "    .dataframe tbody tr th:only-of-type {\n",
       "        vertical-align: middle;\n",
       "    }\n",
       "\n",
       "    .dataframe tbody tr th {\n",
       "        vertical-align: top;\n",
       "    }\n",
       "\n",
       "    .dataframe thead th {\n",
       "        text-align: right;\n",
       "    }\n",
       "</style>\n",
       "<table border=\"1\" class=\"dataframe\">\n",
       "  <thead>\n",
       "    <tr style=\"text-align: right;\">\n",
       "      <th></th>\n",
       "      <th>ID</th>\n",
       "      <th>Project Code</th>\n",
       "      <th>PQ #</th>\n",
       "      <th>PO / SO #</th>\n",
       "      <th>ASN/DN #</th>\n",
       "      <th>Country</th>\n",
       "      <th>Managed By</th>\n",
       "      <th>Fulfill Via</th>\n",
       "      <th>Vendor INCO Term</th>\n",
       "      <th>Shipment Mode</th>\n",
       "      <th>...</th>\n",
       "      <th>Unit of Measure (Per Pack)</th>\n",
       "      <th>Line Item Quantity</th>\n",
       "      <th>Line Item Value</th>\n",
       "      <th>Pack Price</th>\n",
       "      <th>Unit Price</th>\n",
       "      <th>Manufacturing Site</th>\n",
       "      <th>First Line Designation</th>\n",
       "      <th>Weight (Kilograms)</th>\n",
       "      <th>Freight Cost (USD)</th>\n",
       "      <th>Line Item Insurance (USD)</th>\n",
       "    </tr>\n",
       "  </thead>\n",
       "  <tbody>\n",
       "    <tr>\n",
       "      <th>13</th>\n",
       "      <td>64</td>\n",
       "      <td>107-RW-T01</td>\n",
       "      <td>Pre-PQ Process</td>\n",
       "      <td>SCMS-268</td>\n",
       "      <td>ASN-242</td>\n",
       "      <td>Rwanda</td>\n",
       "      <td>PMO - US</td>\n",
       "      <td>Direct Drop</td>\n",
       "      <td>EXW</td>\n",
       "      <td>Air</td>\n",
       "      <td>...</td>\n",
       "      <td>60</td>\n",
       "      <td>10000</td>\n",
       "      <td>99800.0</td>\n",
       "      <td>9.98</td>\n",
       "      <td>0.17</td>\n",
       "      <td>Cipla, Goa, India</td>\n",
       "      <td>Yes</td>\n",
       "      <td>7416.0</td>\n",
       "      <td>64179.42</td>\n",
       "      <td>240.117626</td>\n",
       "    </tr>\n",
       "    <tr>\n",
       "      <th>140</th>\n",
       "      <td>1299</td>\n",
       "      <td>107-RW-T01</td>\n",
       "      <td>Pre-PQ Process</td>\n",
       "      <td>SCMS-268</td>\n",
       "      <td>ASN-242</td>\n",
       "      <td>Rwanda</td>\n",
       "      <td>PMO - US</td>\n",
       "      <td>Direct Drop</td>\n",
       "      <td>EXW</td>\n",
       "      <td>Air</td>\n",
       "      <td>...</td>\n",
       "      <td>30</td>\n",
       "      <td>71577</td>\n",
       "      <td>1087970.4</td>\n",
       "      <td>15.20</td>\n",
       "      <td>0.51</td>\n",
       "      <td>Cipla, Goa, India</td>\n",
       "      <td>No</td>\n",
       "      <td>7416.0</td>\n",
       "      <td>64179.42</td>\n",
       "      <td>240.117626</td>\n",
       "    </tr>\n",
       "    <tr>\n",
       "      <th>141</th>\n",
       "      <td>1300</td>\n",
       "      <td>107-RW-T01</td>\n",
       "      <td>Pre-PQ Process</td>\n",
       "      <td>SCMS-268</td>\n",
       "      <td>ASN-242</td>\n",
       "      <td>Rwanda</td>\n",
       "      <td>PMO - US</td>\n",
       "      <td>Direct Drop</td>\n",
       "      <td>EXW</td>\n",
       "      <td>Air</td>\n",
       "      <td>...</td>\n",
       "      <td>60</td>\n",
       "      <td>5605</td>\n",
       "      <td>202340.5</td>\n",
       "      <td>36.10</td>\n",
       "      <td>0.60</td>\n",
       "      <td>Cipla, Patalganga, India</td>\n",
       "      <td>No</td>\n",
       "      <td>7416.0</td>\n",
       "      <td>64179.42</td>\n",
       "      <td>240.117626</td>\n",
       "    </tr>\n",
       "  </tbody>\n",
       "</table>\n",
       "<p>3 rows × 33 columns</p>\n",
       "</div>"
      ],
      "text/plain": [
       "       ID Project Code            PQ # PO / SO # ASN/DN # Country Managed By  \\\n",
       "13     64   107-RW-T01  Pre-PQ Process  SCMS-268  ASN-242  Rwanda   PMO - US   \n",
       "140  1299   107-RW-T01  Pre-PQ Process  SCMS-268  ASN-242  Rwanda   PMO - US   \n",
       "141  1300   107-RW-T01  Pre-PQ Process  SCMS-268  ASN-242  Rwanda   PMO - US   \n",
       "\n",
       "     Fulfill Via Vendor INCO Term Shipment Mode  ...  \\\n",
       "13   Direct Drop              EXW           Air  ...   \n",
       "140  Direct Drop              EXW           Air  ...   \n",
       "141  Direct Drop              EXW           Air  ...   \n",
       "\n",
       "    Unit of Measure (Per Pack) Line Item Quantity Line Item Value Pack Price  \\\n",
       "13                          60              10000         99800.0       9.98   \n",
       "140                         30              71577       1087970.4      15.20   \n",
       "141                         60               5605        202340.5      36.10   \n",
       "\n",
       "    Unit Price        Manufacturing Site First Line Designation  \\\n",
       "13        0.17         Cipla, Goa, India                    Yes   \n",
       "140       0.51         Cipla, Goa, India                     No   \n",
       "141       0.60  Cipla, Patalganga, India                     No   \n",
       "\n",
       "    Weight (Kilograms) Freight Cost (USD) Line Item Insurance (USD)  \n",
       "13              7416.0           64179.42                240.117626  \n",
       "140             7416.0           64179.42                240.117626  \n",
       "141             7416.0           64179.42                240.117626  \n",
       "\n",
       "[3 rows x 33 columns]"
      ]
     },
     "execution_count": 1687,
     "metadata": {},
     "output_type": "execute_result"
    }
   ],
   "source": [
    "df[df['ASN/DN #'] == \"ASN-242\"]"
   ]
  },
  {
   "cell_type": "code",
   "execution_count": 1688,
   "metadata": {},
   "outputs": [
    {
     "data": {
      "text/plain": [
       "ID                                 0\n",
       "Project Code                       0\n",
       "PQ #                               0\n",
       "PO / SO #                          0\n",
       "ASN/DN #                           0\n",
       "Country                            0\n",
       "Managed By                         0\n",
       "Fulfill Via                        0\n",
       "Vendor INCO Term                   0\n",
       "Shipment Mode                      0\n",
       "PQ First Sent to Client Date       0\n",
       "PO Sent to Vendor Date             0\n",
       "Scheduled Delivery Date            0\n",
       "Delivered to Client Date           0\n",
       "Delivery Recorded Date             0\n",
       "Product Group                      0\n",
       "Sub Classification                 0\n",
       "Vendor                             0\n",
       "Item Description                   0\n",
       "Molecule/Test Type                 0\n",
       "Brand                              0\n",
       "Dosage                             0\n",
       "Dosage Form                        0\n",
       "Unit of Measure (Per Pack)         0\n",
       "Line Item Quantity                 0\n",
       "Line Item Value                    0\n",
       "Pack Price                         0\n",
       "Unit Price                         0\n",
       "Manufacturing Site                 0\n",
       "First Line Designation             0\n",
       "Weight (Kilograms)              1371\n",
       "Freight Cost (USD)              1547\n",
       "Line Item Insurance (USD)          0\n",
       "dtype: int64"
      ]
     },
     "execution_count": 1688,
     "metadata": {},
     "output_type": "execute_result"
    }
   ],
   "source": [
    "df.isnull().sum()"
   ]
  },
  {
   "cell_type": "code",
   "execution_count": 1689,
   "metadata": {},
   "outputs": [],
   "source": [
    "df.dropna(axis=0, inplace=True)"
   ]
  },
  {
   "cell_type": "markdown",
   "metadata": {},
   "source": [
    "Treated every missing value ,inconsistent value and dublicated value"
   ]
  },
  {
   "cell_type": "code",
   "execution_count": 1690,
   "metadata": {},
   "outputs": [
    {
     "data": {
      "text/plain": [
       "ID                                int64\n",
       "Project Code                     object\n",
       "PQ #                             object\n",
       "PO / SO #                        object\n",
       "ASN/DN #                         object\n",
       "Country                          object\n",
       "Managed By                       object\n",
       "Fulfill Via                      object\n",
       "Vendor INCO Term                 object\n",
       "Shipment Mode                    object\n",
       "PQ First Sent to Client Date     object\n",
       "PO Sent to Vendor Date           object\n",
       "Scheduled Delivery Date          object\n",
       "Delivered to Client Date         object\n",
       "Delivery Recorded Date           object\n",
       "Product Group                    object\n",
       "Sub Classification               object\n",
       "Vendor                           object\n",
       "Item Description                 object\n",
       "Molecule/Test Type               object\n",
       "Brand                            object\n",
       "Dosage                           object\n",
       "Dosage Form                      object\n",
       "Unit of Measure (Per Pack)        int64\n",
       "Line Item Quantity                int64\n",
       "Line Item Value                 float64\n",
       "Pack Price                      float64\n",
       "Unit Price                      float64\n",
       "Manufacturing Site               object\n",
       "First Line Designation           object\n",
       "Weight (Kilograms)              float64\n",
       "Freight Cost (USD)              float64\n",
       "Line Item Insurance (USD)       float64\n",
       "dtype: object"
      ]
     },
     "execution_count": 1690,
     "metadata": {},
     "output_type": "execute_result"
    }
   ],
   "source": [
    "df.dtypes"
   ]
  },
  {
   "cell_type": "code",
   "execution_count": 1691,
   "metadata": {},
   "outputs": [
    {
     "name": "stdout",
     "output_type": "stream",
     "text": [
      "We have 9 numerical features : ['ID', 'Unit of Measure (Per Pack)', 'Line Item Quantity', 'Line Item Value', 'Pack Price', 'Unit Price', 'Weight (Kilograms)', 'Freight Cost (USD)', 'Line Item Insurance (USD)']\n",
      "\n",
      "We have 24 categorical features : ['Project Code', 'PQ #', 'PO / SO #', 'ASN/DN #', 'Country', 'Managed By', 'Fulfill Via', 'Vendor INCO Term', 'Shipment Mode', 'PQ First Sent to Client Date', 'PO Sent to Vendor Date', 'Scheduled Delivery Date', 'Delivered to Client Date', 'Delivery Recorded Date', 'Product Group', 'Sub Classification', 'Vendor', 'Item Description', 'Molecule/Test Type', 'Brand', 'Dosage', 'Dosage Form', 'Manufacturing Site', 'First Line Designation']\n"
     ]
    }
   ],
   "source": [
    "# define numerical & categorical columns\n",
    "numeric_features = [feature for feature in df.columns if df[feature].dtype != 'O']\n",
    "categorical_features = [feature for feature in df.columns if df[feature].dtype == 'O']\n",
    "\n",
    "# print columns\n",
    "print('We have {} numerical features : {}'.format(len(numeric_features), numeric_features))\n",
    "print('\\nWe have {} categorical features : {}'.format(len(categorical_features), categorical_features))"
   ]
  },
  {
   "cell_type": "code",
   "execution_count": 1692,
   "metadata": {},
   "outputs": [
    {
     "data": {
      "image/png": "[encoded data removed]",
      "text/plain": [
       "<Figure size 1400x900 with 2 Axes>"
      ]
     },
     "metadata": {},
     "output_type": "display_data"
    }
   ],
   "source": [
    "# Assuming 'df' is your DataFrame with both numerical and categorical columns\n",
    "numerical_columns = df.select_dtypes(include=['float', 'int']).columns\n",
    "\n",
    "# Find the corelation using heatmap\n",
    "numerical_df = df[numerical_columns]\n",
    "correlation_metrics = numerical_df.corr()\n",
    "fig = plt.figure(figsize=(14,9))\n",
    "sns.heatmap(correlation_metrics, annot=True, fmt=\".2f\", vmax=0.9, square=True)\n",
    "plt.show()\n"
   ]
  },
  {
   "cell_type": "markdown",
   "metadata": {},
   "source": [
    "* drop ID ,Unit of measure(per pack) and Unit Price because less colinearity\n",
    "* drop Line item insurance ,Line item value  to avoid multicolinearity"
   ]
  },
  {
   "cell_type": "code",
   "execution_count": 1693,
   "metadata": {},
   "outputs": [],
   "source": [
    "\n",
    "# df['Scheduled Delivery Date'] = df['Scheduled Delivery Date'].astype('datetime64[ns]')\n",
    "# df['Delivered to Client Date'] = df['Delivered to Client Date'].astype('datetime64[ns]')\n",
    "# df['Delivery Recorded Date'] = df['Delivery Recorded Date'].astype('datetime64[ns]')"
   ]
  },
  {
   "cell_type": "code",
   "execution_count": 1694,
   "metadata": {},
   "outputs": [],
   "source": [
    "from dateutil.relativedelta import relativedelta\n",
    "df['Scheduled Delivery Date'] = pd.to_datetime(df['Scheduled Delivery Date'])\n",
    "df['Delivery Recorded Date'] = pd.to_datetime(df['Delivery Recorded Date'])\n"
   ]
  },
  {
   "cell_type": "code",
   "execution_count": 1695,
   "metadata": {},
   "outputs": [],
   "source": [
    "df['DayToDeliver'] = df.apply(lambda row: relativedelta(row['Delivery Recorded Date'], row['Scheduled Delivery Date']).days, axis=1)"
   ]
  },
  {
   "cell_type": "code",
   "execution_count": 1696,
   "metadata": {},
   "outputs": [
    {
     "data": {
      "text/html": [
       "<div>\n",
       "<style scoped>\n",
       "    .dataframe tbody tr th:only-of-type {\n",
       "        vertical-align: middle;\n",
       "    }\n",
       "\n",
       "    .dataframe tbody tr th {\n",
       "        vertical-align: top;\n",
       "    }\n",
       "\n",
       "    .dataframe thead th {\n",
       "        text-align: right;\n",
       "    }\n",
       "</style>\n",
       "<table border=\"1\" class=\"dataframe\">\n",
       "  <thead>\n",
       "    <tr style=\"text-align: right;\">\n",
       "      <th></th>\n",
       "      <th>Scheduled Delivery Date</th>\n",
       "      <th>Delivery Recorded Date</th>\n",
       "      <th>DayToDeliver</th>\n",
       "    </tr>\n",
       "  </thead>\n",
       "  <tbody>\n",
       "    <tr>\n",
       "      <th>1</th>\n",
       "      <td>2006-11-14</td>\n",
       "      <td>2006-11-14</td>\n",
       "      <td>0</td>\n",
       "    </tr>\n",
       "    <tr>\n",
       "      <th>3</th>\n",
       "      <td>2006-09-01</td>\n",
       "      <td>2006-09-01</td>\n",
       "      <td>0</td>\n",
       "    </tr>\n",
       "    <tr>\n",
       "      <th>4</th>\n",
       "      <td>2006-08-11</td>\n",
       "      <td>2006-08-11</td>\n",
       "      <td>0</td>\n",
       "    </tr>\n",
       "    <tr>\n",
       "      <th>5</th>\n",
       "      <td>2006-09-28</td>\n",
       "      <td>2006-09-28</td>\n",
       "      <td>0</td>\n",
       "    </tr>\n",
       "    <tr>\n",
       "      <th>7</th>\n",
       "      <td>2006-11-24</td>\n",
       "      <td>2006-11-24</td>\n",
       "      <td>0</td>\n",
       "    </tr>\n",
       "    <tr>\n",
       "      <th>...</th>\n",
       "      <td>...</td>\n",
       "      <td>...</td>\n",
       "      <td>...</td>\n",
       "    </tr>\n",
       "    <tr>\n",
       "      <th>10316</th>\n",
       "      <td>2015-06-02</td>\n",
       "      <td>2015-05-22</td>\n",
       "      <td>-11</td>\n",
       "    </tr>\n",
       "    <tr>\n",
       "      <th>10317</th>\n",
       "      <td>2015-06-30</td>\n",
       "      <td>2015-06-29</td>\n",
       "      <td>-1</td>\n",
       "    </tr>\n",
       "    <tr>\n",
       "      <th>10318</th>\n",
       "      <td>2015-07-31</td>\n",
       "      <td>2015-07-20</td>\n",
       "      <td>-11</td>\n",
       "    </tr>\n",
       "    <tr>\n",
       "      <th>10319</th>\n",
       "      <td>2015-07-31</td>\n",
       "      <td>2015-07-20</td>\n",
       "      <td>-11</td>\n",
       "    </tr>\n",
       "    <tr>\n",
       "      <th>10320</th>\n",
       "      <td>2015-07-31</td>\n",
       "      <td>2015-08-07</td>\n",
       "      <td>7</td>\n",
       "    </tr>\n",
       "  </tbody>\n",
       "</table>\n",
       "<p>6698 rows × 3 columns</p>\n",
       "</div>"
      ],
      "text/plain": [
       "      Scheduled Delivery Date Delivery Recorded Date  DayToDeliver\n",
       "1                  2006-11-14             2006-11-14             0\n",
       "3                  2006-09-01             2006-09-01             0\n",
       "4                  2006-08-11             2006-08-11             0\n",
       "5                  2006-09-28             2006-09-28             0\n",
       "7                  2006-11-24             2006-11-24             0\n",
       "...                       ...                    ...           ...\n",
       "10316              2015-06-02             2015-05-22           -11\n",
       "10317              2015-06-30             2015-06-29            -1\n",
       "10318              2015-07-31             2015-07-20           -11\n",
       "10319              2015-07-31             2015-07-20           -11\n",
       "10320              2015-07-31             2015-08-07             7\n",
       "\n",
       "[6698 rows x 3 columns]"
      ]
     },
     "execution_count": 1696,
     "metadata": {},
     "output_type": "execute_result"
    }
   ],
   "source": [
    "df[['Scheduled Delivery Date','Delivery Recorded Date','DayToDeliver']]\n"
   ]
  },
  {
   "cell_type": "code",
   "execution_count": 1697,
   "metadata": {},
   "outputs": [],
   "source": [
    "df = df.drop(['ID','Unit of Measure (Per Pack)','PQ #','PO / SO #','ASN/DN #','Project Code','Dosage','Dosage Form','Delivered to Client Date','Scheduled Delivery Date','Delivery Recorded Date','Item Description','PQ First Sent to Client Date','PO Sent to Vendor Date','Line Item Insurance (USD)','Line Item Value'], axis=1)"
   ]
  },
  {
   "cell_type": "code",
   "execution_count": 1698,
   "metadata": {},
   "outputs": [
    {
     "data": {
      "text/html": [
       "<div>\n",
       "<style scoped>\n",
       "    .dataframe tbody tr th:only-of-type {\n",
       "        vertical-align: middle;\n",
       "    }\n",
       "\n",
       "    .dataframe tbody tr th {\n",
       "        vertical-align: top;\n",
       "    }\n",
       "\n",
       "    .dataframe thead th {\n",
       "        text-align: right;\n",
       "    }\n",
       "</style>\n",
       "<table border=\"1\" class=\"dataframe\">\n",
       "  <thead>\n",
       "    <tr style=\"text-align: right;\">\n",
       "      <th></th>\n",
       "      <th>Country</th>\n",
       "      <th>Managed By</th>\n",
       "      <th>Fulfill Via</th>\n",
       "      <th>Vendor INCO Term</th>\n",
       "      <th>Shipment Mode</th>\n",
       "      <th>Product Group</th>\n",
       "      <th>Sub Classification</th>\n",
       "      <th>Vendor</th>\n",
       "      <th>Molecule/Test Type</th>\n",
       "      <th>Brand</th>\n",
       "      <th>Line Item Quantity</th>\n",
       "      <th>Pack Price</th>\n",
       "      <th>Unit Price</th>\n",
       "      <th>Manufacturing Site</th>\n",
       "      <th>First Line Designation</th>\n",
       "      <th>Weight (Kilograms)</th>\n",
       "      <th>Freight Cost (USD)</th>\n",
       "      <th>DayToDeliver</th>\n",
       "    </tr>\n",
       "  </thead>\n",
       "  <tbody>\n",
       "    <tr>\n",
       "      <th>1</th>\n",
       "      <td>Vietnam</td>\n",
       "      <td>PMO - US</td>\n",
       "      <td>Direct Drop</td>\n",
       "      <td>EXW</td>\n",
       "      <td>Air</td>\n",
       "      <td>ARV</td>\n",
       "      <td>Pediatric</td>\n",
       "      <td>Aurobindo Pharma Limited</td>\n",
       "      <td>Nevirapine</td>\n",
       "      <td>Generic</td>\n",
       "      <td>1000</td>\n",
       "      <td>6.20</td>\n",
       "      <td>0.03</td>\n",
       "      <td>Aurobindo Unit III, India</td>\n",
       "      <td>Yes</td>\n",
       "      <td>358.0</td>\n",
       "      <td>4521.50</td>\n",
       "      <td>0</td>\n",
       "    </tr>\n",
       "    <tr>\n",
       "      <th>3</th>\n",
       "      <td>Vietnam</td>\n",
       "      <td>PMO - US</td>\n",
       "      <td>Direct Drop</td>\n",
       "      <td>EXW</td>\n",
       "      <td>Air</td>\n",
       "      <td>ARV</td>\n",
       "      <td>Adult</td>\n",
       "      <td>SUN PHARMACEUTICAL INDUSTRIES LTD (RANBAXY LAB...</td>\n",
       "      <td>Lamivudine</td>\n",
       "      <td>Generic</td>\n",
       "      <td>31920</td>\n",
       "      <td>3.99</td>\n",
       "      <td>0.07</td>\n",
       "      <td>Ranbaxy, Paonta Shahib, India</td>\n",
       "      <td>Yes</td>\n",
       "      <td>1855.0</td>\n",
       "      <td>16007.06</td>\n",
       "      <td>0</td>\n",
       "    </tr>\n",
       "    <tr>\n",
       "      <th>4</th>\n",
       "      <td>Vietnam</td>\n",
       "      <td>PMO - US</td>\n",
       "      <td>Direct Drop</td>\n",
       "      <td>EXW</td>\n",
       "      <td>Air</td>\n",
       "      <td>ARV</td>\n",
       "      <td>Adult</td>\n",
       "      <td>Aurobindo Pharma Limited</td>\n",
       "      <td>Stavudine</td>\n",
       "      <td>Generic</td>\n",
       "      <td>38000</td>\n",
       "      <td>3.20</td>\n",
       "      <td>0.05</td>\n",
       "      <td>Aurobindo Unit III, India</td>\n",
       "      <td>Yes</td>\n",
       "      <td>7590.0</td>\n",
       "      <td>45450.08</td>\n",
       "      <td>0</td>\n",
       "    </tr>\n",
       "    <tr>\n",
       "      <th>5</th>\n",
       "      <td>Nigeria</td>\n",
       "      <td>PMO - US</td>\n",
       "      <td>Direct Drop</td>\n",
       "      <td>EXW</td>\n",
       "      <td>Air</td>\n",
       "      <td>ARV</td>\n",
       "      <td>Pediatric</td>\n",
       "      <td>Aurobindo Pharma Limited</td>\n",
       "      <td>Zidovudine</td>\n",
       "      <td>Generic</td>\n",
       "      <td>416</td>\n",
       "      <td>5.35</td>\n",
       "      <td>0.02</td>\n",
       "      <td>Aurobindo Unit III, India</td>\n",
       "      <td>Yes</td>\n",
       "      <td>504.0</td>\n",
       "      <td>5920.42</td>\n",
       "      <td>0</td>\n",
       "    </tr>\n",
       "    <tr>\n",
       "      <th>7</th>\n",
       "      <td>Tanzania</td>\n",
       "      <td>PMO - US</td>\n",
       "      <td>Direct Drop</td>\n",
       "      <td>EXW</td>\n",
       "      <td>Air</td>\n",
       "      <td>ARV</td>\n",
       "      <td>Adult</td>\n",
       "      <td>Aurobindo Pharma Limited</td>\n",
       "      <td>Nevirapine</td>\n",
       "      <td>Generic</td>\n",
       "      <td>16667</td>\n",
       "      <td>3.65</td>\n",
       "      <td>0.06</td>\n",
       "      <td>Aurobindo Unit III, India</td>\n",
       "      <td>Yes</td>\n",
       "      <td>1478.0</td>\n",
       "      <td>6212.41</td>\n",
       "      <td>0</td>\n",
       "    </tr>\n",
       "  </tbody>\n",
       "</table>\n",
       "</div>"
      ],
      "text/plain": [
       "    Country Managed By  Fulfill Via Vendor INCO Term Shipment Mode  \\\n",
       "1   Vietnam   PMO - US  Direct Drop              EXW           Air   \n",
       "3   Vietnam   PMO - US  Direct Drop              EXW           Air   \n",
       "4   Vietnam   PMO - US  Direct Drop              EXW           Air   \n",
       "5   Nigeria   PMO - US  Direct Drop              EXW           Air   \n",
       "7  Tanzania   PMO - US  Direct Drop              EXW           Air   \n",
       "\n",
       "  Product Group Sub Classification  \\\n",
       "1           ARV          Pediatric   \n",
       "3           ARV              Adult   \n",
       "4           ARV              Adult   \n",
       "5           ARV          Pediatric   \n",
       "7           ARV              Adult   \n",
       "\n",
       "                                              Vendor Molecule/Test Type  \\\n",
       "1                           Aurobindo Pharma Limited         Nevirapine   \n",
       "3  SUN PHARMACEUTICAL INDUSTRIES LTD (RANBAXY LAB...         Lamivudine   \n",
       "4                           Aurobindo Pharma Limited          Stavudine   \n",
       "5                           Aurobindo Pharma Limited         Zidovudine   \n",
       "7                           Aurobindo Pharma Limited         Nevirapine   \n",
       "\n",
       "     Brand  Line Item Quantity  Pack Price  Unit Price  \\\n",
       "1  Generic                1000        6.20        0.03   \n",
       "3  Generic               31920        3.99        0.07   \n",
       "4  Generic               38000        3.20        0.05   \n",
       "5  Generic                 416        5.35        0.02   \n",
       "7  Generic               16667        3.65        0.06   \n",
       "\n",
       "              Manufacturing Site First Line Designation  Weight (Kilograms)  \\\n",
       "1      Aurobindo Unit III, India                    Yes               358.0   \n",
       "3  Ranbaxy, Paonta Shahib, India                    Yes              1855.0   \n",
       "4      Aurobindo Unit III, India                    Yes              7590.0   \n",
       "5      Aurobindo Unit III, India                    Yes               504.0   \n",
       "7      Aurobindo Unit III, India                    Yes              1478.0   \n",
       "\n",
       "   Freight Cost (USD)  DayToDeliver  \n",
       "1             4521.50             0  \n",
       "3            16007.06             0  \n",
       "4            45450.08             0  \n",
       "5             5920.42             0  \n",
       "7             6212.41             0  "
      ]
     },
     "execution_count": 1698,
     "metadata": {},
     "output_type": "execute_result"
    }
   ],
   "source": [
    "df.head()"
   ]
  },
  {
   "cell_type": "code",
   "execution_count": 1699,
   "metadata": {},
   "outputs": [],
   "source": [
    "from sklearn.metrics import mean_squared_error, r2_score\n",
    "from sklearn.neighbors import KNeighborsRegressor\n",
    "from sklearn.tree import DecisionTreeRegressor\n",
    "from sklearn.ensemble import RandomForestRegressor,AdaBoostRegressor\n",
    "from sklearn.svm import SVR\n",
    "from sklearn.linear_model import LinearRegression, Ridge,Lasso\n",
    "from sklearn.metrics import r2_score, mean_absolute_error, mean_squared_error\n",
    "from sklearn.model_selection import RandomizedSearchCV\n",
    "from catboost import CatBoostRegressor\n",
    "from xgboost import XGBRegressor"
   ]
  },
  {
   "cell_type": "markdown",
   "metadata": {},
   "source": [
    "5.1 Visualize average score distribution to make some conclusion.\n",
    "* Histogram\n",
    "* Kernel Distribution Function (KDE)"
   ]
  },
  {
   "cell_type": "code",
   "execution_count": 1700,
   "metadata": {},
   "outputs": [
    {
     "data": {
      "text/plain": [
       "Country                     31\n",
       "Managed By                   1\n",
       "Fulfill Via                  2\n",
       "Vendor INCO Term             7\n",
       "Shipment Mode                4\n",
       "Product Group                3\n",
       "Sub Classification           4\n",
       "Vendor                      34\n",
       "Molecule/Test Type          42\n",
       "Brand                       21\n",
       "Line Item Quantity        4207\n",
       "Pack Price                 627\n",
       "Unit Price                  91\n",
       "Manufacturing Site          51\n",
       "First Line Designation       2\n",
       "Weight (Kilograms)        2934\n",
       "Freight Cost (USD)        3943\n",
       "DayToDeliver                61\n",
       "dtype: int64"
      ]
     },
     "execution_count": 1700,
     "metadata": {},
     "output_type": "execute_result"
    }
   ],
   "source": [
    "df.nunique()"
   ]
  },
  {
   "cell_type": "code",
   "execution_count": 1701,
   "metadata": {},
   "outputs": [
    {
     "data": {
      "text/plain": [
       "<Axes: xlabel='DayToDeliver', ylabel='Density'>"
      ]
     },
     "execution_count": 1701,
     "metadata": {},
     "output_type": "execute_result"
    },
    {
     "data": {
      "image/png": "[encoded data removed]",
      "text/plain": [
       "<Figure size 640x480 with 1 Axes>"
      ]
     },
     "metadata": {},
     "output_type": "display_data"
    }
   ],
   "source": [
    "sns.distplot(df['DayToDeliver'])"
   ]
  },
  {
   "cell_type": "code",
   "execution_count": 1702,
   "metadata": {},
   "outputs": [
    {
     "data": {
      "image/png": "[encoded data removed]",
      "text/plain": [
       "<Figure size 640x480 with 1 Axes>"
      ]
     },
     "metadata": {},
     "output_type": "display_data"
    }
   ],
   "source": [
    "df['DayToDeliver'].plot(kind='box', title='DayToDeliver')\n",
    "plt.show()\n"
   ]
  },
  {
   "cell_type": "code",
   "execution_count": 1703,
   "metadata": {},
   "outputs": [
    {
     "data": {
      "image/png": "[encoded data removed]",
      "text/plain": [
       "<Figure size 640x480 with 1 Axes>"
      ]
     },
     "metadata": {},
     "output_type": "display_data"
    }
   ],
   "source": [
    "df['Weight (Kilograms)'].plot(kind='box', title='Weight (Kilograms)')\n",
    "plt.show()"
   ]
  },
  {
   "cell_type": "code",
   "execution_count": 1704,
   "metadata": {},
   "outputs": [],
   "source": [
    "# Define the winsorization limits\n",
    "lower_limit = 0.10  # 1th percentile\n",
    "upper_limit = 0.90  # 99th percentile\n",
    "\n",
    "# Perform winsorization on the 'Freight' column\n",
    "df['Weight (Kilograms)'] = np.clip(df['Weight (Kilograms)'], df['Weight (Kilograms)'].quantile(lower_limit), df['Weight (Kilograms)'].quantile(upper_limit))\n"
   ]
  },
  {
   "cell_type": "code",
   "execution_count": 1705,
   "metadata": {},
   "outputs": [
    {
     "data": {
      "image/png": "[encoded data removed]",
      "text/plain": [
       "<Figure size 640x480 with 1 Axes>"
      ]
     },
     "metadata": {},
     "output_type": "display_data"
    }
   ],
   "source": [
    "df['Weight (Kilograms)'].plot(kind='box', title='Weight (Kilograms)')\n",
    "plt.show()"
   ]
  },
  {
   "cell_type": "code",
   "execution_count": 1706,
   "metadata": {},
   "outputs": [],
   "source": [
    "# Define the winsorization limits\n",
    "lower_limit = 0.10  # 1th percentile\n",
    "upper_limit = 0.90  # 99th percentile\n",
    "\n",
    "# Perform winsorization on the 'Freight' column\n",
    "df['Freight Cost (USD)'] = np.clip(df['Freight Cost (USD)'], df['Freight Cost (USD)'].quantile(lower_limit), df['Freight Cost (USD)'].quantile(upper_limit))\n"
   ]
  },
  {
   "cell_type": "code",
   "execution_count": 1707,
   "metadata": {},
   "outputs": [
    {
     "data": {
      "image/png": "[encoded data removed]",
      "text/plain": [
       "<Figure size 640x480 with 1 Axes>"
      ]
     },
     "metadata": {},
     "output_type": "display_data"
    }
   ],
   "source": [
    "df['Freight Cost (USD)'].plot(kind='box', title='Freight Cost (USD)')\n",
    "plt.show()"
   ]
  },
  {
   "cell_type": "code",
   "execution_count": 1708,
   "metadata": {},
   "outputs": [
    {
     "data": {
      "text/plain": [
       "(6698, 18)"
      ]
     },
     "execution_count": 1708,
     "metadata": {},
     "output_type": "execute_result"
    }
   ],
   "source": [
    "df.shape"
   ]
  },
  {
   "cell_type": "code",
   "execution_count": 1709,
   "metadata": {},
   "outputs": [
    {
     "data": {
      "image/png": "[encoded data removed]",
      "text/plain": [
       "<Figure size 640x480 with 1 Axes>"
      ]
     },
     "metadata": {},
     "output_type": "display_data"
    }
   ],
   "source": [
    "df['Unit Price'].plot(kind='box', title='Unit Price')\n",
    "plt.show()"
   ]
  },
  {
   "cell_type": "code",
   "execution_count": 1710,
   "metadata": {},
   "outputs": [],
   "source": [
    "# Define the winsorization limits\n",
    "lower_limit = 0.10  # 1th percentile\n",
    "upper_limit = 0.90  # 99th percentile\n",
    "\n",
    "\n",
    "# Perform winsorization on the 'Pack price' column\n",
    "df['Unit Price']= np.clip(df['Unit Price'], df['Unit Price'].quantile(lower_limit), df['Unit Price'].quantile(upper_limit))\n",
    "\n"
   ]
  },
  {
   "cell_type": "code",
   "execution_count": 1711,
   "metadata": {},
   "outputs": [
    {
     "data": {
      "image/png": "[encoded data removed]",
      "text/plain": [
       "<Figure size 640x480 with 1 Axes>"
      ]
     },
     "metadata": {},
     "output_type": "display_data"
    }
   ],
   "source": [
    "df['Unit Price'].plot(kind='box', title='Unit Price')\n",
    "plt.show()"
   ]
  },
  {
   "cell_type": "code",
   "execution_count": 1712,
   "metadata": {},
   "outputs": [
    {
     "data": {
      "image/png": "[encoded data removed]",
      "text/plain": [
       "<Figure size 640x480 with 1 Axes>"
      ]
     },
     "metadata": {},
     "output_type": "display_data"
    }
   ],
   "source": [
    "df['Pack Price'].plot(kind='box', title='Pack Price')\n",
    "plt.show()"
   ]
  },
  {
   "cell_type": "code",
   "execution_count": 1713,
   "metadata": {},
   "outputs": [],
   "source": [
    "# Define the winsorization limits\n",
    "lower_limit = 0.10  # 1th percentile\n",
    "upper_limit = 0.90  # 99th percentile\n",
    "\n",
    "\n",
    "# Perform winsorization on the 'Pack price' column\n",
    "df['Pack Price']= np.clip(df['Pack Price'], df['Pack Price'].quantile(lower_limit), df['Pack Price'].quantile(upper_limit))\n",
    "\n"
   ]
  },
  {
   "cell_type": "code",
   "execution_count": 1714,
   "metadata": {},
   "outputs": [
    {
     "data": {
      "image/png": "[encoded data removed]",
      "text/plain": [
       "<Figure size 640x480 with 1 Axes>"
      ]
     },
     "metadata": {},
     "output_type": "display_data"
    }
   ],
   "source": [
    "df['Pack Price'].plot(kind='box', title='Pack Price')\n",
    "plt.show()"
   ]
  },
  {
   "cell_type": "code",
   "execution_count": 1715,
   "metadata": {},
   "outputs": [
    {
     "data": {
      "image/png": "[encoded data removed]",
      "text/plain": [
       "<Figure size 640x480 with 1 Axes>"
      ]
     },
     "metadata": {},
     "output_type": "display_data"
    }
   ],
   "source": [
    "df['Line Item Quantity'].plot(kind='box', title='Line Item Quantity')\n",
    "plt.show()"
   ]
  },
  {
   "cell_type": "code",
   "execution_count": 1716,
   "metadata": {},
   "outputs": [],
   "source": [
    "# Define the winsorization limits\n",
    "lower_limit = 0.10  # 1th percentile\n",
    "upper_limit = 0.90  # 99th percentile\n",
    "\n",
    "\n",
    "# Perform winsorization on the 'Line Item Quantity' column\n",
    "df['Line Item Quantity']= np.clip(df['Line Item Quantity'], df['Line Item Quantity'].quantile(lower_limit), df['Line Item Quantity'].quantile(upper_limit))\n",
    "\n"
   ]
  },
  {
   "cell_type": "code",
   "execution_count": 1717,
   "metadata": {},
   "outputs": [
    {
     "data": {
      "image/png": "[encoded data removed]",
      "text/plain": [
       "<Figure size 640x480 with 1 Axes>"
      ]
     },
     "metadata": {},
     "output_type": "display_data"
    }
   ],
   "source": [
    "df['Line Item Quantity'].plot(kind='box', title='Line Item Quantity')\n",
    "plt.show()"
   ]
  },
  {
   "cell_type": "code",
   "execution_count": 1718,
   "metadata": {},
   "outputs": [
    {
     "name": "stdout",
     "output_type": "stream",
     "text": [
      "Column: Country\n",
      "Country\n",
      "Nigeria               814\n",
      "C?e d'Ivoire          800\n",
      "Uganda                704\n",
      "Vietnam               643\n",
      "Haiti                 512\n",
      "Mozambique            492\n",
      "Zimbabwe              459\n",
      "Zambia                457\n",
      "Tanzania              359\n",
      "Rwanda                318\n",
      "South Africa          288\n",
      "Congo, DRC            222\n",
      "Guyana                163\n",
      "Ethiopia              124\n",
      "Burundi                68\n",
      "Cameroon               50\n",
      "South Sudan            49\n",
      "Ghana                  48\n",
      "Dominican Republic     32\n",
      "Namibia                30\n",
      "Swaziland              21\n",
      "Guatemala              10\n",
      "Benin                  10\n",
      "Libya                   8\n",
      "Malawi                  4\n",
      "Afghanistan             3\n",
      "Botswana                3\n",
      "Angola                  3\n",
      "Togo                    2\n",
      "Senegal                 1\n",
      "Kenya                   1\n",
      "Name: count, dtype: int64\n",
      "\n",
      "Column: Managed By\n",
      "Managed By\n",
      "PMO - US    6698\n",
      "Name: count, dtype: int64\n",
      "\n",
      "Column: Fulfill Via\n",
      "Fulfill Via\n",
      "From RDC       4645\n",
      "Direct Drop    2053\n",
      "Name: count, dtype: int64\n",
      "\n",
      "Column: Vendor INCO Term\n",
      "Vendor INCO Term\n",
      "N/A - From RDC    4645\n",
      "EXW               1217\n",
      "FCA                356\n",
      "DDP                302\n",
      "CIP                171\n",
      "DAP                  5\n",
      "DDU                  2\n",
      "Name: count, dtype: int64\n",
      "\n",
      "Column: Shipment Mode\n",
      "Shipment Mode\n",
      "Air            4024\n",
      "Truck          1783\n",
      "Air Charter     572\n",
      "Ocean           319\n",
      "Name: count, dtype: int64\n",
      "\n",
      "Column: Product Group\n",
      "Product Group\n",
      "ARV     6660\n",
      "ANTM      22\n",
      "ACT       16\n",
      "Name: count, dtype: int64\n",
      "\n",
      "Column: Sub Classification\n",
      "Sub Classification\n",
      "Adult        5248\n",
      "Pediatric    1412\n",
      "Malaria        22\n",
      "ACT            16\n",
      "Name: count, dtype: int64\n",
      "\n",
      "Column: Vendor\n",
      "Vendor\n",
      "SCMS from RDC                                                        4645\n",
      "Aurobindo Pharma Limited                                              627\n",
      "ABBVIE LOGISTICS (FORMERLY ABBOTT LOGISTICS BV)                       317\n",
      "MYLAN LABORATORIES LTD (FORMERLY MATRIX LABORATORIES)                 304\n",
      "HETERO LABS LIMITED                                                   247\n",
      "CIPLA LIMITED                                                         156\n",
      "STRIDES ARCOLAB LIMITED                                                90\n",
      "MERCK SHARP & DOHME IDEA GMBH (FORMALLY MERCK SHARP & DOHME B.V.)      50\n",
      "BRISTOL-MYERS SQUIBB                                                   42\n",
      "ASPEN PHARMACARE                                                       35\n",
      "MICRO LABS LIMITED                                                     34\n",
      "EMCURE PHARMACEUTICALS LTD                                             31\n",
      "Hoffmann-La Roche ltd Basel                                            22\n",
      "IDA FOUNDATION                                                         17\n",
      "LAWRENCE LABORATORIES (SUBSIDIARY OF BRISTOL MYERS SQUIBB)             17\n",
      "GLAXOSMITHKLINE EXPORT LIMITED                                         15\n",
      "SUN PHARMACEUTICAL INDUSTRIES LTD (RANBAXY LABORATORIES LIMITED)        9\n",
      "AMSTELFARMA B.V.                                                        7\n",
      "NOVARTIS PHARMA SERVICES AG                                             5\n",
      "GILEAD SCIENCES IRELAND, INC.                                           4\n",
      "IMRES B.V.                                                              4\n",
      "JANSSEN SCIENCES IRELAND UC (FORMERLY JANSSEN R&D IRELAND)              3\n",
      "MISSIONPHARMA A/S                                                       3\n",
      "SWORDS LABORATORIES                                                     3\n",
      "B&C GROUP S.A.                                                          2\n",
      "INTERNATIONAL HEALTHCARE DISTRIBUTORS                                   1\n",
      "ABBOTT LABORATORIES (PUERTO RICO)                                       1\n",
      "PUETRO RICO PHARMACEUTICAL, INC.                                        1\n",
      "IDIS LIMITED                                                            1\n",
      "ABBVIE, SRL (FORMALLY ABBOTT LABORATORIES INTERNATIONAL CO.)            1\n",
      "ETHNOR DEL ISTMO S.A.                                                   1\n",
      "THE MEDICAL EXPORT GROUP BV                                             1\n",
      "ACTION MEDEOR E.V.                                                      1\n",
      "SYSMEX AMERICA INC                                                      1\n",
      "Name: count, dtype: int64\n",
      "\n",
      "Column: Molecule/Test Type\n",
      "Molecule/Test Type\n",
      "Efavirenz                                                829\n",
      "Nevirapine                                               731\n",
      "Lamivudine/Nevirapine/Zidovudine                         648\n",
      "Lamivudine/Zidovudine                                    581\n",
      "Lopinavir/Ritonavir                                      482\n",
      "Lamivudine                                               422\n",
      "Zidovudine                                               394\n",
      "Abacavir                                                 323\n",
      "Lamivudine/Tenofovir Disoproxil Fumarate                 289\n",
      "Efavirenz/Lamivudine/Tenofovir Disoproxil Fumarate       254\n",
      "Lamivudine/Nevirapine/Stavudine                          248\n",
      "Tenofovir Disoproxil Fumarate                            244\n",
      "Stavudine                                                186\n",
      "Emtricitabine/Tenofovir Disoproxil Fumarate              184\n",
      "Didanosine                                               147\n",
      "Lamivudine/Stavudine                                     144\n",
      "Abacavir/Lamivudine                                      125\n",
      "Efavirenz/Emtricitabine/Tenofovir Disoproxil Fumarate    120\n",
      "Ritonavir                                                 88\n",
      "Atazanavir/Ritonavir                                      44\n",
      "Indinavir                                                 29\n",
      "Saquinavir                                                25\n",
      "Abacavir/Lamivudine/Zidovudine                            23\n",
      "Darunavir                                                 22\n",
      "Atazanavir                                                18\n",
      "Didanosine EC                                             17\n",
      "Etravirine                                                14\n",
      "Raltegravir                                               13\n",
      "Sulfadoxine/Pyrimethamine                                 13\n",
      "Artemether/Lumefantrine                                   12\n",
      "Nelfinavir (as mesilate)                                   7\n",
      "Lamivudine/Zidovudine+Efavirenz                            5\n",
      "Artesunate+Amodiaquine                                     4\n",
      "Chloroquine base (as phosphate)                            3\n",
      "Lamivudine/Zidovudine+Nevirapine                           2\n",
      "Quinine (as dihydrochloride)                               2\n",
      "Lamivudine/Zidovudine+Abacavir                             1\n",
      "Primaquine base (as diphosphate)                           1\n",
      "Quinine (as sulfate)                                       1\n",
      "Mefloquine (as hydrochloride)                              1\n",
      "Quinine                                                    1\n",
      "Nelfinavir                                                 1\n",
      "Name: count, dtype: int64\n",
      "\n",
      "Column: Brand\n",
      "Brand\n",
      "Generic            5976\n",
      "Aluvia              194\n",
      "Kaletra              91\n",
      "Norvir               88\n",
      "Truvada              69\n",
      "Videx                41\n",
      "Stocrin/Sustiva      33\n",
      "Crixivan             29\n",
      "Invirase             25\n",
      "Viread               22\n",
      "Prezista             22\n",
      "Videx EC             17\n",
      "Intelence            14\n",
      "Ziagen               13\n",
      "Trizivir             13\n",
      "Isentress            13\n",
      "Atripla              12\n",
      "Coartem              12\n",
      "Viracept              8\n",
      "Reyataz               5\n",
      "Retrovir              1\n",
      "Name: count, dtype: int64\n",
      "\n",
      "Column: Manufacturing Site\n",
      "Manufacturing Site\n",
      "Aurobindo Unit III, India                                                   2387\n",
      "Mylan (formerly Matrix) Nashik                                              1289\n",
      "Hetero Unit III Hyderabad IN                                                 774\n",
      "Cipla, Goa, India                                                            548\n",
      "Strides, Bangalore, India.                                                   497\n",
      "ABBVIE Ludwigshafen Germany                                                  294\n",
      "ABBVIE (Abbott) Logis. UK                                                    129\n",
      "Aurobindo Unit VII, IN                                                       104\n",
      "Aspen-OSD, Port Elizabeth, SA                                                 92\n",
      "MSD, Haarlem, NL                                                              78\n",
      "Micro labs, Verna, Goa, India                                                 52\n",
      "Cipla, Kurkumbh, India                                                        47\n",
      "Emcure Plot No.P-2, I.T-B.T. Park, Phase II, MIDC, Hinjwadi, Pune, India      46\n",
      "BMS Meymac, France                                                            41\n",
      "Hetero, Jadcherla, unit 5, IN                                                 37\n",
      "Cipla, Patalganga, India                                                      32\n",
      "Ranbaxy, Paonta Shahib, India                                                 27\n",
      "Roche Basel                                                                   23\n",
      "Mylan,  H-12 & H-13, India                                                    20\n",
      "Bristol-Myers Squibb Anagni IT                                                19\n",
      "Gilead(Nycomed) Oranienburg DE                                                19\n",
      "Janssen-Cilag, Latina, IT                                                     17\n",
      "GSK Ware (UK)                                                                 13\n",
      "GSK Mississauga (Canada)                                                      13\n",
      "Cipla Ltd A-42 MIDC Mahar. IN                                                 11\n",
      "Roche Madrid                                                                  10\n",
      "Ranbaxy per Shasun Pharma                                                      9\n",
      "Micro Labs, Hosur, India                                                       7\n",
      "Macleods Daman Plant INDIA                                                     7\n",
      "Novartis Pharma Suffern, USA                                                   7\n",
      "ABBVIE (Abbott) France                                                         7\n",
      "Novartis Pharma AG, Switzerland                                                5\n",
      "MSD Manati, Puerto Rico, (USA)                                                 4\n",
      "Micro Labs Ltd. (Brown & Burk), India                                          4\n",
      "Ipca Dadra/Nagar Haveli IN                                                     4\n",
      "MSD Elkton USA                                                                 3\n",
      "BMS Evansville, US                                                             3\n",
      "Ranbaxy per Shasun Pharma Ltd                                                  2\n",
      "MSD Patheon, Canada                                                            2\n",
      "Guilin OSD site, No 17, China                                                  2\n",
      "ABBVIE (Abbott) St. P'burg USA                                                 2\n",
      "Medopharm Malur Factory, INDIA                                                 2\n",
      "Remedica, Limassol, Cyprus                                                     1\n",
      "Gland Pharma Ltd Pally Factory                                                 1\n",
      "GSK Barnard Castle UK                                                          1\n",
      "Janssen Ortho LLC, Puerto Rico                                                 1\n",
      "Gland Pharma, Hyderabad, IN                                                    1\n",
      "Medochemie Factory A, CY                                                       1\n",
      "Mepro Pharm Wadhwan Unit II                                                    1\n",
      "Meditab (for Cipla) Daman IN                                                   1\n",
      "Weifa A.S., Hausmanngt. 6, P.O. Box 9113 Gr?nland, 0133, Oslo, Norway          1\n",
      "Name: count, dtype: int64\n",
      "\n",
      "Column: First Line Designation\n",
      "First Line Designation\n",
      "Yes    4632\n",
      "No     2066\n",
      "Name: count, dtype: int64\n",
      "\n"
     ]
    }
   ],
   "source": [
    "unique_counts = {}\n",
    "for column in df.select_dtypes(include=['object']):\n",
    "    unique_counts[column] = df[column].value_counts()\n",
    "\n",
    "# Print the unique values and their counts\n",
    "for column, values_counts in unique_counts.items():\n",
    "    print(\"Column:\", column)\n",
    "    print(values_counts)\n",
    "    print()"
   ]
  },
  {
   "cell_type": "code",
   "execution_count": 1719,
   "metadata": {},
   "outputs": [],
   "source": [
    "df=df.drop(['Managed By','Product Group','Brand','DayToDeliver','Molecule/Test Type','Manufacturing Site'],axis=1)"
   ]
  },
  {
   "cell_type": "code",
   "execution_count": 1720,
   "metadata": {},
   "outputs": [
    {
     "data": {
      "text/html": [
       "<div>\n",
       "<style scoped>\n",
       "    .dataframe tbody tr th:only-of-type {\n",
       "        vertical-align: middle;\n",
       "    }\n",
       "\n",
       "    .dataframe tbody tr th {\n",
       "        vertical-align: top;\n",
       "    }\n",
       "\n",
       "    .dataframe thead th {\n",
       "        text-align: right;\n",
       "    }\n",
       "</style>\n",
       "<table border=\"1\" class=\"dataframe\">\n",
       "  <thead>\n",
       "    <tr style=\"text-align: right;\">\n",
       "      <th></th>\n",
       "      <th>Country_C?e d'Ivoire</th>\n",
       "      <th>Country_Haiti</th>\n",
       "      <th>Country_Mozambique</th>\n",
       "      <th>Country_Nigeria</th>\n",
       "      <th>Country_Other</th>\n",
       "      <th>Country_Rwanda</th>\n",
       "      <th>Country_Tanzania</th>\n",
       "      <th>Country_Uganda</th>\n",
       "      <th>Country_Vietnam</th>\n",
       "      <th>Country_Zambia</th>\n",
       "      <th>Country_Zimbabwe</th>\n",
       "    </tr>\n",
       "  </thead>\n",
       "  <tbody>\n",
       "    <tr>\n",
       "      <th>1</th>\n",
       "      <td>False</td>\n",
       "      <td>False</td>\n",
       "      <td>False</td>\n",
       "      <td>False</td>\n",
       "      <td>False</td>\n",
       "      <td>False</td>\n",
       "      <td>False</td>\n",
       "      <td>False</td>\n",
       "      <td>True</td>\n",
       "      <td>False</td>\n",
       "      <td>False</td>\n",
       "    </tr>\n",
       "    <tr>\n",
       "      <th>3</th>\n",
       "      <td>False</td>\n",
       "      <td>False</td>\n",
       "      <td>False</td>\n",
       "      <td>False</td>\n",
       "      <td>False</td>\n",
       "      <td>False</td>\n",
       "      <td>False</td>\n",
       "      <td>False</td>\n",
       "      <td>True</td>\n",
       "      <td>False</td>\n",
       "      <td>False</td>\n",
       "    </tr>\n",
       "    <tr>\n",
       "      <th>4</th>\n",
       "      <td>False</td>\n",
       "      <td>False</td>\n",
       "      <td>False</td>\n",
       "      <td>False</td>\n",
       "      <td>False</td>\n",
       "      <td>False</td>\n",
       "      <td>False</td>\n",
       "      <td>False</td>\n",
       "      <td>True</td>\n",
       "      <td>False</td>\n",
       "      <td>False</td>\n",
       "    </tr>\n",
       "    <tr>\n",
       "      <th>5</th>\n",
       "      <td>False</td>\n",
       "      <td>False</td>\n",
       "      <td>False</td>\n",
       "      <td>True</td>\n",
       "      <td>False</td>\n",
       "      <td>False</td>\n",
       "      <td>False</td>\n",
       "      <td>False</td>\n",
       "      <td>False</td>\n",
       "      <td>False</td>\n",
       "      <td>False</td>\n",
       "    </tr>\n",
       "    <tr>\n",
       "      <th>7</th>\n",
       "      <td>False</td>\n",
       "      <td>False</td>\n",
       "      <td>False</td>\n",
       "      <td>False</td>\n",
       "      <td>False</td>\n",
       "      <td>False</td>\n",
       "      <td>True</td>\n",
       "      <td>False</td>\n",
       "      <td>False</td>\n",
       "      <td>False</td>\n",
       "      <td>False</td>\n",
       "    </tr>\n",
       "    <tr>\n",
       "      <th>...</th>\n",
       "      <td>...</td>\n",
       "      <td>...</td>\n",
       "      <td>...</td>\n",
       "      <td>...</td>\n",
       "      <td>...</td>\n",
       "      <td>...</td>\n",
       "      <td>...</td>\n",
       "      <td>...</td>\n",
       "      <td>...</td>\n",
       "      <td>...</td>\n",
       "      <td>...</td>\n",
       "    </tr>\n",
       "    <tr>\n",
       "      <th>10316</th>\n",
       "      <td>False</td>\n",
       "      <td>False</td>\n",
       "      <td>False</td>\n",
       "      <td>True</td>\n",
       "      <td>False</td>\n",
       "      <td>False</td>\n",
       "      <td>False</td>\n",
       "      <td>False</td>\n",
       "      <td>False</td>\n",
       "      <td>False</td>\n",
       "      <td>False</td>\n",
       "    </tr>\n",
       "    <tr>\n",
       "      <th>10317</th>\n",
       "      <td>False</td>\n",
       "      <td>False</td>\n",
       "      <td>False</td>\n",
       "      <td>True</td>\n",
       "      <td>False</td>\n",
       "      <td>False</td>\n",
       "      <td>False</td>\n",
       "      <td>False</td>\n",
       "      <td>False</td>\n",
       "      <td>False</td>\n",
       "      <td>False</td>\n",
       "    </tr>\n",
       "    <tr>\n",
       "      <th>10318</th>\n",
       "      <td>False</td>\n",
       "      <td>False</td>\n",
       "      <td>False</td>\n",
       "      <td>False</td>\n",
       "      <td>False</td>\n",
       "      <td>False</td>\n",
       "      <td>False</td>\n",
       "      <td>False</td>\n",
       "      <td>False</td>\n",
       "      <td>False</td>\n",
       "      <td>True</td>\n",
       "    </tr>\n",
       "    <tr>\n",
       "      <th>10319</th>\n",
       "      <td>False</td>\n",
       "      <td>False</td>\n",
       "      <td>False</td>\n",
       "      <td>False</td>\n",
       "      <td>False</td>\n",
       "      <td>False</td>\n",
       "      <td>False</td>\n",
       "      <td>False</td>\n",
       "      <td>False</td>\n",
       "      <td>False</td>\n",
       "      <td>True</td>\n",
       "    </tr>\n",
       "    <tr>\n",
       "      <th>10320</th>\n",
       "      <td>True</td>\n",
       "      <td>False</td>\n",
       "      <td>False</td>\n",
       "      <td>False</td>\n",
       "      <td>False</td>\n",
       "      <td>False</td>\n",
       "      <td>False</td>\n",
       "      <td>False</td>\n",
       "      <td>False</td>\n",
       "      <td>False</td>\n",
       "      <td>False</td>\n",
       "    </tr>\n",
       "  </tbody>\n",
       "</table>\n",
       "<p>6698 rows × 11 columns</p>\n",
       "</div>"
      ],
      "text/plain": [
       "       Country_C?e d'Ivoire  Country_Haiti  Country_Mozambique  \\\n",
       "1                     False          False               False   \n",
       "3                     False          False               False   \n",
       "4                     False          False               False   \n",
       "5                     False          False               False   \n",
       "7                     False          False               False   \n",
       "...                     ...            ...                 ...   \n",
       "10316                 False          False               False   \n",
       "10317                 False          False               False   \n",
       "10318                 False          False               False   \n",
       "10319                 False          False               False   \n",
       "10320                  True          False               False   \n",
       "\n",
       "       Country_Nigeria  Country_Other  Country_Rwanda  Country_Tanzania  \\\n",
       "1                False          False           False             False   \n",
       "3                False          False           False             False   \n",
       "4                False          False           False             False   \n",
       "5                 True          False           False             False   \n",
       "7                False          False           False              True   \n",
       "...                ...            ...             ...               ...   \n",
       "10316             True          False           False             False   \n",
       "10317             True          False           False             False   \n",
       "10318            False          False           False             False   \n",
       "10319            False          False           False             False   \n",
       "10320            False          False           False             False   \n",
       "\n",
       "       Country_Uganda  Country_Vietnam  Country_Zambia  Country_Zimbabwe  \n",
       "1               False             True           False             False  \n",
       "3               False             True           False             False  \n",
       "4               False             True           False             False  \n",
       "5               False            False           False             False  \n",
       "7               False            False           False             False  \n",
       "...               ...              ...             ...               ...  \n",
       "10316           False            False           False             False  \n",
       "10317           False            False           False             False  \n",
       "10318           False            False           False              True  \n",
       "10319           False            False           False              True  \n",
       "10320           False            False           False             False  \n",
       "\n",
       "[6698 rows x 11 columns]"
      ]
     },
     "execution_count": 1720,
     "metadata": {},
     "output_type": "execute_result"
    }
   ],
   "source": [
    "top_categories = 10\n",
    "top_n_categories = df['Country'].value_counts().nlargest(top_categories).index\n",
    "df.loc[~df['Country'].isin(top_n_categories), 'Country'] = 'Other'\n",
    "encoded_df = pd.get_dummies(df['Country'], prefix='Country')\n",
    "encoded_df"
   ]
  },
  {
   "cell_type": "code",
   "execution_count": 1721,
   "metadata": {},
   "outputs": [],
   "source": [
    "X = df.drop('Freight Cost (USD)',axis=1)\n",
    "y=df['Freight Cost (USD)']"
   ]
  },
  {
   "cell_type": "code",
   "execution_count": 1722,
   "metadata": {},
   "outputs": [],
   "source": [
    "# Create Column Transformer with 3 types of transformers\n",
    "num_features = X.select_dtypes(exclude=\"object\").columns\n",
    "cat_features = X.select_dtypes(include=\"object\").columns\n",
    "\n",
    "from sklearn.preprocessing import OneHotEncoder, StandardScaler\n",
    "from sklearn.compose import ColumnTransformer\n",
    "\n",
    "numeric_transformer = StandardScaler()\n",
    "oh_transformer = OneHotEncoder()\n",
    "\n",
    "preprocessor = ColumnTransformer(\n",
    "    [\n",
    "        (\"OneHotEncoder\", oh_transformer, cat_features),\n",
    "         (\"StandardScaler\", numeric_transformer, num_features),        \n",
    "    ]\n",
    ")"
   ]
  },
  {
   "cell_type": "code",
   "execution_count": 1723,
   "metadata": {},
   "outputs": [
    {
     "data": {
      "text/plain": [
       "Index(['Line Item Quantity', 'Pack Price', 'Unit Price', 'Weight (Kilograms)'], dtype='object')"
      ]
     },
     "execution_count": 1723,
     "metadata": {},
     "output_type": "execute_result"
    }
   ],
   "source": [
    "num_features"
   ]
  },
  {
   "cell_type": "code",
   "execution_count": 1724,
   "metadata": {},
   "outputs": [],
   "source": [
    "X = preprocessor.fit_transform(X)"
   ]
  },
  {
   "cell_type": "code",
   "execution_count": 1725,
   "metadata": {},
   "outputs": [
    {
     "data": {
      "text/plain": [
       "((5358, 68), (1340, 68))"
      ]
     },
     "execution_count": 1725,
     "metadata": {},
     "output_type": "execute_result"
    }
   ],
   "source": [
    "# separate dataset into train and test\n",
    "from sklearn.model_selection import train_test_split\n",
    "X_train, X_test, y_train, y_test = train_test_split(X,y,test_size=0.2,random_state=42)\n",
    "X_train.shape, X_test.shape"
   ]
  },
  {
   "cell_type": "code",
   "execution_count": 1726,
   "metadata": {},
   "outputs": [],
   "source": [
    "def evaluate_model(true, predicted):\n",
    "    mae = mean_absolute_error(true, predicted)\n",
    "    mse = mean_squared_error(true, predicted)\n",
    "    rmse = np.sqrt(mean_squared_error(true, predicted))\n",
    "    r2_square = r2_score(true, predicted)\n",
    "    return mae, rmse, r2_square"
   ]
  },
  {
   "cell_type": "code",
   "execution_count": 1727,
   "metadata": {},
   "outputs": [
    {
     "name": "stdout",
     "output_type": "stream",
     "text": [
      "Linear Regression\n",
      "Model performance for Training set\n",
      "- Root Mean Squared Error: 6166.1679\n",
      "- Mean Absolute Error: 4721.8414\n",
      "- R2 Score: 0.5247\n",
      "----------------------------------\n",
      "Model performance for Test set\n",
      "- Root Mean Squared Error: 6180.2823\n",
      "- Mean Absolute Error: 4775.9485\n",
      "- R2 Score: 0.5120\n",
      "===================================\n",
      "\n",
      "\n"
     ]
    },
    {
     "name": "stdout",
     "output_type": "stream",
     "text": [
      "Lasso\n",
      "Model performance for Training set\n",
      "- Root Mean Squared Error: 6169.0166\n",
      "- Mean Absolute Error: 4725.8603\n",
      "- R2 Score: 0.5242\n",
      "----------------------------------\n",
      "Model performance for Test set\n",
      "- Root Mean Squared Error: 6179.5838\n",
      "- Mean Absolute Error: 4773.8018\n",
      "- R2 Score: 0.5121\n",
      "===================================\n",
      "\n",
      "\n",
      "Ridge\n",
      "Model performance for Training set\n",
      "- Root Mean Squared Error: 6166.9665\n",
      "- Mean Absolute Error: 4723.2340\n",
      "- R2 Score: 0.5246\n",
      "----------------------------------\n",
      "Model performance for Test set\n",
      "- Root Mean Squared Error: 6179.0488\n",
      "- Mean Absolute Error: 4773.9301\n",
      "- R2 Score: 0.5122\n",
      "===================================\n",
      "\n",
      "\n",
      "K-Neighbors Regressor\n",
      "Model performance for Training set\n",
      "- Root Mean Squared Error: 4493.5411\n",
      "- Mean Absolute Error: 3036.8135\n",
      "- R2 Score: 0.7476\n",
      "----------------------------------\n",
      "Model performance for Test set\n",
      "- Root Mean Squared Error: 5374.2334\n",
      "- Mean Absolute Error: 3760.0487\n",
      "- R2 Score: 0.6310\n",
      "===================================\n",
      "\n",
      "\n",
      "Decision Tree\n",
      "Model performance for Training set\n",
      "- Root Mean Squared Error: 719.1262\n",
      "- Mean Absolute Error: 88.9307\n",
      "- R2 Score: 0.9935\n",
      "----------------------------------\n",
      "Model performance for Test set\n",
      "- Root Mean Squared Error: 5899.8244\n",
      "- Mean Absolute Error: 3296.5396\n",
      "- R2 Score: 0.5553\n",
      "===================================\n",
      "\n",
      "\n",
      "Random Forest Regressor\n",
      "Model performance for Training set\n",
      "- Root Mean Squared Error: 1846.5348\n",
      "- Mean Absolute Error: 1157.0967\n",
      "- R2 Score: 0.9574\n",
      "----------------------------------\n",
      "Model performance for Test set\n",
      "- Root Mean Squared Error: 4496.0841\n",
      "- Mean Absolute Error: 2913.5518\n",
      "- R2 Score: 0.7417\n",
      "===================================\n",
      "\n",
      "\n",
      "XGBRegressor\n",
      "Model performance for Training set\n",
      "- Root Mean Squared Error: 2478.0468\n",
      "- Mean Absolute Error: 1678.6922\n",
      "- R2 Score: 0.9232\n",
      "----------------------------------\n",
      "Model performance for Test set\n",
      "- Root Mean Squared Error: 4516.1339\n",
      "- Mean Absolute Error: 3001.9980\n",
      "- R2 Score: 0.7394\n",
      "===================================\n",
      "\n",
      "\n",
      "CatBoosting Regressor\n",
      "Model performance for Training set\n",
      "- Root Mean Squared Error: 3490.7673\n",
      "- Mean Absolute Error: 2430.9062\n",
      "- R2 Score: 0.8477\n",
      "----------------------------------\n",
      "Model performance for Test set\n",
      "- Root Mean Squared Error: 4558.7937\n",
      "- Mean Absolute Error: 3057.6750\n",
      "- R2 Score: 0.7345\n",
      "===================================\n",
      "\n",
      "\n",
      "AdaBoost Regressor\n",
      "Model performance for Training set\n",
      "- Root Mean Squared Error: 6552.7649\n",
      "- Mean Absolute Error: 5585.6026\n",
      "- R2 Score: 0.4632\n",
      "----------------------------------\n",
      "Model performance for Test set\n",
      "- Root Mean Squared Error: 6422.8910\n",
      "- Mean Absolute Error: 5462.2936\n",
      "- R2 Score: 0.4729\n",
      "===================================\n",
      "\n",
      "\n"
     ]
    }
   ],
   "source": [
    "models = {\n",
    "    \"Linear Regression\": LinearRegression(),\n",
    "    \"Lasso\": Lasso(),\n",
    "    \"Ridge\": Ridge(),\n",
    "    \"K-Neighbors Regressor\": KNeighborsRegressor(),\n",
    "    \"Decision Tree\": DecisionTreeRegressor(),\n",
    "    \"Random Forest Regressor\": RandomForestRegressor(),\n",
    "    \"XGBRegressor\": XGBRegressor(), \n",
    "    \"CatBoosting Regressor\": CatBoostRegressor(verbose=False),\n",
    "    \"AdaBoost Regressor\": AdaBoostRegressor()\n",
    "}\n",
    "model_list = []\n",
    "r2_list =[]\n",
    "\n",
    "for i in range(len(list(models))):\n",
    "    model = list(models.values())[i]\n",
    "    model.fit(X_train, y_train) # Train model\n",
    "\n",
    "    # Make predictions\n",
    "    y_train_pred = model.predict(X_train)\n",
    "    y_test_pred = model.predict(X_test)\n",
    "    \n",
    "    # Evaluate Train and Test dataset\n",
    "    model_train_mae , model_train_rmse, model_train_r2 = evaluate_model(y_train, y_train_pred)\n",
    "\n",
    "    model_test_mae , model_test_rmse, model_test_r2 = evaluate_model(y_test, y_test_pred)\n",
    "\n",
    "    \n",
    "    print(list(models.keys())[i])\n",
    "    model_list.append(list(models.keys())[i])\n",
    "    \n",
    "    print('Model performance for Training set')\n",
    "    print(\"- Root Mean Squared Error: {:.4f}\".format(model_train_rmse))\n",
    "    print(\"- Mean Absolute Error: {:.4f}\".format(model_train_mae))\n",
    "    print(\"- R2 Score: {:.4f}\".format(model_train_r2))\n",
    "\n",
    "    print('----------------------------------')\n",
    "    \n",
    "    print('Model performance for Test set')\n",
    "    print(\"- Root Mean Squared Error: {:.4f}\".format(model_test_rmse))\n",
    "    print(\"- Mean Absolute Error: {:.4f}\".format(model_test_mae))\n",
    "    print(\"- R2 Score: {:.4f}\".format(model_test_r2))\n",
    "    r2_list.append(model_test_r2)\n",
    "    \n",
    "    print('='*35)\n",
    "    print('\\n')\n"
   ]
  },
  {
   "cell_type": "code",
   "execution_count": 1728,
   "metadata": {},
   "outputs": [
    {
     "data": {
      "text/html": [
       "<div>\n",
       "<style scoped>\n",
       "    .dataframe tbody tr th:only-of-type {\n",
       "        vertical-align: middle;\n",
       "    }\n",
       "\n",
       "    .dataframe tbody tr th {\n",
       "        vertical-align: top;\n",
       "    }\n",
       "\n",
       "    .dataframe thead th {\n",
       "        text-align: right;\n",
       "    }\n",
       "</style>\n",
       "<table border=\"1\" class=\"dataframe\">\n",
       "  <thead>\n",
       "    <tr style=\"text-align: right;\">\n",
       "      <th></th>\n",
       "      <th>Model Name</th>\n",
       "      <th>R2_Score</th>\n",
       "    </tr>\n",
       "  </thead>\n",
       "  <tbody>\n",
       "    <tr>\n",
       "      <th>5</th>\n",
       "      <td>Random Forest Regressor</td>\n",
       "      <td>0.741718</td>\n",
       "    </tr>\n",
       "    <tr>\n",
       "      <th>6</th>\n",
       "      <td>XGBRegressor</td>\n",
       "      <td>0.739409</td>\n",
       "    </tr>\n",
       "    <tr>\n",
       "      <th>7</th>\n",
       "      <td>CatBoosting Regressor</td>\n",
       "      <td>0.734463</td>\n",
       "    </tr>\n",
       "    <tr>\n",
       "      <th>3</th>\n",
       "      <td>K-Neighbors Regressor</td>\n",
       "      <td>0.630973</td>\n",
       "    </tr>\n",
       "    <tr>\n",
       "      <th>4</th>\n",
       "      <td>Decision Tree</td>\n",
       "      <td>0.555263</td>\n",
       "    </tr>\n",
       "    <tr>\n",
       "      <th>2</th>\n",
       "      <td>Ridge</td>\n",
       "      <td>0.512170</td>\n",
       "    </tr>\n",
       "    <tr>\n",
       "      <th>1</th>\n",
       "      <td>Lasso</td>\n",
       "      <td>0.512086</td>\n",
       "    </tr>\n",
       "    <tr>\n",
       "      <th>0</th>\n",
       "      <td>Linear Regression</td>\n",
       "      <td>0.511975</td>\n",
       "    </tr>\n",
       "    <tr>\n",
       "      <th>8</th>\n",
       "      <td>AdaBoost Regressor</td>\n",
       "      <td>0.472908</td>\n",
       "    </tr>\n",
       "  </tbody>\n",
       "</table>\n",
       "</div>"
      ],
      "text/plain": [
       "                Model Name  R2_Score\n",
       "5  Random Forest Regressor  0.741718\n",
       "6             XGBRegressor  0.739409\n",
       "7    CatBoosting Regressor  0.734463\n",
       "3    K-Neighbors Regressor  0.630973\n",
       "4            Decision Tree  0.555263\n",
       "2                    Ridge  0.512170\n",
       "1                    Lasso  0.512086\n",
       "0        Linear Regression  0.511975\n",
       "8       AdaBoost Regressor  0.472908"
      ]
     },
     "execution_count": 1728,
     "metadata": {},
     "output_type": "execute_result"
    }
   ],
   "source": [
    "pd.DataFrame(list(zip(model_list, r2_list)), columns=['Model Name', 'R2_Score']).sort_values(by=[\"R2_Score\"],ascending=False)\n"
   ]
  }
 ],
 "metadata": {
  "kernelspec": {
   "display_name": "Python 3",
   "language": "python",
   "name": "python3"
  },
  "language_info": {
   "codemirror_mode": {
    "name": "ipython",
    "version": 3
   },
   "file_extension": ".py",
   "mimetype": "text/x-python",
   "name": "python",
   "nbconvert_exporter": "python",
   "pygments_lexer": "ipython3",
   "version": "3.8.17"
  },
  "orig_nbformat": 4
 },
 "nbformat": 4,
 "nbformat_minor": 2
}
